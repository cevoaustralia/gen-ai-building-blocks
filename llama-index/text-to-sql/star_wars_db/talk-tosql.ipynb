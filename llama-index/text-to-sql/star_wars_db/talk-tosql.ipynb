{
 "cells": [
  {
   "cell_type": "code",
   "execution_count": 1,
   "metadata": {},
   "outputs": [
    {
     "name": "stdout",
     "output_type": "stream",
     "text": [
      "Python 3.12.0\n"
     ]
    }
   ],
   "source": [
    "! python --version"
   ]
  },
  {
   "cell_type": "code",
   "execution_count": 2,
   "metadata": {},
   "outputs": [],
   "source": [
    "%%capture\n",
    "! pip install llama-index\n",
    "! pip install psycopg2-binary\n",
    "! pip install SQLAlchemy\n",
    "! pip install python-dotenv\n",
    "! pip install llama-index-llms-bedrock\n",
    "! pip install llama-index-embeddings-bedrock"
   ]
  },
  {
   "cell_type": "code",
   "execution_count": 3,
   "metadata": {},
   "outputs": [],
   "source": [
    "from sqlalchemy import (\n",
    "    create_engine,\n",
    ")\n",
    "import os\n",
    "\n",
    "from dotenv import load_dotenv\n",
    "\n",
    "load_dotenv(verbose=True, dotenv_path=\"../../../.env\")\n",
    "\n",
    "engine = create_engine(f\"postgresql+psycopg2://postgres:{\n",
    "                       os.environ[\"PG_VECTOR_PW\"]}@localhost:5432/{os.environ[\"PG_VECTOR_DB\"]}\")"
   ]
  },
  {
   "cell_type": "code",
   "execution_count": 4,
   "metadata": {},
   "outputs": [
    {
     "name": "stdout",
     "output_type": "stream",
     "text": [
      "[(1, 'Luke Skywalker', 172, 77.0, 'blond', 'fair', 'blue', '19BBY', 'male', 1, datetime.datetime(2014, 12, 9, 13, 50, 51, 644000), datetime.datetime(2014, 12, 20, 21, 17, 56, 891000), 'https://swapi.co/api/people/1/'), (2, 'C-3PO', 167, 75.0, 'n/a', 'gold', 'yellow', '112BBY', 'n/a', 1, datetime.datetime(2014, 12, 10, 15, 10, 51, 357000), datetime.datetime(2014, 12, 20, 21, 17, 50, 309000), 'https://swapi.co/api/people/2/'), (3, 'R2-D2', 96, 32.0, 'n/a', 'white, blue', 'red', '33BBY', 'n/a', 8, datetime.datetime(2014, 12, 10, 15, 11, 50, 376000), datetime.datetime(2014, 12, 20, 21, 17, 50, 311000), 'https://swapi.co/api/people/3/'), (4, 'Darth Vader', 202, 136.0, 'none', 'white', 'yellow', '41.9BBY', 'male', 1, datetime.datetime(2014, 12, 10, 15, 18, 20, 704000), datetime.datetime(2014, 12, 20, 21, 17, 50, 313000), 'https://swapi.co/api/people/4/'), (5, 'Leia Organa', 150, 49.0, 'brown', 'light', 'brown', '19BBY', 'female', 2, datetime.datetime(2014, 12, 10, 15, 20, 9, 791000), datetime.datetime(2014, 12, 20, 21, 17, 50, 315000), 'https://swapi.co/api/people/5/'), (6, 'Owen Lars', 178, 120.0, 'brown, grey', 'light', 'blue', '52BBY', 'male', 1, datetime.datetime(2014, 12, 10, 15, 52, 14, 24000), datetime.datetime(2014, 12, 20, 21, 17, 50, 317000), 'https://swapi.co/api/people/6/'), (7, 'Beru Whitesun lars', 165, 75.0, 'brown', 'light', 'blue', '47BBY', 'female', 1, datetime.datetime(2014, 12, 10, 15, 53, 41, 121000), datetime.datetime(2014, 12, 20, 21, 17, 50, 319000), 'https://swapi.co/api/people/7/'), (8, 'R5-D4', 97, 32.0, 'n/a', 'white, red', 'red', None, 'n/a', 1, datetime.datetime(2014, 12, 10, 15, 57, 50, 959000), datetime.datetime(2014, 12, 20, 21, 17, 50, 321000), 'https://swapi.co/api/people/8/'), (9, 'Biggs Darklighter', 183, 84.0, 'black', 'light', 'brown', '24BBY', 'male', 1, datetime.datetime(2014, 12, 10, 15, 59, 50, 509000), datetime.datetime(2014, 12, 20, 21, 17, 50, 323000), 'https://swapi.co/api/people/9/'), (10, 'Obi-Wan Kenobi', 182, 77.0, 'auburn, white', 'fair', 'blue-gray', '57BBY', 'male', 20, datetime.datetime(2014, 12, 10, 16, 16, 29, 192000), datetime.datetime(2014, 12, 20, 21, 17, 50, 325000), 'https://swapi.co/api/people/10/'), (11, 'Anakin Skywalker', 188, 84.0, 'blond', 'fair', 'blue', '41.9BBY', 'male', 1, datetime.datetime(2014, 12, 10, 16, 20, 44, 310000), datetime.datetime(2014, 12, 20, 21, 17, 50, 327000), 'https://swapi.co/api/people/11/'), (12, 'Wilhuff Tarkin', 180, None, 'auburn, grey', 'fair', 'blue', '64BBY', 'male', 21, datetime.datetime(2014, 12, 10, 16, 26, 56, 138000), datetime.datetime(2014, 12, 20, 21, 17, 50, 330000), 'https://swapi.co/api/people/12/'), (13, 'Chewbacca', 228, 112.0, 'brown', None, 'blue', '200BBY', 'male', 14, datetime.datetime(2014, 12, 10, 16, 42, 45, 66000), datetime.datetime(2014, 12, 20, 21, 17, 50, 332000), 'https://swapi.co/api/people/13/'), (14, 'Han Solo', 180, 80.0, 'brown', 'fair', 'brown', '29BBY', 'male', 22, datetime.datetime(2014, 12, 10, 16, 49, 14, 582000), datetime.datetime(2014, 12, 20, 21, 17, 50, 334000), 'https://swapi.co/api/people/14/'), (15, 'Greedo', 173, 74.0, 'n/a', 'green', 'black', '44BBY', 'male', 23, datetime.datetime(2014, 12, 10, 17, 3, 30, 334000), datetime.datetime(2014, 12, 20, 21, 17, 50, 336000), 'https://swapi.co/api/people/15/'), (16, 'Jabba Desilijic Tiure', 175, 1358.0, 'n/a', 'green-tan, brown', 'orange', '600BBY', 'hermaphrodite', 24, datetime.datetime(2014, 12, 10, 17, 11, 31, 638000), datetime.datetime(2014, 12, 20, 21, 17, 50, 338000), 'https://swapi.co/api/people/16/'), (18, 'Wedge Antilles', 170, 77.0, 'brown', 'fair', 'hazel', '21BBY', 'male', 22, datetime.datetime(2014, 12, 12, 11, 8, 6, 469000), datetime.datetime(2014, 12, 20, 21, 17, 50, 341000), 'https://swapi.co/api/people/18/'), (19, 'Jek Tono Porkins', 180, 110.0, 'brown', 'fair', 'blue', None, 'male', 26, datetime.datetime(2014, 12, 12, 11, 16, 56, 569000), datetime.datetime(2014, 12, 20, 21, 17, 50, 343000), 'https://swapi.co/api/people/19/'), (20, 'Yoda', 66, 17.0, 'white', 'green', 'brown', '896BBY', 'male', 28, datetime.datetime(2014, 12, 15, 12, 26, 1, 42000), datetime.datetime(2014, 12, 20, 21, 17, 50, 345000), 'https://swapi.co/api/people/20/'), (21, 'Palpatine', 170, 75.0, 'grey', 'pale', 'yellow', '82BBY', 'male', 8, datetime.datetime(2014, 12, 15, 12, 48, 5, 971000), datetime.datetime(2014, 12, 20, 21, 17, 50, 347000), 'https://swapi.co/api/people/21/'), (22, 'Boba Fett', 183, 78.2, 'black', 'fair', 'brown', '31.5BBY', 'male', 10, datetime.datetime(2014, 12, 15, 12, 49, 32, 457000), datetime.datetime(2014, 12, 20, 21, 17, 50, 349000), 'https://swapi.co/api/people/22/'), (23, 'IG-88', 200, 140.0, 'none', 'metal', 'red', '15BBY', 'none', 28, datetime.datetime(2014, 12, 15, 12, 51, 10, 76000), datetime.datetime(2014, 12, 20, 21, 17, 50, 351000), 'https://swapi.co/api/people/23/'), (24, 'Bossk', 190, 113.0, 'none', 'green', 'red', '53BBY', 'male', 29, datetime.datetime(2014, 12, 15, 12, 53, 49, 297000), datetime.datetime(2014, 12, 20, 21, 17, 50, 355000), 'https://swapi.co/api/people/24/'), (25, 'Lando Calrissian', 177, 79.0, 'black', 'dark', 'brown', '31BBY', 'male', 30, datetime.datetime(2014, 12, 15, 12, 56, 32, 683000), datetime.datetime(2014, 12, 20, 21, 17, 50, 357000), 'https://swapi.co/api/people/25/'), (26, 'Lobot', 175, 79.0, 'none', 'light', 'blue', '37BBY', 'male', 6, datetime.datetime(2014, 12, 15, 13, 1, 57, 178000), datetime.datetime(2014, 12, 20, 21, 17, 50, 359000), 'https://swapi.co/api/people/26/'), (27, 'Ackbar', 180, 83.0, 'none', 'brown mottle', 'orange', '41BBY', 'male', 31, datetime.datetime(2014, 12, 18, 11, 7, 50, 584000), datetime.datetime(2014, 12, 20, 21, 17, 50, 362000), 'https://swapi.co/api/people/27/'), (28, 'Mon Mothma', 150, None, 'auburn', 'fair', 'blue', '48BBY', 'female', 32, datetime.datetime(2014, 12, 18, 11, 12, 38, 895000), datetime.datetime(2014, 12, 20, 21, 17, 50, 364000), 'https://swapi.co/api/people/28/'), (29, 'Arvel Crynyd', None, None, 'brown', 'fair', 'brown', None, 'male', 28, datetime.datetime(2014, 12, 18, 11, 16, 33, 20000), datetime.datetime(2014, 12, 20, 21, 17, 50, 367000), 'https://swapi.co/api/people/29/'), (30, 'Wicket Systri Warrick', 88, 20.0, 'brown', 'brown', 'brown', '8BBY', 'male', 7, datetime.datetime(2014, 12, 18, 11, 21, 58, 954000), datetime.datetime(2014, 12, 20, 21, 17, 50, 369000), 'https://swapi.co/api/people/30/'), (31, 'Nien Nunb', 160, 68.0, 'none', 'grey', 'black', None, 'male', 33, datetime.datetime(2014, 12, 18, 11, 26, 18, 541000), datetime.datetime(2014, 12, 20, 21, 17, 50, 371000), 'https://swapi.co/api/people/31/'), (32, 'Qui-Gon Jinn', 193, 89.0, 'brown', 'fair', 'blue', '92BBY', 'male', 28, datetime.datetime(2014, 12, 19, 16, 54, 53, 618000), datetime.datetime(2014, 12, 20, 21, 17, 50, 375000), 'https://swapi.co/api/people/32/'), (33, 'Nute Gunray', 191, 90.0, 'none', 'mottled green', 'red', None, 'male', 18, datetime.datetime(2014, 12, 19, 17, 5, 57, 357000), datetime.datetime(2014, 12, 20, 21, 17, 50, 377000), 'https://swapi.co/api/people/33/'), (34, 'Finis Valorum', 170, None, 'blond', 'fair', 'blue', '91BBY', 'male', 9, datetime.datetime(2014, 12, 19, 17, 21, 45, 915000), datetime.datetime(2014, 12, 20, 21, 17, 50, 379000), 'https://swapi.co/api/people/34/'), (36, 'Jar Jar Binks', 196, 66.0, 'none', 'orange', 'orange', '52BBY', 'male', 8, datetime.datetime(2014, 12, 19, 17, 29, 32, 489000), datetime.datetime(2014, 12, 20, 21, 17, 50, 383000), 'https://swapi.co/api/people/36/'), (37, 'Roos Tarpals', 224, 82.0, 'none', 'grey', 'orange', None, 'male', 8, datetime.datetime(2014, 12, 19, 17, 32, 56, 741000), datetime.datetime(2014, 12, 20, 21, 17, 50, 385000), 'https://swapi.co/api/people/37/'), (38, 'Rugor Nass', 206, None, 'none', 'green', 'orange', None, 'male', 8, datetime.datetime(2014, 12, 19, 17, 33, 38, 909000), datetime.datetime(2014, 12, 20, 21, 17, 50, 388000), 'https://swapi.co/api/people/38/'), (39, 'Ric Olié', 183, None, 'brown', 'fair', 'blue', None, 'male', 8, datetime.datetime(2014, 12, 19, 17, 45, 1, 522000), datetime.datetime(2014, 12, 20, 21, 17, 50, 392000), 'https://swapi.co/api/people/39/'), (40, 'Watto', 137, None, 'black', 'blue, grey', 'yellow', None, 'male', 34, datetime.datetime(2014, 12, 19, 17, 48, 54, 647000), datetime.datetime(2014, 12, 20, 21, 17, 50, 395000), 'https://swapi.co/api/people/40/'), (41, 'Sebulba', 112, 40.0, 'none', 'grey, red', 'orange', None, 'male', 35, datetime.datetime(2014, 12, 19, 17, 53, 2, 586000), datetime.datetime(2014, 12, 20, 21, 17, 50, 397000), 'https://swapi.co/api/people/41/'), (42, 'Quarsh Panaka', 183, None, 'black', 'dark', 'brown', '62BBY', 'male', 8, datetime.datetime(2014, 12, 19, 17, 55, 43, 348000), datetime.datetime(2014, 12, 20, 21, 17, 50, 399000), 'https://swapi.co/api/people/42/'), (43, 'Shmi Skywalker', 163, None, 'black', 'fair', 'brown', '72BBY', 'female', 1, datetime.datetime(2014, 12, 19, 17, 57, 41, 191000), datetime.datetime(2014, 12, 20, 21, 17, 50, 401000), 'https://swapi.co/api/people/43/'), (44, 'Darth Maul', 175, 80.0, 'none', 'red', 'yellow', '54BBY', 'male', 36, datetime.datetime(2014, 12, 19, 18, 0, 41, 929000), datetime.datetime(2014, 12, 20, 21, 17, 50, 403000), 'https://swapi.co/api/people/44/'), (45, 'Bib Fortuna', 180, None, 'none', 'pale', 'pink', None, 'male', 37, datetime.datetime(2014, 12, 20, 9, 47, 2, 512000), datetime.datetime(2014, 12, 20, 21, 17, 50, 407000), 'https://swapi.co/api/people/45/'), (46, 'Ayla Secura', 178, 55.0, 'none', 'blue', 'hazel', '48BBY', 'female', 37, datetime.datetime(2014, 12, 20, 9, 48, 1, 172000), datetime.datetime(2014, 12, 20, 21, 17, 50, 409000), 'https://swapi.co/api/people/46/'), (48, 'Dud Bolt', 94, 45.0, 'none', 'blue, grey', 'yellow', None, 'male', 39, datetime.datetime(2014, 12, 20, 9, 57, 31, 858000), datetime.datetime(2014, 12, 20, 21, 17, 50, 414000), 'https://swapi.co/api/people/48/'), (49, 'Gasgano', 122, None, 'none', 'white, blue', 'black', None, 'male', 40, datetime.datetime(2014, 12, 20, 10, 2, 12, 223000), datetime.datetime(2014, 12, 20, 21, 17, 50, 416000), 'https://swapi.co/api/people/49/'), (50, 'Ben Quadinaros', 163, 65.0, 'none', 'grey, green, yellow', 'orange', None, 'male', 41, datetime.datetime(2014, 12, 20, 10, 8, 33, 777000), datetime.datetime(2014, 12, 20, 21, 17, 50, 417000), 'https://swapi.co/api/people/50/'), (51, 'Mace Windu', 188, 84.0, 'none', 'dark', 'brown', '72BBY', 'male', 42, datetime.datetime(2014, 12, 20, 10, 12, 30, 846000), datetime.datetime(2014, 12, 20, 21, 17, 50, 420000), 'https://swapi.co/api/people/51/'), (52, 'Ki-Adi-Mundi', 198, 82.0, 'white', 'pale', 'yellow', '92BBY', 'male', 43, datetime.datetime(2014, 12, 20, 10, 15, 32, 293000), datetime.datetime(2014, 12, 20, 21, 17, 50, 422000), 'https://swapi.co/api/people/52/'), (53, 'Kit Fisto', 196, 87.0, 'none', 'green', 'black', None, 'male', 44, datetime.datetime(2014, 12, 20, 10, 18, 57, 202000), datetime.datetime(2014, 12, 20, 21, 17, 50, 424000), 'https://swapi.co/api/people/53/'), (54, 'Eeth Koth', 171, None, 'black', 'brown', 'brown', None, 'male', 45, datetime.datetime(2014, 12, 20, 10, 26, 47, 902000), datetime.datetime(2014, 12, 20, 21, 17, 50, 427000), 'https://swapi.co/api/people/54/'), (55, 'Adi Gallia', 184, 50.0, 'none', 'dark', 'blue', None, 'female', 9, datetime.datetime(2014, 12, 20, 10, 29, 11, 661000), datetime.datetime(2014, 12, 20, 21, 17, 50, 432000), 'https://swapi.co/api/people/55/'), (56, 'Saesee Tiin', 188, None, 'none', 'pale', 'orange', None, 'male', 47, datetime.datetime(2014, 12, 20, 10, 32, 11, 669000), datetime.datetime(2014, 12, 20, 21, 17, 50, 434000), 'https://swapi.co/api/people/56/'), (57, 'Yarael Poof', 264, None, 'none', 'white', 'yellow', None, 'male', 48, datetime.datetime(2014, 12, 20, 10, 34, 48, 725000), datetime.datetime(2014, 12, 20, 21, 17, 50, 437000), 'https://swapi.co/api/people/57/'), (58, 'Plo Koon', 188, 80.0, 'none', 'orange', 'black', '22BBY', 'male', 49, datetime.datetime(2014, 12, 20, 10, 49, 19, 859000), datetime.datetime(2014, 12, 20, 21, 17, 50, 439000), 'https://swapi.co/api/people/58/'), (59, 'Mas Amedda', 196, None, 'none', 'blue', 'blue', None, 'male', 50, datetime.datetime(2014, 12, 20, 10, 53, 26, 457000), datetime.datetime(2014, 12, 20, 21, 17, 50, 442000), 'https://swapi.co/api/people/59/'), (60, 'Gregar Typho', 185, 85.0, 'black', 'dark', 'brown', None, 'male', 8, datetime.datetime(2014, 12, 20, 11, 10, 10, 381000), datetime.datetime(2014, 12, 20, 21, 17, 50, 445000), 'https://swapi.co/api/people/60/'), (61, 'Cordé', 157, None, 'brown', 'light', 'brown', None, 'female', 8, datetime.datetime(2014, 12, 20, 11, 11, 39, 630000), datetime.datetime(2014, 12, 20, 21, 17, 50, 449000), 'https://swapi.co/api/people/61/'), (62, 'Cliegg Lars', 183, None, 'brown', 'fair', 'blue', '82BBY', 'male', 1, datetime.datetime(2014, 12, 20, 15, 59, 3, 958000), datetime.datetime(2014, 12, 20, 21, 17, 50, 451000), 'https://swapi.co/api/people/62/'), (63, 'Poggle the Lesser', 183, 80.0, 'none', 'green', 'yellow', None, 'male', 11, datetime.datetime(2014, 12, 20, 16, 40, 43, 977000), datetime.datetime(2014, 12, 20, 21, 17, 50, 453000), 'https://swapi.co/api/people/63/'), (64, 'Luminara Unduli', 170, 56.2, 'black', 'yellow', 'blue', '58BBY', 'female', 51, datetime.datetime(2014, 12, 20, 16, 45, 53, 668000), datetime.datetime(2014, 12, 20, 21, 17, 50, 455000), 'https://swapi.co/api/people/64/'), (65, 'Barriss Offee', 166, 50.0, 'black', 'yellow', 'blue', '40BBY', 'female', 51, datetime.datetime(2014, 12, 20, 16, 46, 40, 440000), datetime.datetime(2014, 12, 20, 21, 17, 50, 457000), 'https://swapi.co/api/people/65/'), (66, 'Dormé', 165, None, 'brown', 'light', 'brown', None, 'female', 8, datetime.datetime(2014, 12, 20, 16, 49, 14, 640000), datetime.datetime(2014, 12, 20, 21, 17, 50, 460000), 'https://swapi.co/api/people/66/'), (67, 'Dooku', 193, 80.0, 'white', 'fair', 'brown', '102BBY', 'male', 52, datetime.datetime(2014, 12, 20, 16, 52, 14, 726000), datetime.datetime(2014, 12, 20, 21, 17, 50, 462000), 'https://swapi.co/api/people/67/'), (68, 'Bail Prestor Organa', 191, None, 'black', 'tan', 'brown', '67BBY', 'male', 2, datetime.datetime(2014, 12, 20, 16, 53, 8, 575000), datetime.datetime(2014, 12, 20, 21, 17, 50, 463000), 'https://swapi.co/api/people/68/'), (69, 'Jango Fett', 183, 79.0, 'black', 'tan', 'brown', '66BBY', 'male', 53, datetime.datetime(2014, 12, 20, 16, 54, 41, 620000), datetime.datetime(2014, 12, 20, 21, 17, 50, 465000), 'https://swapi.co/api/people/69/'), (70, 'Zam Wesell', 168, 55.0, 'blonde', 'fair, green, yellow', 'yellow', None, 'female', 54, datetime.datetime(2014, 12, 20, 16, 57, 44, 471000), datetime.datetime(2014, 12, 20, 21, 17, 50, 468000), 'https://swapi.co/api/people/70/'), (71, 'Dexter Jettster', 198, 102.0, 'none', 'brown', 'yellow', None, 'male', 55, datetime.datetime(2014, 12, 20, 17, 28, 27, 248000), datetime.datetime(2014, 12, 20, 21, 17, 50, 470000), 'https://swapi.co/api/people/71/'), (72, 'Lama Su', 229, 88.0, 'none', 'grey', 'black', None, 'male', 10, datetime.datetime(2014, 12, 20, 17, 30, 50, 416000), datetime.datetime(2014, 12, 20, 21, 17, 50, 473000), 'https://swapi.co/api/people/72/'), (73, 'Taun We', 213, None, 'none', 'grey', 'black', None, 'female', 10, datetime.datetime(2014, 12, 20, 17, 31, 21, 195000), datetime.datetime(2014, 12, 20, 21, 17, 50, 474000), 'https://swapi.co/api/people/73/'), (74, 'Jocasta Nu', 167, None, 'white', 'fair', 'blue', None, 'female', 9, datetime.datetime(2014, 12, 20, 17, 32, 51, 996000), datetime.datetime(2014, 12, 20, 21, 17, 50, 476000), 'https://swapi.co/api/people/74/'), (47, 'Ratts Tyerell', 79, 15.0, 'none', 'grey, blue', None, None, 'male', 38, datetime.datetime(2014, 12, 20, 9, 53, 15, 86000), datetime.datetime(2016, 6, 30, 12, 52, 19, 604868), 'https://swapi.co/api/people/47/'), (75, 'R4-P17', 96, None, 'none', 'silver, red', 'red, blue', None, 'female', 28, datetime.datetime(2014, 12, 20, 17, 43, 36, 409000), datetime.datetime(2014, 12, 20, 21, 17, 50, 478000), 'https://swapi.co/api/people/75/'), (76, 'Wat Tambor', 193, 48.0, 'none', 'green, grey', None, None, 'male', 56, datetime.datetime(2014, 12, 20, 17, 53, 52, 607000), datetime.datetime(2014, 12, 20, 21, 17, 50, 481000), 'https://swapi.co/api/people/76/'), (77, 'San Hill', 191, None, 'none', 'grey', 'gold', None, 'male', 57, datetime.datetime(2014, 12, 20, 17, 58, 17, 49000), datetime.datetime(2014, 12, 20, 21, 17, 50, 484000), 'https://swapi.co/api/people/77/'), (78, 'Shaak Ti', 178, 57.0, 'none', 'red, blue, white', 'black', None, 'female', 58, datetime.datetime(2014, 12, 20, 18, 44, 1, 103000), datetime.datetime(2014, 12, 20, 21, 17, 50, 486000), 'https://swapi.co/api/people/78/'), (79, 'Grievous', 216, 159.0, 'none', 'brown, white', 'green, yellow', None, 'male', 59, datetime.datetime(2014, 12, 20, 19, 43, 53, 348000), datetime.datetime(2014, 12, 20, 21, 17, 50, 488000), 'https://swapi.co/api/people/79/'), (80, 'Tarfful', 234, 136.0, 'brown', 'brown', 'blue', None, 'male', 14, datetime.datetime(2014, 12, 20, 19, 46, 34, 209000), datetime.datetime(2014, 12, 20, 21, 17, 50, 491000), 'https://swapi.co/api/people/80/'), (81, 'Raymus Antilles', 188, 79.0, 'brown', 'light', 'brown', None, 'male', 2, datetime.datetime(2014, 12, 20, 19, 49, 35, 583000), datetime.datetime(2014, 12, 20, 21, 17, 50, 493000), 'https://swapi.co/api/people/81/'), (82, 'Sly Moore', 178, 48.0, 'none', 'pale', 'white', None, 'female', 60, datetime.datetime(2014, 12, 20, 20, 18, 37, 619000), datetime.datetime(2014, 12, 20, 21, 17, 50, 496000), 'https://swapi.co/api/people/82/'), (83, 'Tion Medon', 206, 80.0, 'none', 'grey', 'black', None, 'male', 12, datetime.datetime(2014, 12, 20, 20, 35, 4, 260000), datetime.datetime(2014, 12, 20, 21, 17, 50, 498000), 'https://swapi.co/api/people/83/'), (84, 'Finn', None, None, 'black', 'dark', 'dark', None, 'male', 28, datetime.datetime(2015, 4, 17, 6, 52, 40, 793621), datetime.datetime(2015, 4, 17, 6, 52, 40, 793674), 'https://swapi.co/api/people/84/'), (85, 'Rey', None, None, 'brown', 'light', 'hazel', None, 'female', 28, datetime.datetime(2015, 4, 17, 6, 54, 1, 495077), datetime.datetime(2015, 4, 17, 6, 54, 1, 495128), 'https://swapi.co/api/people/85/'), (86, 'Poe Dameron', None, None, 'brown', 'light', 'brown', None, 'male', 28, datetime.datetime(2015, 4, 17, 6, 55, 21, 622786), datetime.datetime(2015, 4, 17, 6, 55, 21, 622835), 'https://swapi.co/api/people/86/'), (87, 'BB8', None, None, 'none', 'none', 'black', None, 'none', 28, datetime.datetime(2015, 4, 17, 6, 57, 38, 61346), datetime.datetime(2015, 4, 17, 6, 57, 38, 61453), 'https://swapi.co/api/people/87/'), (88, 'Captain Phasma', None, None, None, None, None, None, 'female', 28, datetime.datetime(2015, 10, 13, 10, 35, 39, 229823), datetime.datetime(2015, 10, 13, 10, 35, 39, 229894), 'https://swapi.co/api/people/88/'), (35, 'Padmé Amidala', 165, 45.0, 'brown', 'light', 'brown', '46BBY', 'female', 8, datetime.datetime(2014, 12, 19, 17, 28, 26, 926000), datetime.datetime(2016, 4, 20, 17, 6, 31, 502555), 'https://swapi.co/api/people/35/')]\n",
      "[(2, 'Alderaan', 24, 364, 12500, 'temperate', '1 standard', 'grasslands, mountains', '40', 2000000000, datetime.datetime(2014, 12, 10, 11, 35, 48, 479000), datetime.datetime(2014, 12, 20, 20, 58, 18, 420000), 'https://swapi.co/api/planets/2/'), (3, 'Yavin IV', 24, 4818, 10200, 'temperate, tropical', '1 standard', 'jungle, rainforests', '8', 1000, datetime.datetime(2014, 12, 10, 11, 37, 19, 144000), datetime.datetime(2014, 12, 20, 20, 58, 18, 421000), 'https://swapi.co/api/planets/3/'), (4, 'Hoth', 23, 549, 7200, 'frozen', '1.1 standard', 'tundra, ice caves, mountain ranges', '100', None, datetime.datetime(2014, 12, 10, 11, 39, 13, 934000), datetime.datetime(2014, 12, 20, 20, 58, 18, 423000), 'https://swapi.co/api/planets/4/'), (5, 'Dagobah', 23, 341, 8900, 'murky', 'N/A', 'swamp, jungles', '8', None, datetime.datetime(2014, 12, 10, 11, 42, 22, 590000), datetime.datetime(2014, 12, 20, 20, 58, 18, 425000), 'https://swapi.co/api/planets/5/'), (6, 'Bespin', 12, 5110, 118000, 'temperate', '1.5 (surface), 1 standard (Cloud City)', 'gas giant', '0', 6000000, datetime.datetime(2014, 12, 10, 11, 43, 55, 240000), datetime.datetime(2014, 12, 20, 20, 58, 18, 427000), 'https://swapi.co/api/planets/6/'), (7, 'Endor', 18, 402, 4900, 'temperate', '0.85 standard', 'forests, mountains, lakes', '8', 30000000, datetime.datetime(2014, 12, 10, 11, 50, 29, 349000), datetime.datetime(2014, 12, 20, 20, 58, 18, 429000), 'https://swapi.co/api/planets/7/'), (8, 'Naboo', 26, 312, 12120, 'temperate', '1 standard', 'grassy hills, swamps, forests, mountains', '12', 4500000000, datetime.datetime(2014, 12, 10, 11, 52, 31, 66000), datetime.datetime(2014, 12, 20, 20, 58, 18, 430000), 'https://swapi.co/api/planets/8/'), (9, 'Coruscant', 24, 368, 12240, 'temperate', '1 standard', 'cityscape, mountains', None, 1000000000000, datetime.datetime(2014, 12, 10, 11, 54, 13, 921000), datetime.datetime(2014, 12, 20, 20, 58, 18, 432000), 'https://swapi.co/api/planets/9/'), (10, 'Kamino', 27, 463, 19720, 'temperate', '1 standard', 'ocean', '100', 1000000000, datetime.datetime(2014, 12, 10, 12, 45, 6, 577000), datetime.datetime(2014, 12, 20, 20, 58, 18, 434000), 'https://swapi.co/api/planets/10/'), (11, 'Geonosis', 30, 256, 11370, 'temperate, arid', '0.9 standard', 'rock, desert, mountain, barren', '5', 100000000000, datetime.datetime(2014, 12, 10, 12, 47, 22, 350000), datetime.datetime(2014, 12, 20, 20, 58, 18, 437000), 'https://swapi.co/api/planets/11/'), (12, 'Utapau', 27, 351, 12900, 'temperate, arid, windy', '1 standard', 'scrublands, savanna, canyons, sinkholes', '0.9', 95000000, datetime.datetime(2014, 12, 10, 12, 49, 1, 491000), datetime.datetime(2014, 12, 20, 20, 58, 18, 439000), 'https://swapi.co/api/planets/12/'), (13, 'Mustafar', 36, 412, 4200, 'hot', '1 standard', 'volcanoes, lava rivers, mountains, caves', '0', 20000, datetime.datetime(2014, 12, 10, 12, 50, 16, 526000), datetime.datetime(2014, 12, 20, 20, 58, 18, 440000), 'https://swapi.co/api/planets/13/'), (14, 'Kashyyyk', 26, 381, 12765, 'tropical', '1 standard', 'jungle, forests, lakes, rivers', '60', 45000000, datetime.datetime(2014, 12, 10, 13, 32, 0, 124000), datetime.datetime(2014, 12, 20, 20, 58, 18, 442000), 'https://swapi.co/api/planets/14/'), (15, 'Polis Massa', 24, 590, 0, 'artificial temperate', '0.56 standard', 'airless asteroid', '0', 1000000, datetime.datetime(2014, 12, 10, 13, 33, 46, 405000), datetime.datetime(2014, 12, 20, 20, 58, 18, 444000), 'https://swapi.co/api/planets/15/'), (16, 'Mygeeto', 12, 167, 10088, 'frigid', '1 standard', 'glaciers, mountains, ice canyons', None, 19000000, datetime.datetime(2014, 12, 10, 13, 43, 39, 139000), datetime.datetime(2014, 12, 20, 20, 58, 18, 446000), 'https://swapi.co/api/planets/16/'), (17, 'Felucia', 34, 231, 9100, 'hot, humid', '0.75 standard', 'fungus forests', None, 8500000, datetime.datetime(2014, 12, 10, 13, 44, 50, 397000), datetime.datetime(2014, 12, 20, 20, 58, 18, 447000), 'https://swapi.co/api/planets/17/'), (18, 'Cato Neimoidia', 25, 278, 0, 'temperate, moist', '1 standard', 'mountains, fields, forests, rock arches', None, 10000000, datetime.datetime(2014, 12, 10, 13, 46, 28, 704000), datetime.datetime(2014, 12, 20, 20, 58, 18, 449000), 'https://swapi.co/api/planets/18/'), (19, 'Saleucami', 26, 392, 14920, 'hot', None, 'caves, desert, mountains, volcanoes', None, 1400000000, datetime.datetime(2014, 12, 10, 13, 47, 46, 874000), datetime.datetime(2014, 12, 20, 20, 58, 18, 450000), 'https://swapi.co/api/planets/19/'), (20, 'Stewjon', None, None, 0, 'temperate', '1 standard', 'grass', None, None, datetime.datetime(2014, 12, 10, 16, 16, 26, 566000), datetime.datetime(2014, 12, 20, 20, 58, 18, 452000), 'https://swapi.co/api/planets/20/'), (21, 'Eriadu', 24, 360, 13490, 'polluted', '1 standard', 'cityscape', None, 22000000000, datetime.datetime(2014, 12, 10, 16, 26, 54, 384000), datetime.datetime(2014, 12, 20, 20, 58, 18, 454000), 'https://swapi.co/api/planets/21/'), (22, 'Corellia', 25, 329, 11000, 'temperate', '1 standard', 'plains, urban, hills, forests', '70', 3000000000, datetime.datetime(2014, 12, 10, 16, 49, 12, 453000), datetime.datetime(2014, 12, 20, 20, 58, 18, 456000), 'https://swapi.co/api/planets/22/'), (23, 'Rodia', 29, 305, 7549, 'hot', '1 standard', 'jungles, oceans, urban, swamps', '60', 1300000000, datetime.datetime(2014, 12, 10, 17, 3, 28, 110000), datetime.datetime(2014, 12, 20, 20, 58, 18, 458000), 'https://swapi.co/api/planets/23/'), (24, 'Nal Hutta', 87, 413, 12150, 'temperate', '1 standard', 'urban, oceans, swamps, bogs', None, 7000000000, datetime.datetime(2014, 12, 10, 17, 11, 29, 452000), datetime.datetime(2014, 12, 20, 20, 58, 18, 460000), 'https://swapi.co/api/planets/24/'), (25, 'Dantooine', 25, 378, 9830, 'temperate', '1 standard', 'oceans, savannas, mountains, grasslands', None, 1000, datetime.datetime(2014, 12, 10, 17, 23, 29, 896000), datetime.datetime(2014, 12, 20, 20, 58, 18, 461000), 'https://swapi.co/api/planets/25/'), (26, 'Bestine IV', 26, 680, 6400, 'temperate', None, 'rocky islands, oceans', '98', 62000000, datetime.datetime(2014, 12, 12, 11, 16, 55, 78000), datetime.datetime(2014, 12, 20, 20, 58, 18, 463000), 'https://swapi.co/api/planets/26/'), (27, 'Ord Mantell', 26, 334, 14050, 'temperate', '1 standard', 'plains, seas, mesas', '10', 4000000000, datetime.datetime(2014, 12, 15, 12, 23, 41, 661000), datetime.datetime(2014, 12, 20, 20, 58, 18, 464000), 'https://swapi.co/api/planets/27/'), (28, 'Unknown', 0, 0, 0, None, None, None, None, None, datetime.datetime(2014, 12, 15, 12, 25, 59, 569000), datetime.datetime(2014, 12, 20, 20, 58, 18, 466000), 'https://swapi.co/api/planets/28/'), (29, 'Trandosha', 25, 371, 0, 'arid', '0.62 standard', 'mountains, seas, grasslands, deserts', None, 42000000, datetime.datetime(2014, 12, 15, 12, 53, 47, 695000), datetime.datetime(2014, 12, 20, 20, 58, 18, 468000), 'https://swapi.co/api/planets/29/'), (30, 'Socorro', 20, 326, 0, 'arid', '1 standard', 'deserts, mountains', None, 300000000, datetime.datetime(2014, 12, 15, 12, 56, 31, 121000), datetime.datetime(2014, 12, 20, 20, 58, 18, 469000), 'https://swapi.co/api/planets/30/'), (31, 'Mon Cala', 21, 398, 11030, 'temperate', '1', 'oceans, reefs, islands', '100', 27000000000, datetime.datetime(2014, 12, 18, 11, 7, 1, 792000), datetime.datetime(2014, 12, 20, 20, 58, 18, 471000), 'https://swapi.co/api/planets/31/'), (32, 'Chandrila', 20, 368, 13500, 'temperate', '1', 'plains, forests', '40', 1200000000, datetime.datetime(2014, 12, 18, 11, 11, 51, 872000), datetime.datetime(2014, 12, 20, 20, 58, 18, 472000), 'https://swapi.co/api/planets/32/'), (33, 'Sullust', 20, 263, 12780, 'superheated', '1', 'mountains, volcanoes, rocky deserts', '5', 18500000000, datetime.datetime(2014, 12, 18, 11, 25, 40, 243000), datetime.datetime(2014, 12, 20, 20, 58, 18, 474000), 'https://swapi.co/api/planets/33/'), (34, 'Toydaria', 21, 184, 7900, 'temperate', '1', 'swamps, lakes', None, 11000000, datetime.datetime(2014, 12, 19, 17, 47, 54, 403000), datetime.datetime(2014, 12, 20, 20, 58, 18, 476000), 'https://swapi.co/api/planets/34/'), (35, 'Malastare', 26, 201, 18880, 'arid, temperate, tropical', '1.56', 'swamps, deserts, jungles, mountains', None, 2000000000, datetime.datetime(2014, 12, 19, 17, 52, 13, 106000), datetime.datetime(2014, 12, 20, 20, 58, 18, 478000), 'https://swapi.co/api/planets/35/'), (36, 'Dathomir', 24, 491, 10480, 'temperate', '0.9', 'forests, deserts, savannas', None, 5200, datetime.datetime(2014, 12, 19, 18, 0, 40, 142000), datetime.datetime(2014, 12, 20, 20, 58, 18, 480000), 'https://swapi.co/api/planets/36/'), (37, 'Ryloth', 30, 305, 10600, 'temperate, arid, subartic', '1', 'mountains, valleys, deserts, tundra', '5', 1500000000, datetime.datetime(2014, 12, 20, 9, 46, 25, 740000), datetime.datetime(2014, 12, 20, 20, 58, 18, 481000), 'https://swapi.co/api/planets/37/'), (38, 'Aleen Minor', None, None, None, None, None, None, None, None, datetime.datetime(2014, 12, 20, 9, 52, 23, 452000), datetime.datetime(2014, 12, 20, 20, 58, 18, 483000), 'https://swapi.co/api/planets/38/'), (39, 'Vulpter', 22, 391, 14900, 'temperate, artic', '1', 'urban, barren', None, 421000000, datetime.datetime(2014, 12, 20, 9, 56, 58, 874000), datetime.datetime(2014, 12, 20, 20, 58, 18, 485000), 'https://swapi.co/api/planets/39/'), (40, 'Troiken', None, None, None, None, None, 'desert, tundra, rainforests, mountains', None, None, datetime.datetime(2014, 12, 20, 10, 1, 37, 395000), datetime.datetime(2014, 12, 20, 20, 58, 18, 487000), 'https://swapi.co/api/planets/40/'), (41, 'Tund', 48, 1770, 12190, None, None, 'barren, ash', None, 0, datetime.datetime(2014, 12, 20, 10, 7, 29, 578000), datetime.datetime(2014, 12, 20, 20, 58, 18, 489000), 'https://swapi.co/api/planets/41/'), (42, 'Haruun Kal', 25, 383, 10120, 'temperate', '0.98', 'toxic cloudsea, plateaus, volcanoes', None, 705300, datetime.datetime(2014, 12, 20, 10, 12, 28, 980000), datetime.datetime(2014, 12, 20, 20, 58, 18, 491000), 'https://swapi.co/api/planets/42/'), (43, 'Cerea', 27, 386, None, 'temperate', '1', 'verdant', '20', 450000000, datetime.datetime(2014, 12, 20, 10, 14, 48, 178000), datetime.datetime(2014, 12, 20, 20, 58, 18, 493000), 'https://swapi.co/api/planets/43/'), (44, 'Glee Anselm', 33, 206, 15600, 'tropical, temperate', '1', 'lakes, islands, swamps, seas', '80', 500000000, datetime.datetime(2014, 12, 20, 10, 18, 26, 110000), datetime.datetime(2014, 12, 20, 20, 58, 18, 495000), 'https://swapi.co/api/planets/44/'), (45, 'Iridonia', 29, 413, None, None, None, 'rocky canyons, acid pools', None, None, datetime.datetime(2014, 12, 20, 10, 26, 5, 788000), datetime.datetime(2014, 12, 20, 20, 58, 18, 497000), 'https://swapi.co/api/planets/45/'), (46, 'Tholoth', None, None, None, None, None, None, None, None, datetime.datetime(2014, 12, 20, 10, 28, 31, 117000), datetime.datetime(2014, 12, 20, 20, 58, 18, 498000), 'https://swapi.co/api/planets/46/'), (47, 'Iktotch', 22, 481, None, 'arid, rocky, windy', '1', 'rocky', None, None, datetime.datetime(2014, 12, 20, 10, 31, 32, 413000), datetime.datetime(2014, 12, 20, 20, 58, 18, 500000), 'https://swapi.co/api/planets/47/'), (48, 'Quermia', None, None, None, None, None, None, None, None, datetime.datetime(2014, 12, 20, 10, 34, 8, 249000), datetime.datetime(2014, 12, 20, 20, 58, 18, 502000), 'https://swapi.co/api/planets/48/'), (49, 'Dorin', 22, 409, 13400, 'temperate', '1', None, None, None, datetime.datetime(2014, 12, 20, 10, 48, 36, 141000), datetime.datetime(2014, 12, 20, 20, 58, 18, 504000), 'https://swapi.co/api/planets/49/'), (50, 'Champala', 27, 318, None, 'temperate', '1', 'oceans, rainforests, plateaus', None, 3500000000, datetime.datetime(2014, 12, 20, 10, 52, 51, 524000), datetime.datetime(2014, 12, 20, 20, 58, 18, 506000), 'https://swapi.co/api/planets/50/'), (51, 'Mirial', None, None, None, None, None, 'deserts', None, None, datetime.datetime(2014, 12, 20, 16, 44, 46, 318000), datetime.datetime(2014, 12, 20, 20, 58, 18, 508000), 'https://swapi.co/api/planets/51/'), (52, 'Serenno', None, None, None, None, None, 'rainforests, rivers, mountains', None, None, datetime.datetime(2014, 12, 20, 16, 52, 13, 357000), datetime.datetime(2014, 12, 20, 20, 58, 18, 510000), 'https://swapi.co/api/planets/52/'), (53, 'Concord Dawn', None, None, None, None, None, 'jungles, forests, deserts', None, None, datetime.datetime(2014, 12, 20, 16, 54, 39, 909000), datetime.datetime(2014, 12, 20, 20, 58, 18, 512000), 'https://swapi.co/api/planets/53/'), (54, 'Zolan', None, None, None, None, None, None, None, None, datetime.datetime(2014, 12, 20, 16, 56, 37, 250000), datetime.datetime(2014, 12, 20, 20, 58, 18, 514000), 'https://swapi.co/api/planets/54/'), (55, 'Ojom', None, None, None, 'frigid', None, 'oceans, glaciers', '100', 500000000, datetime.datetime(2014, 12, 20, 17, 27, 41, 286000), datetime.datetime(2014, 12, 20, 20, 58, 18, 516000), 'https://swapi.co/api/planets/55/'), (56, 'Skako', 27, 384, None, 'temperate', '1', 'urban, vines', None, 500000000000, datetime.datetime(2014, 12, 20, 17, 50, 47, 864000), datetime.datetime(2014, 12, 20, 20, 58, 18, 517000), 'https://swapi.co/api/planets/56/'), (57, 'Muunilinst', 28, 412, 13800, 'temperate', '1', 'plains, forests, hills, mountains', '25', 5000000000, datetime.datetime(2014, 12, 20, 17, 57, 47, 420000), datetime.datetime(2014, 12, 20, 20, 58, 18, 519000), 'https://swapi.co/api/planets/57/'), (58, 'Shili', None, None, None, 'temperate', '1', 'cities, savannahs, seas, plains', None, None, datetime.datetime(2014, 12, 20, 18, 43, 14, 49000), datetime.datetime(2014, 12, 20, 20, 58, 18, 521000), 'https://swapi.co/api/planets/58/'), (59, 'Kalee', 23, 378, 13850, 'arid, temperate, tropical', '1', 'rainforests, cliffs, canyons, seas', None, 4000000000, datetime.datetime(2014, 12, 20, 19, 43, 51, 278000), datetime.datetime(2014, 12, 20, 20, 58, 18, 523000), 'https://swapi.co/api/planets/59/'), (60, 'Umbara', None, None, None, None, None, None, None, None, datetime.datetime(2014, 12, 20, 20, 18, 36, 256000), datetime.datetime(2014, 12, 20, 20, 58, 18, 525000), 'https://swapi.co/api/planets/60/'), (1, 'Tatooine', 23, 304, 10465, 'arid', '1 standard', 'desert', '1', 200000, datetime.datetime(2014, 12, 9, 13, 50, 49, 641000), datetime.datetime(2014, 12, 21, 20, 48, 4, 175778), 'https://swapi.co/api/planets/1/'), (61, 'Jakku', None, None, None, None, None, 'deserts', None, None, datetime.datetime(2015, 4, 17, 6, 55, 57, 556495), datetime.datetime(2015, 4, 17, 6, 55, 57, 556551), 'https://swapi.co/api/planets/61/')]\n"
     ]
    }
   ],
   "source": [
    "# Testing our connection\n",
    "with engine.connect() as connection:\n",
    "    cursor = connection.exec_driver_sql(\"SELECT * FROM people\")\n",
    "    print(cursor.fetchall())\n",
    "    \n",
    "with engine.connect() as connection:\n",
    "    cursor = connection.exec_driver_sql(\"SELECT * FROM planet\")\n",
    "    print(cursor.fetchall())"
   ]
  },
  {
   "cell_type": "code",
   "execution_count": 5,
   "metadata": {},
   "outputs": [],
   "source": [
    "from llama_index.core import Settings\n",
    "from llama_index.llms.bedrock import Bedrock\n",
    "from llama_index.embeddings.bedrock import BedrockEmbedding\n",
    "\n",
    "Settings.llm = Bedrock(\n",
    "    # model=\"anthropic.claude-3-haiku-20240307-v1:0\",\n",
    "    model=\"anthropic.claude-3-sonnet-20240229-v1:0\",\n",
    "    aws_access_key_id=os.environ[\"AWS_ACCESS_KEY_ID\"],\n",
    "    aws_secret_access_key=os.environ[\"AWS_SECRET_ACCESS_KEY\"],\n",
    "    aws_session_token=os.environ[\"AWS_SESSION_TOKEN\"],\n",
    "    region_name=os.environ[\"AWS_DEFAULT_REGION\"],\n",
    ")\n",
    "\n",
    "Settings.embed_model = BedrockEmbedding(\n",
    "        model_name=\"cohere.embed-english-v3\",\n",
    "        region_name=os.environ[\"AWS_DEFAULT_REGION\"],\n",
    "    )"
   ]
  },
  {
   "cell_type": "code",
   "execution_count": 6,
   "metadata": {},
   "outputs": [],
   "source": [
    "from llama_index.core import SQLDatabase\n",
    "from llama_index.core.query_engine import NLSQLTableQueryEngine\n",
    "\n",
    "all_table_names = [\"people\", \"planet\"]\n",
    "\n",
    "sql_database = SQLDatabase(engine, include_tables=all_table_names)"
   ]
  },
  {
   "cell_type": "code",
   "execution_count": 7,
   "metadata": {},
   "outputs": [],
   "source": [
    "from llama_index.core.indices.struct_store import SQLTableRetrieverQueryEngine\n",
    "from llama_index.core.objects import (\n",
    "    SQLTableNodeMapping,\n",
    "    ObjectIndex,\n",
    "    SQLTableSchema,\n",
    ")\n",
    "from llama_index.core import VectorStoreIndex\n",
    "from IPython.display import Markdown, display"
   ]
  },
  {
   "cell_type": "code",
   "execution_count": 8,
   "metadata": {},
   "outputs": [
    {
     "name": "stdout",
     "output_type": "stream",
     "text": [
      "[SQLTableSchema(table_name='people', context_str=None), SQLTableSchema(table_name='planet', context_str=None)]\n"
     ]
    }
   ],
   "source": [
    "table_node_mapping = SQLTableNodeMapping(sql_database)\n",
    "\n",
    "table_schema_objs = []\n",
    "for table_name in all_table_names:\n",
    "    table_schema_objs.append(SQLTableSchema(table_name=table_name))\n",
    "    \n",
    "print(table_schema_objs)\n",
    "\n",
    "obj_index = ObjectIndex.from_objects(\n",
    "    table_schema_objs,\n",
    "    table_node_mapping,\n",
    "    VectorStoreIndex,\n",
    ")\n",
    "\n",
    "query_engine = SQLTableRetrieverQueryEngine(\n",
    "    sql_database,\n",
    "    obj_index.as_retriever(similarity_top_k=2)\n",
    ")\n",
    "\n",
    "def format_sql_results_as_markdown_table(sql_results, headers):\n",
    "    \"\"\"\n",
    "    Formats the SQL results as a markdown table\n",
    "    \"\"\"\n",
    "    if not sql_results and not headers:\n",
    "        return \"No results found.\"\n",
    "    \n",
    "    header_row = \"| \" + \" | \".join(headers) + \" |\"\n",
    "    separator_row = \"| \" + \" | \".join([\"---\"] * len(headers)) + \" |\"\n",
    "\n",
    "    table_rows = []\n",
    "    for row in sql_results:\n",
    "        table_row = \"|\"\n",
    "        for j, _ in enumerate(headers):\n",
    "            table_row += f\" {str(row[j])} |\"\n",
    "        table_rows.append(table_row)\n",
    "\n",
    "    markdown_table = \"\\n\".join([header_row, separator_row] + table_rows)\n",
    "    return markdown_table\n",
    "\n",
    "response_template = \"\"\"\n",
    "### Question\n",
    "\n",
    "**{number}. {question}**\n",
    "\n",
    "### Answer\n",
    "\n",
    "{response}\n",
    "\n",
    "### Generated SQL Query\n",
    "```sql\n",
    "{sql}\n",
    "```\n",
    "\n",
    "### SQL Results\n",
    "\n",
    "{sql_results}\n",
    "\n",
    "\"\"\"\n",
    "\n",
    "def text_to_sql(query_engine, question, number=1):\n",
    "    \"\"\"\n",
    "    Calls the query engine with the given question and displays the response as a markdown cell\n",
    "    \"\"\"\n",
    "    engine_response = query_engine.query(question)\n",
    "    display(Markdown(response_template.format(\n",
    "            number=number,\n",
    "            question=question,\n",
    "            response=str(engine_response),\n",
    "            sql=engine_response.metadata[\"sql_query\"],\n",
    "            sql_results=format_sql_results_as_markdown_table(engine_response.metadata[\"result\"], engine_response.metadata[\"col_keys\"]),\n",
    "        )))"
   ]
  },
  {
   "cell_type": "code",
   "execution_count": 9,
   "metadata": {},
   "outputs": [
    {
     "data": {
      "text/markdown": [
       "\n",
       "### Question\n",
       "\n",
       "**1. How many tables are there in the database?**\n",
       "\n",
       "### Answer\n",
       "\n",
       "Based on the SQL query and response, there are 2 tables in the database schema 'public'.\n",
       "\n",
       "### Generated SQL Query\n",
       "```sql\n",
       "SELECT COUNT(*) AS num_tables FROM information_schema.tables WHERE table_schema = 'public';\n",
       "```\n",
       "\n",
       "### SQL Results\n",
       "\n",
       "| num_tables |\n",
       "| --- |\n",
       "| 2 |\n",
       "\n"
      ],
      "text/plain": [
       "<IPython.core.display.Markdown object>"
      ]
     },
     "metadata": {},
     "output_type": "display_data"
    }
   ],
   "source": [
    "text_to_sql(query_engine, \"How many tables are there in the database?\", number=1)"
   ]
  },
  {
   "cell_type": "code",
   "execution_count": 10,
   "metadata": {},
   "outputs": [
    {
     "data": {
      "text/markdown": [
       "\n",
       "### Question\n",
       "\n",
       "**2. How many of the planets are rocky?**\n",
       "\n",
       "### Answer\n",
       "\n",
       "According to the SQL query and its result, there are 27 planets in the database that have a rocky, mountainous, or desert terrain. Therefore, the response to the input question \"How many of the planets are rocky?\" is:\n",
       "\n",
       "There are 27 rocky planets.\n",
       "\n",
       "### Generated SQL Query\n",
       "```sql\n",
       "SELECT COUNT(*) AS rocky_planet_count\n",
       "FROM planet\n",
       "WHERE terrain LIKE '%rocky%' OR terrain LIKE '%mountain%' OR terrain LIKE '%desert%';\n",
       "```\n",
       "\n",
       "### SQL Results\n",
       "\n",
       "| rocky_planet_count |\n",
       "| --- |\n",
       "| 27 |\n",
       "\n"
      ],
      "text/plain": [
       "<IPython.core.display.Markdown object>"
      ]
     },
     "metadata": {},
     "output_type": "display_data"
    }
   ],
   "source": [
    "text_to_sql(query_engine, \"How many of the planets are rocky?\", number=2)"
   ]
  },
  {
   "cell_type": "code",
   "execution_count": 11,
   "metadata": {},
   "outputs": [
    {
     "data": {
      "text/markdown": [
       "\n",
       "### Question\n",
       "\n",
       "**3. What are the names, eye color and hair color of people who have blue eyes? Arrange the names in reverse alphabetical order.**\n",
       "\n",
       "### Answer\n",
       "\n",
       "Here are the names, eye colors, and hair colors of people who have blue eyes, arranged in reverse alphabetical order:\n",
       "\n",
       "Wilhuff Tarkin - Blue eyes, auburn/grey hair\n",
       "Tarfful - Blue eyes, brown hair  \n",
       "Ric Olié - Blue eyes, brown hair\n",
       "Qui-Gon Jinn - Blue eyes, brown hair\n",
       "Owen Lars - Blue eyes, brown/grey hair\n",
       "Mon Mothma - Blue eyes, auburn hair\n",
       "Mas Amedda - Blue eyes, no hair\n",
       "Luminara Unduli - Blue eyes, black hair\n",
       "Luke Skywalker - Blue eyes, blond hair\n",
       "Lobot - Blue eyes, no hair\n",
       "Jocasta Nu - Blue eyes, white hair\n",
       "Jek Tono Porkins - Blue eyes, brown hair\n",
       "Finis Valorum - Blue eyes, blond hair\n",
       "Cliegg Lars - Blue eyes, brown hair\n",
       "Chewbacca - Blue eyes, brown hair\n",
       "Beru Whitesun lars - Blue eyes, brown hair\n",
       "Barriss Offee - Blue eyes, black hair\n",
       "Anakin Skywalker - Blue eyes, blond hair\n",
       "Adi Gallia - Blue eyes, no hair\n",
       "\n",
       "### Generated SQL Query\n",
       "```sql\n",
       "SELECT name, eye_color, hair_color\n",
       "FROM people\n",
       "WHERE eye_color = 'blue'\n",
       "ORDER BY name DESC;\n",
       "```\n",
       "\n",
       "### SQL Results\n",
       "\n",
       "| name | eye_color | hair_color |\n",
       "| --- | --- | --- |\n",
       "| Wilhuff Tarkin | blue | auburn, grey |\n",
       "| Tarfful | blue | brown |\n",
       "| Ric Olié | blue | brown |\n",
       "| Qui-Gon Jinn | blue | brown |\n",
       "| Owen Lars | blue | brown, grey |\n",
       "| Mon Mothma | blue | auburn |\n",
       "| Mas Amedda | blue | none |\n",
       "| Luminara Unduli | blue | black |\n",
       "| Luke Skywalker | blue | blond |\n",
       "| Lobot | blue | none |\n",
       "| Jocasta Nu | blue | white |\n",
       "| Jek Tono Porkins | blue | brown |\n",
       "| Finis Valorum | blue | blond |\n",
       "| Cliegg Lars | blue | brown |\n",
       "| Chewbacca | blue | brown |\n",
       "| Beru Whitesun lars | blue | brown |\n",
       "| Barriss Offee | blue | black |\n",
       "| Anakin Skywalker | blue | blond |\n",
       "| Adi Gallia | blue | none |\n",
       "\n"
      ],
      "text/plain": [
       "<IPython.core.display.Markdown object>"
      ]
     },
     "metadata": {},
     "output_type": "display_data"
    }
   ],
   "source": [
    "text_to_sql(query_engine, \"What are the names, eye color and hair color of people who have blue eyes? Arrange the names in reverse alphabetical order.\", number=3)"
   ]
  },
  {
   "cell_type": "code",
   "execution_count": 12,
   "metadata": {},
   "outputs": [
    {
     "data": {
      "text/markdown": [
       "\n",
       "### Question\n",
       "\n",
       "**4. List the top 10 planets that have rocky characteristics, in alphabetical order?**\n",
       "\n",
       "### Answer\n",
       "\n",
       "Based on the SQL query and results, here is a synthesized response to the input question \"List the top 10 planets that have rocky characteristics, in alphabetical order?\":\n",
       "\n",
       "The top 10 planets with rocky characteristics, listed in alphabetical order, are:\n",
       "\n",
       "1. Alderaan - Featuring grasslands and mountains\n",
       "2. Bestine IV - Rocky islands and oceans\n",
       "3. Cato Neimoidia - Mountains, fields, forests, and rock arches\n",
       "4. Coruscant - A cityscape with mountains\n",
       "5. Dantooine - Oceans, savannas, mountains, and grasslands\n",
       "6. Endor - Forests, mountains, and lakes\n",
       "7. Geonosis - Rock, desert, mountains, and barren terrain\n",
       "8. Hoth - Tundra, ice caves, and mountain ranges\n",
       "9. Iktotch - Rocky terrain\n",
       "10. Iridonia - Rocky canyons and acid pools\n",
       "\n",
       "These planets exhibit rocky features such as mountains, canyons, rock arches, and rocky islands or terrain, making them ideal candidates for the list of top rocky planets.\n",
       "\n",
       "### Generated SQL Query\n",
       "```sql\n",
       "SELECT p.name, p.terrain\n",
       "FROM planet p\n",
       "WHERE p.terrain LIKE '%rocky%' OR p.terrain LIKE '%mountain%'\n",
       "ORDER BY p.name\n",
       "LIMIT 10;\n",
       "```\n",
       "\n",
       "### SQL Results\n",
       "\n",
       "| name | terrain |\n",
       "| --- | --- |\n",
       "| Alderaan | grasslands, mountains |\n",
       "| Bestine IV | rocky islands, oceans |\n",
       "| Cato Neimoidia | mountains, fields, forests, rock arches |\n",
       "| Coruscant | cityscape, mountains |\n",
       "| Dantooine | oceans, savannas, mountains, grasslands |\n",
       "| Endor | forests, mountains, lakes |\n",
       "| Geonosis | rock, desert, mountain, barren |\n",
       "| Hoth | tundra, ice caves, mountain ranges |\n",
       "| Iktotch | rocky |\n",
       "| Iridonia | rocky canyons, acid pools |\n",
       "\n"
      ],
      "text/plain": [
       "<IPython.core.display.Markdown object>"
      ]
     },
     "metadata": {},
     "output_type": "display_data"
    }
   ],
   "source": [
    "text_to_sql(query_engine, \"List the top 10 planets that have rocky characteristics, in alphabetical order?\", number=4)"
   ]
  },
  {
   "cell_type": "code",
   "execution_count": 13,
   "metadata": {},
   "outputs": [
    {
     "data": {
      "text/markdown": [
       "\n",
       "### Question\n",
       "\n",
       "**5. In th top 10 planets that have rocky characteristics, who are the men and describe their skin color and eye color?**\n",
       "\n",
       "### Answer\n",
       "\n",
       "Based on the query results for the top 10 rocky planets, the men found on those planets along with their skin and eye colors are:\n",
       "\n",
       "1. Eeth Koth from Iridonia has brown skin and brown eyes.\n",
       "2. Saesee Tiin from Iktotch has pale skin and orange eyes. \n",
       "3. Nien Nunb from Sullust has grey skin and black eyes.\n",
       "4. Jek Tono Porkins from Bestine IV has fair skin and blue eyes.\n",
       "\n",
       "The query filtered for planets with rocky terrain characteristics, joined with the people table to get the names and physical attributes of males from those planets, ordered by descending planet population, and limited the results to the top 10 records.\n",
       "\n",
       "### Generated SQL Query\n",
       "```sql\n",
       "SELECT p.name, pe.name, pe.skin_color, pe.eye_color\n",
       "FROM planet p\n",
       "JOIN people pe ON p.id = pe.planet_id\n",
       "WHERE p.terrain LIKE '%rocky%'\n",
       "  AND pe.gender = 'male'\n",
       "ORDER BY p.population DESC\n",
       "LIMIT 10;\n",
       "```\n",
       "\n",
       "### SQL Results\n",
       "\n",
       "| name | name | skin_color | eye_color |\n",
       "| --- | --- | --- | --- |\n",
       "| Iridonia | Eeth Koth | brown | brown |\n",
       "| Iktotch | Saesee Tiin | pale | orange |\n",
       "| Sullust | Nien Nunb | grey | black |\n",
       "| Bestine IV | Jek Tono Porkins | fair | blue |\n",
       "\n"
      ],
      "text/plain": [
       "<IPython.core.display.Markdown object>"
      ]
     },
     "metadata": {},
     "output_type": "display_data"
    }
   ],
   "source": [
    "text_to_sql(query_engine, \"In th top 10 planets that have rocky characteristics, who are the men and describe their skin color and eye color?\", number=5)"
   ]
  },
  {
   "cell_type": "code",
   "execution_count": 14,
   "metadata": {},
   "outputs": [
    {
     "data": {
      "text/markdown": [
       "\n",
       "### Question\n",
       "\n",
       "**6. What are the names and heights of all people who are from planets with a climate of 'temperate'?**\n",
       "\n",
       "### Answer\n",
       "\n",
       "Based on the SQL query and results, here is a response to the input question \"What are the names and heights of all people who are from planets with a climate of 'temperate'?\":\n",
       "\n",
       "The query retrieves the name and height columns from the people table, joining with the planet table to filter for only those people whose planet has a 'temperate' climate. The results are ordered by height in descending order.\n",
       "\n",
       "Some notable people from temperate planets include:\n",
       "\n",
       "- Lama Su, with a height of 229 cm\n",
       "- Roos Tarpals, 224 cm \n",
       "- Taun We, 213 cm\n",
       "- Rugor Nass, 206 cm\n",
       "- Ki-Adi-Mundi, 198 cm\n",
       "- Jar Jar Binks, 196 cm\n",
       "- Mas Amedda, 196 cm\n",
       "\n",
       "The tallest is Lama Su at 229 cm, while some of the shorter ones include Leia Organa at 150 cm, Watto at 137 cm, and the droids R2-D2 at 96 cm and Wicket at 88 cm.\n",
       "\n",
       "The results cover a diverse range of species and characters from various planets with temperate climates across the Star Wars universe.\n",
       "\n",
       "### Generated SQL Query\n",
       "```sql\n",
       "SELECT people.name, people.height\n",
       "FROM people\n",
       "JOIN planet ON people.planet_id = planet.id\n",
       "WHERE planet.climate = 'temperate'\n",
       "ORDER BY people.height DESC;\n",
       "```\n",
       "\n",
       "### SQL Results\n",
       "\n",
       "| name | height |\n",
       "| --- | --- |\n",
       "| Lama Su | 229 |\n",
       "| Roos Tarpals | 224 |\n",
       "| Taun We | 213 |\n",
       "| Rugor Nass | 206 |\n",
       "| Ki-Adi-Mundi | 198 |\n",
       "| Jar Jar Binks | 196 |\n",
       "| Mas Amedda | 196 |\n",
       "| Wat Tambor | 193 |\n",
       "| Bail Prestor Organa | 191 |\n",
       "| San Hill | 191 |\n",
       "| Raymus Antilles | 188 |\n",
       "| Mace Windu | 188 |\n",
       "| Plo Koon | 188 |\n",
       "| Gregar Typho | 185 |\n",
       "| Adi Gallia | 184 |\n",
       "| Ric Olié | 183 |\n",
       "| Boba Fett | 183 |\n",
       "| Quarsh Panaka | 183 |\n",
       "| Obi-Wan Kenobi | 182 |\n",
       "| Jek Tono Porkins | 180 |\n",
       "| Ackbar | 180 |\n",
       "| Han Solo | 180 |\n",
       "| Shaak Ti | 178 |\n",
       "| Lobot | 175 |\n",
       "| Darth Maul | 175 |\n",
       "| Jabba Desilijic Tiure | 175 |\n",
       "| Wedge Antilles | 170 |\n",
       "| Palpatine | 170 |\n",
       "| Finis Valorum | 170 |\n",
       "| Jocasta Nu | 167 |\n",
       "| Padmé Amidala | 165 |\n",
       "| Dormé | 165 |\n",
       "| Cordé | 157 |\n",
       "| Mon Mothma | 150 |\n",
       "| Leia Organa | 150 |\n",
       "| Watto | 137 |\n",
       "| R2-D2 | 96 |\n",
       "| Wicket Systri Warrick | 88 |\n",
       "\n"
      ],
      "text/plain": [
       "<IPython.core.display.Markdown object>"
      ]
     },
     "metadata": {},
     "output_type": "display_data"
    }
   ],
   "source": [
    "text_to_sql(query_engine, \"What are the names and heights of all people who are from planets with a climate of 'temperate'?\", number=6)"
   ]
  },
  {
   "cell_type": "code",
   "execution_count": 15,
   "metadata": {},
   "outputs": [
    {
     "data": {
      "text/markdown": [
       "\n",
       "### Question\n",
       "\n",
       "**7. What are the names and birth years of all people from planets with a population greater than 1,000,000?**\n",
       "\n",
       "### Answer\n",
       "\n",
       "Based on the SQL query and results, here is a synthesized response:\n",
       "\n",
       "The query retrieves the names and birth years of all people from planets with a population greater than 1,000,000. Some notable individuals included are:\n",
       "\n",
       "- Chewbacca, born 200BBY (Before the Battle of Yavin)\n",
       "- Jabba the Hutt, born 600BBY \n",
       "- Jar Jar Binks, born 52BBY\n",
       "- Han Solo, born 29BBY\n",
       "- Leia Organa, born 19BBY\n",
       "- Palpatine, born 82BBY\n",
       "- R2-D2, born 33BBY\n",
       "- Wicket Systri Warrick (an Ewok), born 8BBY\n",
       "- Wilhuff Tarkin, born 64BBY\n",
       "\n",
       "The results span a wide range of characters from the Star Wars universe, including humans, droids, Wookiees, Hutts, and Gungans. Many have birth years listed, while others have null values for their birth year. The ordering is alphabetical by name.\n",
       "\n",
       "### Generated SQL Query\n",
       "```sql\n",
       "SELECT p.name, p.birth_year\n",
       "FROM people p\n",
       "JOIN planet pl ON p.planet_id = pl.id\n",
       "WHERE pl.population > 1000000\n",
       "ORDER BY p.name;\n",
       "```\n",
       "\n",
       "### SQL Results\n",
       "\n",
       "| name | birth_year |\n",
       "| --- | --- |\n",
       "| Ackbar | 41BBY |\n",
       "| Adi Gallia | None |\n",
       "| Ayla Secura | 48BBY |\n",
       "| Bail Prestor Organa | 67BBY |\n",
       "| Bib Fortuna | None |\n",
       "| Boba Fett | 31.5BBY |\n",
       "| Bossk | 53BBY |\n",
       "| Chewbacca | 200BBY |\n",
       "| Cordé | None |\n",
       "| Dexter Jettster | None |\n",
       "| Dormé | None |\n",
       "| Dud Bolt | None |\n",
       "| Finis Valorum | 91BBY |\n",
       "| Greedo | 44BBY |\n",
       "| Gregar Typho | None |\n",
       "| Grievous | None |\n",
       "| Han Solo | 29BBY |\n",
       "| Jabba Desilijic Tiure | 600BBY |\n",
       "| Jar Jar Binks | 52BBY |\n",
       "| Jek Tono Porkins | None |\n",
       "| Jocasta Nu | None |\n",
       "| Ki-Adi-Mundi | 92BBY |\n",
       "| Kit Fisto | None |\n",
       "| Lama Su | None |\n",
       "| Lando Calrissian | 31BBY |\n",
       "| Leia Organa | 19BBY |\n",
       "| Lobot | 37BBY |\n",
       "| Mas Amedda | None |\n",
       "| Mon Mothma | 48BBY |\n",
       "| Nien Nunb | None |\n",
       "| Nute Gunray | None |\n",
       "| Padmé Amidala | 46BBY |\n",
       "| Palpatine | 82BBY |\n",
       "| Poggle the Lesser | None |\n",
       "| Quarsh Panaka | 62BBY |\n",
       "| R2-D2 | 33BBY |\n",
       "| Raymus Antilles | None |\n",
       "| Ric Olié | None |\n",
       "| Roos Tarpals | None |\n",
       "| Rugor Nass | None |\n",
       "| San Hill | None |\n",
       "| Sebulba | None |\n",
       "| Tarfful | None |\n",
       "| Taun We | None |\n",
       "| Tion Medon | None |\n",
       "| Wat Tambor | None |\n",
       "| Watto | None |\n",
       "| Wedge Antilles | 21BBY |\n",
       "| Wicket Systri Warrick | 8BBY |\n",
       "| Wilhuff Tarkin | 64BBY |\n",
       "\n"
      ],
      "text/plain": [
       "<IPython.core.display.Markdown object>"
      ]
     },
     "metadata": {},
     "output_type": "display_data"
    }
   ],
   "source": [
    "text_to_sql(query_engine, \"What are the names and birth years of all people from planets with a population greater than 1,000,000?\", number=7)"
   ]
  },
  {
   "cell_type": "code",
   "execution_count": 16,
   "metadata": {},
   "outputs": [
    {
     "data": {
      "text/markdown": [
       "\n",
       "### Question\n",
       "\n",
       "**8. What is the average rotation period of all planets?**\n",
       "\n",
       "### Answer\n",
       "\n",
       "The average rotation period of all planets is approximately 26 days.\n",
       "\n",
       "### Generated SQL Query\n",
       "```sql\n",
       "SELECT AVG(rotation_period) AS average_rotation_period\n",
       "FROM planet;\n",
       "```\n",
       "\n",
       "### SQL Results\n",
       "\n",
       "| average_rotation_period |\n",
       "| --- |\n",
       "| 25.9583333333333333 |\n",
       "\n"
      ],
      "text/plain": [
       "<IPython.core.display.Markdown object>"
      ]
     },
     "metadata": {},
     "output_type": "display_data"
    }
   ],
   "source": [
    "text_to_sql(query_engine, \"What is the average rotation period of all planets?\", number=8)"
   ]
  },
  {
   "cell_type": "code",
   "execution_count": 17,
   "metadata": {},
   "outputs": [
    {
     "data": {
      "text/markdown": [
       "\n",
       "### Question\n",
       "\n",
       "**9. List the names, birthyear, and URLs of all people born before the year 20BBY.**\n",
       "\n",
       "### Answer\n",
       "\n",
       "Here is a response synthesized from the query results:\n",
       "\n",
       "The people born before the year 20BBY include Dooku (born 102BBY), C-3PO (born 112BBY), IG-88 (born 15BBY), Luke Skywalker (born 19BBY), Leia Organa (born 19BBY), and Chewbacca (born 200BBY). Dooku and C-3PO were born over a century before the Battle of Yavin, while IG-88, Luke, and Leia were born in the decades just prior. Chewbacca, a wookiee from the planet Kashyyyk, was born an astonishing 200 years before the events of the original Star Wars trilogy. You can find more information about each of these characters at the URLs provided in the query results.\n",
       "\n",
       "### Generated SQL Query\n",
       "```sql\n",
       "SELECT name, birth_year, url \n",
       "          FROM people\n",
       "          WHERE birth_year < '20BBY'\n",
       "          ORDER BY birth_year;\n",
       "```\n",
       "\n",
       "### SQL Results\n",
       "\n",
       "| name | birth_year | url |\n",
       "| --- | --- | --- |\n",
       "| Dooku | 102BBY | https://swapi.co/api/people/67/ |\n",
       "| C-3PO | 112BBY | https://swapi.co/api/people/2/ |\n",
       "| IG-88 | 15BBY | https://swapi.co/api/people/23/ |\n",
       "| Luke Skywalker | 19BBY | https://swapi.co/api/people/1/ |\n",
       "| Leia Organa | 19BBY | https://swapi.co/api/people/5/ |\n",
       "| Chewbacca | 200BBY | https://swapi.co/api/people/13/ |\n",
       "\n"
      ],
      "text/plain": [
       "<IPython.core.display.Markdown object>"
      ]
     },
     "metadata": {},
     "output_type": "display_data"
    }
   ],
   "source": [
    "text_to_sql(query_engine, \"List the names, birthyear, and URLs of all people born before the year 20BBY.\", number=9)"
   ]
  },
  {
   "cell_type": "code",
   "execution_count": 18,
   "metadata": {},
   "outputs": [
    {
     "data": {
      "text/markdown": [
       "\n",
       "### Question\n",
       "\n",
       "**10. List the names of all female people and their planet's name.**\n",
       "\n",
       "### Answer\n",
       "\n",
       "Based on the SQL query and results, here is a possible response:\n",
       "\n",
       "The query lists the names of all female people and the names of their home planets. Some notable entries include:\n",
       "\n",
       "- Leia Organa from the planet Alderaan\n",
       "- Padmé Amidala from the planet Naboo  \n",
       "- Rey from an unknown planet\n",
       "- Shaak Ti from the planet Shili\n",
       "- Shmi Skywalker from the planet Tatooine\n",
       "- Jocasta Nu and Adi Gallia from the planet Coruscant\n",
       "- Luminara Unduli and Barriss Offee from the planet Mirial\n",
       "- Ayla Secura from the planet Ryloth\n",
       "\n",
       "The list covers a range of female characters from planets across the Star Wars galaxy, including some very prominent figures as well as lesser-known ones. Several have \"Unknown\" listed for their planet, likely indicating the planet is not identified in the data.\n",
       "\n",
       "### Generated SQL Query\n",
       "```sql\n",
       "SELECT p.name AS person_name, pl.name AS planet_name\n",
       "FROM people p\n",
       "JOIN planet pl ON p.planet_id = pl.id\n",
       "WHERE p.gender = 'female'\n",
       "ORDER BY p.name;\n",
       "```\n",
       "\n",
       "### SQL Results\n",
       "\n",
       "| person_name | planet_name |\n",
       "| --- | --- |\n",
       "| Adi Gallia | Coruscant |\n",
       "| Ayla Secura | Ryloth |\n",
       "| Barriss Offee | Mirial |\n",
       "| Beru Whitesun lars | Tatooine |\n",
       "| Captain Phasma | Unknown |\n",
       "| Cordé | Naboo |\n",
       "| Dormé | Naboo |\n",
       "| Jocasta Nu | Coruscant |\n",
       "| Leia Organa | Alderaan |\n",
       "| Luminara Unduli | Mirial |\n",
       "| Mon Mothma | Chandrila |\n",
       "| Padmé Amidala | Naboo |\n",
       "| R4-P17 | Unknown |\n",
       "| Rey | Unknown |\n",
       "| Shaak Ti | Shili |\n",
       "| Shmi Skywalker | Tatooine |\n",
       "| Sly Moore | Umbara |\n",
       "| Taun We | Kamino |\n",
       "| Zam Wesell | Zolan |\n",
       "\n"
      ],
      "text/plain": [
       "<IPython.core.display.Markdown object>"
      ]
     },
     "metadata": {},
     "output_type": "display_data"
    }
   ],
   "source": [
    "text_to_sql(query_engine, \"List the names of all female people and their planet's name.\", number=10)"
   ]
  },
  {
   "cell_type": "code",
   "execution_count": null,
   "metadata": {},
   "outputs": [],
   "source": []
  }
 ],
 "metadata": {
  "kernelspec": {
   "display_name": ".venv",
   "language": "python",
   "name": "python3"
  },
  "language_info": {
   "codemirror_mode": {
    "name": "ipython",
    "version": 3
   },
   "file_extension": ".py",
   "mimetype": "text/x-python",
   "name": "python",
   "nbconvert_exporter": "python",
   "pygments_lexer": "ipython3",
   "version": "3.12.0"
  }
 },
 "nbformat": 4,
 "nbformat_minor": 2
}
