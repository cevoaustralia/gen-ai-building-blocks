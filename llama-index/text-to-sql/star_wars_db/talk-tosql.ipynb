{
 "cells": [
  {
   "cell_type": "code",
   "execution_count": 1,
   "metadata": {},
   "outputs": [
    {
     "name": "stdout",
     "output_type": "stream",
     "text": [
      "Python 3.12.0\n"
     ]
    }
   ],
   "source": [
    "! python --version"
   ]
  },
  {
   "cell_type": "code",
   "execution_count": 2,
   "metadata": {},
   "outputs": [],
   "source": [
    "%%capture\n",
    "! pip install llama-index\n",
    "! pip install psycopg2-binary\n",
    "! pip install SQLAlchemy\n",
    "! pip install python-dotenv\n",
    "! pip install llama-index-llms-bedrock\n",
    "! pip install llama-index-embeddings-bedrock"
   ]
  },
  {
   "cell_type": "code",
   "execution_count": 3,
   "metadata": {},
   "outputs": [],
   "source": [
    "from sqlalchemy import (\n",
    "    create_engine,\n",
    ")\n",
    "import os\n",
    "\n",
    "from dotenv import load_dotenv\n",
    "\n",
    "load_dotenv(verbose=True, dotenv_path=\"../../../.env\")\n",
    "\n",
    "engine = create_engine(f\"postgresql+psycopg2://postgres:{\n",
    "                       os.environ[\"PG_VECTOR_PW\"]}@localhost:5432/{os.environ[\"PG_VECTOR_DB\"]}\")"
   ]
  },
  {
   "cell_type": "code",
   "execution_count": 23,
   "metadata": {},
   "outputs": [
    {
     "name": "stdout",
     "output_type": "stream",
     "text": [
      "[(1, 'Luke Skywalker', 172, 77.0, 'blond', 'fair', 'blue', '19BBY', 'male', 1, datetime.datetime(2014, 12, 9, 13, 50, 51, 644000), datetime.datetime(2014, 12, 20, 21, 17, 56, 891000), 'https://swapi.co/api/people/1/'), (2, 'C-3PO', 167, 75.0, 'n/a', 'gold', 'yellow', '112BBY', 'n/a', 1, datetime.datetime(2014, 12, 10, 15, 10, 51, 357000), datetime.datetime(2014, 12, 20, 21, 17, 50, 309000), 'https://swapi.co/api/people/2/'), (3, 'R2-D2', 96, 32.0, 'n/a', 'white, blue', 'red', '33BBY', 'n/a', 8, datetime.datetime(2014, 12, 10, 15, 11, 50, 376000), datetime.datetime(2014, 12, 20, 21, 17, 50, 311000), 'https://swapi.co/api/people/3/'), (4, 'Darth Vader', 202, 136.0, 'none', 'white', 'yellow', '41.9BBY', 'male', 1, datetime.datetime(2014, 12, 10, 15, 18, 20, 704000), datetime.datetime(2014, 12, 20, 21, 17, 50, 313000), 'https://swapi.co/api/people/4/'), (5, 'Leia Organa', 150, 49.0, 'brown', 'light', 'brown', '19BBY', 'female', 2, datetime.datetime(2014, 12, 10, 15, 20, 9, 791000), datetime.datetime(2014, 12, 20, 21, 17, 50, 315000), 'https://swapi.co/api/people/5/')]\n",
      "[(2, 'Alderaan', 24, 364, 12500, 'temperate', '1 standard', 'grasslands, mountains', '40', 2000000000, datetime.datetime(2014, 12, 10, 11, 35, 48, 479000), datetime.datetime(2014, 12, 20, 20, 58, 18, 420000), 'https://swapi.co/api/planets/2/'), (3, 'Yavin IV', 24, 4818, 10200, 'temperate, tropical', '1 standard', 'jungle, rainforests', '8', 1000, datetime.datetime(2014, 12, 10, 11, 37, 19, 144000), datetime.datetime(2014, 12, 20, 20, 58, 18, 421000), 'https://swapi.co/api/planets/3/'), (4, 'Hoth', 23, 549, 7200, 'frozen', '1.1 standard', 'tundra, ice caves, mountain ranges', '100', None, datetime.datetime(2014, 12, 10, 11, 39, 13, 934000), datetime.datetime(2014, 12, 20, 20, 58, 18, 423000), 'https://swapi.co/api/planets/4/'), (5, 'Dagobah', 23, 341, 8900, 'murky', 'N/A', 'swamp, jungles', '8', None, datetime.datetime(2014, 12, 10, 11, 42, 22, 590000), datetime.datetime(2014, 12, 20, 20, 58, 18, 425000), 'https://swapi.co/api/planets/5/'), (6, 'Bespin', 12, 5110, 118000, 'temperate', '1.5 (surface), 1 standard (Cloud City)', 'gas giant', '0', 6000000, datetime.datetime(2014, 12, 10, 11, 43, 55, 240000), datetime.datetime(2014, 12, 20, 20, 58, 18, 427000), 'https://swapi.co/api/planets/6/')]\n"
     ]
    }
   ],
   "source": [
    "# Testing our connection\n",
    "with engine.connect() as connection:\n",
    "    cursor = connection.exec_driver_sql(\"SELECT * FROM people LIMIT 5\")\n",
    "    print(cursor.fetchall())\n",
    "    \n",
    "with engine.connect() as connection:\n",
    "    cursor = connection.exec_driver_sql(\"SELECT * FROM planet LIMIT 5\")\n",
    "    print(cursor.fetchall())"
   ]
  },
  {
   "cell_type": "code",
   "execution_count": 5,
   "metadata": {},
   "outputs": [],
   "source": [
    "from llama_index.core import Settings\n",
    "from llama_index.llms.bedrock import Bedrock\n",
    "from llama_index.embeddings.bedrock import BedrockEmbedding\n",
    "\n",
    "Settings.llm = Bedrock(\n",
    "    # model=\"anthropic.claude-3-haiku-20240307-v1:0\",\n",
    "    model=\"anthropic.claude-3-sonnet-20240229-v1:0\",\n",
    "    aws_access_key_id=os.environ[\"AWS_ACCESS_KEY_ID\"],\n",
    "    aws_secret_access_key=os.environ[\"AWS_SECRET_ACCESS_KEY\"],\n",
    "    aws_session_token=os.environ[\"AWS_SESSION_TOKEN\"],\n",
    "    region_name=os.environ[\"AWS_DEFAULT_REGION\"],\n",
    ")\n",
    "\n",
    "Settings.embed_model = BedrockEmbedding(\n",
    "    model_name=\"cohere.embed-english-v3\",\n",
    "    region_name=os.environ[\"AWS_DEFAULT_REGION\"],\n",
    ")"
   ]
  },
  {
   "cell_type": "code",
   "execution_count": 6,
   "metadata": {},
   "outputs": [],
   "source": [
    "from llama_index.core import SQLDatabase\n",
    "from llama_index.core.query_engine import NLSQLTableQueryEngine\n",
    "\n",
    "all_table_names = [\"people\", \"planet\"]\n",
    "\n",
    "sql_database = SQLDatabase(engine, include_tables=all_table_names)"
   ]
  },
  {
   "cell_type": "code",
   "execution_count": 7,
   "metadata": {},
   "outputs": [],
   "source": [
    "from llama_index.core.indices.struct_store import SQLTableRetrieverQueryEngine\n",
    "from llama_index.core.objects import (\n",
    "    SQLTableNodeMapping,\n",
    "    ObjectIndex,\n",
    "    SQLTableSchema,\n",
    ")\n",
    "from llama_index.core import VectorStoreIndex\n",
    "from IPython.display import Markdown, display"
   ]
  },
  {
   "cell_type": "code",
   "execution_count": 8,
   "metadata": {},
   "outputs": [
    {
     "name": "stdout",
     "output_type": "stream",
     "text": [
      "[SQLTableSchema(table_name='people', context_str=None), SQLTableSchema(table_name='planet', context_str=None)]\n"
     ]
    }
   ],
   "source": [
    "table_node_mapping = SQLTableNodeMapping(sql_database)\n",
    "\n",
    "table_schema_objs = []\n",
    "for table_name in all_table_names:\n",
    "    table_schema_objs.append(SQLTableSchema(table_name=table_name))\n",
    "    \n",
    "print(table_schema_objs)\n",
    "\n",
    "obj_index = ObjectIndex.from_objects(\n",
    "    table_schema_objs,\n",
    "    table_node_mapping,\n",
    "    VectorStoreIndex,\n",
    ")\n",
    "\n",
    "query_engine = SQLTableRetrieverQueryEngine(\n",
    "    sql_database,\n",
    "    obj_index.as_retriever(similarity_top_k=2)\n",
    ")\n",
    "\n",
    "def format_sql_results_as_markdown_table(sql_results, headers):\n",
    "    \"\"\"\n",
    "    Formats the SQL results as a markdown table\n",
    "    \"\"\"\n",
    "    if not sql_results and not headers:\n",
    "        return \"No results found.\"\n",
    "    \n",
    "    header_row = \"| \" + \" | \".join(headers) + \" |\"\n",
    "    separator_row = \"| \" + \" | \".join([\"---\"] * len(headers)) + \" |\"\n",
    "\n",
    "    table_rows = []\n",
    "    for row in sql_results:\n",
    "        table_row = \"|\"\n",
    "        for j, _ in enumerate(headers):\n",
    "            table_row += f\" {str(row[j])} |\"\n",
    "        table_rows.append(table_row)\n",
    "\n",
    "    markdown_table = \"\\n\".join([header_row, separator_row] + table_rows)\n",
    "    return markdown_table\n",
    "\n",
    "response_template = \"\"\"\n",
    "### Question\n",
    "\n",
    "**{number}. {question}**\n",
    "\n",
    "### Answer\n",
    "\n",
    "{response}\n",
    "\n",
    "### Generated SQL Query\n",
    "```sql\n",
    "{sql}\n",
    "```\n",
    "\n",
    "### SQL Results\n",
    "\n",
    "{sql_results}\n",
    "\n",
    "\"\"\"\n",
    "\n",
    "def text_to_sql(query_engine, question, number=1):\n",
    "    \"\"\"\n",
    "    Calls the query engine with the given question and displays the response as a markdown cell\n",
    "    \"\"\"\n",
    "    engine_response = query_engine.query(question)\n",
    "    display(Markdown(response_template.format(\n",
    "            number=number,\n",
    "            question=question,\n",
    "            response=str(engine_response),\n",
    "            sql=engine_response.metadata[\"sql_query\"],\n",
    "            sql_results=format_sql_results_as_markdown_table(engine_response.metadata[\"result\"], engine_response.metadata[\"col_keys\"]),\n",
    "        )))"
   ]
  },
  {
   "cell_type": "code",
   "execution_count": 9,
   "metadata": {},
   "outputs": [
    {
     "data": {
      "text/markdown": [
       "\n",
       "### Question\n",
       "\n",
       "**1. How many tables are there in the database?**\n",
       "\n",
       "### Answer\n",
       "\n",
       "Based on the SQL query and response, there are 2 tables in the database schema 'public'.\n",
       "\n",
       "### Generated SQL Query\n",
       "```sql\n",
       "SELECT COUNT(*) AS num_tables FROM information_schema.tables WHERE table_schema = 'public';\n",
       "```\n",
       "\n",
       "### SQL Results\n",
       "\n",
       "| num_tables |\n",
       "| --- |\n",
       "| 2 |\n",
       "\n"
      ],
      "text/plain": [
       "<IPython.core.display.Markdown object>"
      ]
     },
     "metadata": {},
     "output_type": "display_data"
    }
   ],
   "source": [
    "text_to_sql(query_engine, \"How many tables are there in the database?\", number=1)"
   ]
  },
  {
   "cell_type": "code",
   "execution_count": 10,
   "metadata": {},
   "outputs": [
    {
     "data": {
      "text/markdown": [
       "\n",
       "### Question\n",
       "\n",
       "**2. How many of the planets are rocky?**\n",
       "\n",
       "### Answer\n",
       "\n",
       "According to the SQL query and its result, there are 27 planets in the database that have a rocky, mountainous, or desert terrain. Therefore, the response to the input question \"How many of the planets are rocky?\" is:\n",
       "\n",
       "There are 27 rocky planets.\n",
       "\n",
       "### Generated SQL Query\n",
       "```sql\n",
       "SELECT COUNT(*) AS rocky_planet_count\n",
       "FROM planet\n",
       "WHERE terrain LIKE '%rocky%' OR terrain LIKE '%mountain%' OR terrain LIKE '%desert%';\n",
       "```\n",
       "\n",
       "### SQL Results\n",
       "\n",
       "| rocky_planet_count |\n",
       "| --- |\n",
       "| 27 |\n",
       "\n"
      ],
      "text/plain": [
       "<IPython.core.display.Markdown object>"
      ]
     },
     "metadata": {},
     "output_type": "display_data"
    }
   ],
   "source": [
    "text_to_sql(query_engine, \"How many of the planets are rocky?\", number=2)"
   ]
  },
  {
   "cell_type": "code",
   "execution_count": 22,
   "metadata": {},
   "outputs": [
    {
     "data": {
      "text/markdown": [
       "\n",
       "### Question\n",
       "\n",
       "**3. Give me the names, hair color of people who have blue eyes? Arrange the names in reverse alphabetical order.**\n",
       "\n",
       "### Answer\n",
       "\n",
       "Here are the names and hair colors of people with blue eyes, arranged in reverse alphabetical order:\n",
       "\n",
       "Wilhuff Tarkin - auburn, grey hair\n",
       "Tarfful - brown hair  \n",
       "Ric Olié - brown hair\n",
       "Qui-Gon Jinn - brown hair\n",
       "Owen Lars - brown, grey hair\n",
       "Mon Mothma - auburn hair\n",
       "Mas Amedda - no hair\n",
       "Luminara Unduli - black hair\n",
       "Luke Skywalker - blond hair\n",
       "Lobot - no hair\n",
       "Jocasta Nu - white hair\n",
       "Jek Tono Porkins - brown hair\n",
       "Finis Valorum - blond hair  \n",
       "Cliegg Lars - brown hair\n",
       "Chewbacca - brown hair\n",
       "Beru Whitesun lars - brown hair\n",
       "Barriss Offee - black hair\n",
       "Anakin Skywalker - blond hair\n",
       "Adi Gallia - no hair\n",
       "\n",
       "### Generated SQL Query\n",
       "```sql\n",
       "SELECT name, hair_color \n",
       "FROM people\n",
       "WHERE eye_color = 'blue'\n",
       "ORDER BY name DESC;\n",
       "```\n",
       "\n",
       "### SQL Results\n",
       "\n",
       "| name | hair_color |\n",
       "| --- | --- |\n",
       "| Wilhuff Tarkin | auburn, grey |\n",
       "| Tarfful | brown |\n",
       "| Ric Olié | brown |\n",
       "| Qui-Gon Jinn | brown |\n",
       "| Owen Lars | brown, grey |\n",
       "| Mon Mothma | auburn |\n",
       "| Mas Amedda | none |\n",
       "| Luminara Unduli | black |\n",
       "| Luke Skywalker | blond |\n",
       "| Lobot | none |\n",
       "| Jocasta Nu | white |\n",
       "| Jek Tono Porkins | brown |\n",
       "| Finis Valorum | blond |\n",
       "| Cliegg Lars | brown |\n",
       "| Chewbacca | brown |\n",
       "| Beru Whitesun lars | brown |\n",
       "| Barriss Offee | black |\n",
       "| Anakin Skywalker | blond |\n",
       "| Adi Gallia | none |\n",
       "\n"
      ],
      "text/plain": [
       "<IPython.core.display.Markdown object>"
      ]
     },
     "metadata": {},
     "output_type": "display_data"
    }
   ],
   "source": [
    "text_to_sql(query_engine, \"Give me the names, hair color of people who have blue eyes? Arrange the names in reverse alphabetical order.\", number=3)"
   ]
  },
  {
   "cell_type": "code",
   "execution_count": 12,
   "metadata": {},
   "outputs": [
    {
     "data": {
      "text/markdown": [
       "\n",
       "### Question\n",
       "\n",
       "**4. List the top 10 planets that have rocky characteristics, in alphabetical order?**\n",
       "\n",
       "### Answer\n",
       "\n",
       "Based on the SQL query and results, here is a synthesized response to the input question \"List the top 10 planets that have rocky characteristics, in alphabetical order?\":\n",
       "\n",
       "The top 10 planets with rocky characteristics, listed in alphabetical order, are:\n",
       "\n",
       "1. Alderaan - Featuring grasslands and mountains\n",
       "2. Bestine IV - Rocky islands and oceans\n",
       "3. Cato Neimoidia - Mountains, fields, forests, and rock arches\n",
       "4. Coruscant - A cityscape with mountains\n",
       "5. Dantooine - Oceans, savannas, mountains, and grasslands\n",
       "6. Endor - Forests, mountains, and lakes\n",
       "7. Geonosis - Rock, desert, mountains, and barren terrain\n",
       "8. Hoth - Tundra, ice caves, and mountain ranges\n",
       "9. Iktotch - Rocky terrain\n",
       "10. Iridonia - Rocky canyons and acid pools\n",
       "\n",
       "These planets exhibit rocky features such as mountains, canyons, rock arches, and rocky islands or terrain, making them ideal candidates for the list of top rocky planets.\n",
       "\n",
       "### Generated SQL Query\n",
       "```sql\n",
       "SELECT p.name, p.terrain\n",
       "FROM planet p\n",
       "WHERE p.terrain LIKE '%rocky%' OR p.terrain LIKE '%mountain%'\n",
       "ORDER BY p.name\n",
       "LIMIT 10;\n",
       "```\n",
       "\n",
       "### SQL Results\n",
       "\n",
       "| name | terrain |\n",
       "| --- | --- |\n",
       "| Alderaan | grasslands, mountains |\n",
       "| Bestine IV | rocky islands, oceans |\n",
       "| Cato Neimoidia | mountains, fields, forests, rock arches |\n",
       "| Coruscant | cityscape, mountains |\n",
       "| Dantooine | oceans, savannas, mountains, grasslands |\n",
       "| Endor | forests, mountains, lakes |\n",
       "| Geonosis | rock, desert, mountain, barren |\n",
       "| Hoth | tundra, ice caves, mountain ranges |\n",
       "| Iktotch | rocky |\n",
       "| Iridonia | rocky canyons, acid pools |\n",
       "\n"
      ],
      "text/plain": [
       "<IPython.core.display.Markdown object>"
      ]
     },
     "metadata": {},
     "output_type": "display_data"
    }
   ],
   "source": [
    "text_to_sql(query_engine, \"List the top 10 planets that have rocky characteristics, in alphabetical order?\", number=4)"
   ]
  },
  {
   "cell_type": "code",
   "execution_count": 21,
   "metadata": {},
   "outputs": [
    {
     "data": {
      "text/markdown": [
       "\n",
       "### Question\n",
       "\n",
       "**5. List the top 10 planets that have rocky characteristics, who are the men and describe their skin color and eye color?**\n",
       "\n",
       "### Answer\n",
       "\n",
       "Based on the SQL query and results, here is a synthesized response to the input question:\n",
       "\n",
       "The top 10 planets that have rocky characteristics and the details of the men from those planets are:\n",
       "\n",
       "1. Bestine IV - Jek Tono Porkins has fair skin and blue eyes.\n",
       "2. Iktotch - Saesee Tiin has pale skin and orange eyes. \n",
       "3. Iridonia - Eeth Koth has brown skin and brown eyes.\n",
       "4. Sullust - Nien Nunb has grey skin and black eyes.\n",
       "\n",
       "The query filters the planets based on having 'rocky' in their terrain description, joins with the people table to get the male residents, and returns their name, skin color, and eye color ordered by the planet name.\n",
       "\n",
       "### Generated SQL Query\n",
       "```sql\n",
       "SELECT p.name, pe.name, pe.skin_color, pe.eye_color\n",
       "FROM planet p\n",
       "JOIN people pe ON p.id = pe.planet_id\n",
       "WHERE p.terrain LIKE '%rocky%' AND pe.gender = 'male'\n",
       "ORDER BY p.name\n",
       "LIMIT 10;\n",
       "```\n",
       "\n",
       "### SQL Results\n",
       "\n",
       "| name | name | skin_color | eye_color |\n",
       "| --- | --- | --- | --- |\n",
       "| Bestine IV | Jek Tono Porkins | fair | blue |\n",
       "| Iktotch | Saesee Tiin | pale | orange |\n",
       "| Iridonia | Eeth Koth | brown | brown |\n",
       "| Sullust | Nien Nunb | grey | black |\n",
       "\n"
      ],
      "text/plain": [
       "<IPython.core.display.Markdown object>"
      ]
     },
     "metadata": {},
     "output_type": "display_data"
    }
   ],
   "source": [
    "text_to_sql(query_engine, \"List the top 10 planets that have rocky characteristics, who are the men and describe their skin color and eye color?\", number=5)"
   ]
  },
  {
   "cell_type": "code",
   "execution_count": 14,
   "metadata": {},
   "outputs": [
    {
     "data": {
      "text/markdown": [
       "\n",
       "### Question\n",
       "\n",
       "**6. What are the names and heights of all people who are from planets with a climate of 'temperate'?**\n",
       "\n",
       "### Answer\n",
       "\n",
       "Based on the SQL query and results, here is a response to the input question \"What are the names and heights of all people who are from planets with a climate of 'temperate'?\":\n",
       "\n",
       "The query retrieves the name and height columns from the people table, joining with the planet table to filter for only those people whose planet has a 'temperate' climate. The results are ordered by height in descending order.\n",
       "\n",
       "Some notable people from temperate planets include:\n",
       "\n",
       "- Lama Su, with a height of 229 cm\n",
       "- Roos Tarpals, 224 cm \n",
       "- Taun We, 213 cm\n",
       "- Rugor Nass, 206 cm\n",
       "- Ki-Adi-Mundi, 198 cm\n",
       "- Jar Jar Binks, 196 cm\n",
       "- Mas Amedda, 196 cm\n",
       "\n",
       "The tallest is Lama Su at 229 cm, while some of the shorter ones include Leia Organa at 150 cm, Watto at 137 cm, and the droids R2-D2 at 96 cm and Wicket at 88 cm.\n",
       "\n",
       "The results cover a diverse range of species and characters from various planets with temperate climates across the Star Wars universe.\n",
       "\n",
       "### Generated SQL Query\n",
       "```sql\n",
       "SELECT people.name, people.height\n",
       "FROM people\n",
       "JOIN planet ON people.planet_id = planet.id\n",
       "WHERE planet.climate = 'temperate'\n",
       "ORDER BY people.height DESC;\n",
       "```\n",
       "\n",
       "### SQL Results\n",
       "\n",
       "| name | height |\n",
       "| --- | --- |\n",
       "| Lama Su | 229 |\n",
       "| Roos Tarpals | 224 |\n",
       "| Taun We | 213 |\n",
       "| Rugor Nass | 206 |\n",
       "| Ki-Adi-Mundi | 198 |\n",
       "| Jar Jar Binks | 196 |\n",
       "| Mas Amedda | 196 |\n",
       "| Wat Tambor | 193 |\n",
       "| Bail Prestor Organa | 191 |\n",
       "| San Hill | 191 |\n",
       "| Raymus Antilles | 188 |\n",
       "| Mace Windu | 188 |\n",
       "| Plo Koon | 188 |\n",
       "| Gregar Typho | 185 |\n",
       "| Adi Gallia | 184 |\n",
       "| Ric Olié | 183 |\n",
       "| Boba Fett | 183 |\n",
       "| Quarsh Panaka | 183 |\n",
       "| Obi-Wan Kenobi | 182 |\n",
       "| Jek Tono Porkins | 180 |\n",
       "| Ackbar | 180 |\n",
       "| Han Solo | 180 |\n",
       "| Shaak Ti | 178 |\n",
       "| Lobot | 175 |\n",
       "| Darth Maul | 175 |\n",
       "| Jabba Desilijic Tiure | 175 |\n",
       "| Wedge Antilles | 170 |\n",
       "| Palpatine | 170 |\n",
       "| Finis Valorum | 170 |\n",
       "| Jocasta Nu | 167 |\n",
       "| Padmé Amidala | 165 |\n",
       "| Dormé | 165 |\n",
       "| Cordé | 157 |\n",
       "| Mon Mothma | 150 |\n",
       "| Leia Organa | 150 |\n",
       "| Watto | 137 |\n",
       "| R2-D2 | 96 |\n",
       "| Wicket Systri Warrick | 88 |\n",
       "\n"
      ],
      "text/plain": [
       "<IPython.core.display.Markdown object>"
      ]
     },
     "metadata": {},
     "output_type": "display_data"
    }
   ],
   "source": [
    "text_to_sql(query_engine, \"What are the names and heights of all people who are from planets with a climate of 'temperate'?\", number=6)"
   ]
  },
  {
   "cell_type": "code",
   "execution_count": 15,
   "metadata": {},
   "outputs": [
    {
     "data": {
      "text/markdown": [
       "\n",
       "### Question\n",
       "\n",
       "**7. What are the names and birth years of all people from planets with a population greater than 1,000,000?**\n",
       "\n",
       "### Answer\n",
       "\n",
       "Based on the SQL query and results, here is a synthesized response:\n",
       "\n",
       "The query retrieves the names and birth years of all people from planets with a population greater than 1,000,000. Some notable individuals included are:\n",
       "\n",
       "- Chewbacca, born 200BBY (Before the Battle of Yavin)\n",
       "- Jabba the Hutt, born 600BBY \n",
       "- Jar Jar Binks, born 52BBY\n",
       "- Han Solo, born 29BBY\n",
       "- Leia Organa, born 19BBY\n",
       "- Palpatine, born 82BBY\n",
       "- R2-D2, born 33BBY\n",
       "- Wicket Systri Warrick (an Ewok), born 8BBY\n",
       "- Wilhuff Tarkin, born 64BBY\n",
       "\n",
       "The results span a wide range of characters from the Star Wars universe, including humans, droids, Wookiees, Hutts, and Gungans. Many have birth years listed, while others have null values for their birth year. The ordering is alphabetical by name.\n",
       "\n",
       "### Generated SQL Query\n",
       "```sql\n",
       "SELECT p.name, p.birth_year\n",
       "FROM people p\n",
       "JOIN planet pl ON p.planet_id = pl.id\n",
       "WHERE pl.population > 1000000\n",
       "ORDER BY p.name;\n",
       "```\n",
       "\n",
       "### SQL Results\n",
       "\n",
       "| name | birth_year |\n",
       "| --- | --- |\n",
       "| Ackbar | 41BBY |\n",
       "| Adi Gallia | None |\n",
       "| Ayla Secura | 48BBY |\n",
       "| Bail Prestor Organa | 67BBY |\n",
       "| Bib Fortuna | None |\n",
       "| Boba Fett | 31.5BBY |\n",
       "| Bossk | 53BBY |\n",
       "| Chewbacca | 200BBY |\n",
       "| Cordé | None |\n",
       "| Dexter Jettster | None |\n",
       "| Dormé | None |\n",
       "| Dud Bolt | None |\n",
       "| Finis Valorum | 91BBY |\n",
       "| Greedo | 44BBY |\n",
       "| Gregar Typho | None |\n",
       "| Grievous | None |\n",
       "| Han Solo | 29BBY |\n",
       "| Jabba Desilijic Tiure | 600BBY |\n",
       "| Jar Jar Binks | 52BBY |\n",
       "| Jek Tono Porkins | None |\n",
       "| Jocasta Nu | None |\n",
       "| Ki-Adi-Mundi | 92BBY |\n",
       "| Kit Fisto | None |\n",
       "| Lama Su | None |\n",
       "| Lando Calrissian | 31BBY |\n",
       "| Leia Organa | 19BBY |\n",
       "| Lobot | 37BBY |\n",
       "| Mas Amedda | None |\n",
       "| Mon Mothma | 48BBY |\n",
       "| Nien Nunb | None |\n",
       "| Nute Gunray | None |\n",
       "| Padmé Amidala | 46BBY |\n",
       "| Palpatine | 82BBY |\n",
       "| Poggle the Lesser | None |\n",
       "| Quarsh Panaka | 62BBY |\n",
       "| R2-D2 | 33BBY |\n",
       "| Raymus Antilles | None |\n",
       "| Ric Olié | None |\n",
       "| Roos Tarpals | None |\n",
       "| Rugor Nass | None |\n",
       "| San Hill | None |\n",
       "| Sebulba | None |\n",
       "| Tarfful | None |\n",
       "| Taun We | None |\n",
       "| Tion Medon | None |\n",
       "| Wat Tambor | None |\n",
       "| Watto | None |\n",
       "| Wedge Antilles | 21BBY |\n",
       "| Wicket Systri Warrick | 8BBY |\n",
       "| Wilhuff Tarkin | 64BBY |\n",
       "\n"
      ],
      "text/plain": [
       "<IPython.core.display.Markdown object>"
      ]
     },
     "metadata": {},
     "output_type": "display_data"
    }
   ],
   "source": [
    "text_to_sql(query_engine, \"What are the names and birth years of all people from planets with a population greater than 1,000,000?\", number=7)"
   ]
  },
  {
   "cell_type": "code",
   "execution_count": 16,
   "metadata": {},
   "outputs": [
    {
     "data": {
      "text/markdown": [
       "\n",
       "### Question\n",
       "\n",
       "**8. What is the average rotation period of all planets?**\n",
       "\n",
       "### Answer\n",
       "\n",
       "The average rotation period of all planets is approximately 26 days.\n",
       "\n",
       "### Generated SQL Query\n",
       "```sql\n",
       "SELECT AVG(rotation_period) AS average_rotation_period\n",
       "FROM planet;\n",
       "```\n",
       "\n",
       "### SQL Results\n",
       "\n",
       "| average_rotation_period |\n",
       "| --- |\n",
       "| 25.9583333333333333 |\n",
       "\n"
      ],
      "text/plain": [
       "<IPython.core.display.Markdown object>"
      ]
     },
     "metadata": {},
     "output_type": "display_data"
    }
   ],
   "source": [
    "text_to_sql(query_engine, \"What is the average rotation period of all planets?\", number=8)"
   ]
  },
  {
   "cell_type": "code",
   "execution_count": 17,
   "metadata": {},
   "outputs": [
    {
     "data": {
      "text/markdown": [
       "\n",
       "### Question\n",
       "\n",
       "**9. List the names, birthyear, and URLs of all people born before the year 20BBY.**\n",
       "\n",
       "### Answer\n",
       "\n",
       "Here is a response synthesized from the query results:\n",
       "\n",
       "The people born before the year 20BBY include Dooku (born 102BBY), C-3PO (born 112BBY), IG-88 (born 15BBY), Luke Skywalker (born 19BBY), Leia Organa (born 19BBY), and Chewbacca (born 200BBY). Dooku and C-3PO were born over a century before the Battle of Yavin, while IG-88, Luke, and Leia were born in the decades just prior. Chewbacca, a wookiee from the planet Kashyyyk, was born an astonishing 200 years before the events of the original Star Wars trilogy. You can find more information about each of these characters at the URLs provided in the query results.\n",
       "\n",
       "### Generated SQL Query\n",
       "```sql\n",
       "SELECT name, birth_year, url \n",
       "          FROM people\n",
       "          WHERE birth_year < '20BBY'\n",
       "          ORDER BY birth_year;\n",
       "```\n",
       "\n",
       "### SQL Results\n",
       "\n",
       "| name | birth_year | url |\n",
       "| --- | --- | --- |\n",
       "| Dooku | 102BBY | https://swapi.co/api/people/67/ |\n",
       "| C-3PO | 112BBY | https://swapi.co/api/people/2/ |\n",
       "| IG-88 | 15BBY | https://swapi.co/api/people/23/ |\n",
       "| Luke Skywalker | 19BBY | https://swapi.co/api/people/1/ |\n",
       "| Leia Organa | 19BBY | https://swapi.co/api/people/5/ |\n",
       "| Chewbacca | 200BBY | https://swapi.co/api/people/13/ |\n",
       "\n"
      ],
      "text/plain": [
       "<IPython.core.display.Markdown object>"
      ]
     },
     "metadata": {},
     "output_type": "display_data"
    }
   ],
   "source": [
    "text_to_sql(query_engine, \"List the names, birthyear, and URLs of all people born before the year 20BBY.\", number=9)"
   ]
  },
  {
   "cell_type": "code",
   "execution_count": 18,
   "metadata": {},
   "outputs": [
    {
     "data": {
      "text/markdown": [
       "\n",
       "### Question\n",
       "\n",
       "**10. List the names of all female people and their planet's name.**\n",
       "\n",
       "### Answer\n",
       "\n",
       "Based on the SQL query and results, here is a possible response:\n",
       "\n",
       "The query lists the names of all female people and the names of their home planets. Some notable entries include:\n",
       "\n",
       "- Leia Organa from the planet Alderaan\n",
       "- Padmé Amidala from the planet Naboo  \n",
       "- Rey from an unknown planet\n",
       "- Shaak Ti from the planet Shili\n",
       "- Shmi Skywalker from the planet Tatooine\n",
       "- Jocasta Nu and Adi Gallia from the planet Coruscant\n",
       "- Luminara Unduli and Barriss Offee from the planet Mirial\n",
       "- Ayla Secura from the planet Ryloth\n",
       "\n",
       "The list covers a range of female characters from planets across the Star Wars galaxy, including some very prominent figures as well as lesser-known ones. Several have \"Unknown\" listed for their planet, likely indicating the planet is not identified in the data.\n",
       "\n",
       "### Generated SQL Query\n",
       "```sql\n",
       "SELECT p.name AS person_name, pl.name AS planet_name\n",
       "FROM people p\n",
       "JOIN planet pl ON p.planet_id = pl.id\n",
       "WHERE p.gender = 'female'\n",
       "ORDER BY p.name;\n",
       "```\n",
       "\n",
       "### SQL Results\n",
       "\n",
       "| person_name | planet_name |\n",
       "| --- | --- |\n",
       "| Adi Gallia | Coruscant |\n",
       "| Ayla Secura | Ryloth |\n",
       "| Barriss Offee | Mirial |\n",
       "| Beru Whitesun lars | Tatooine |\n",
       "| Captain Phasma | Unknown |\n",
       "| Cordé | Naboo |\n",
       "| Dormé | Naboo |\n",
       "| Jocasta Nu | Coruscant |\n",
       "| Leia Organa | Alderaan |\n",
       "| Luminara Unduli | Mirial |\n",
       "| Mon Mothma | Chandrila |\n",
       "| Padmé Amidala | Naboo |\n",
       "| R4-P17 | Unknown |\n",
       "| Rey | Unknown |\n",
       "| Shaak Ti | Shili |\n",
       "| Shmi Skywalker | Tatooine |\n",
       "| Sly Moore | Umbara |\n",
       "| Taun We | Kamino |\n",
       "| Zam Wesell | Zolan |\n",
       "\n"
      ],
      "text/plain": [
       "<IPython.core.display.Markdown object>"
      ]
     },
     "metadata": {},
     "output_type": "display_data"
    }
   ],
   "source": [
    "text_to_sql(query_engine, \"List the names of all female people and their planet's name.\", number=10)"
   ]
  },
  {
   "cell_type": "code",
   "execution_count": null,
   "metadata": {},
   "outputs": [],
   "source": []
  }
 ],
 "metadata": {
  "kernelspec": {
   "display_name": ".venv",
   "language": "python",
   "name": "python3"
  },
  "language_info": {
   "codemirror_mode": {
    "name": "ipython",
    "version": 3
   },
   "file_extension": ".py",
   "mimetype": "text/x-python",
   "name": "python",
   "nbconvert_exporter": "python",
   "pygments_lexer": "ipython3",
   "version": "3.12.0"
  }
 },
 "nbformat": 4,
 "nbformat_minor": 2
}
