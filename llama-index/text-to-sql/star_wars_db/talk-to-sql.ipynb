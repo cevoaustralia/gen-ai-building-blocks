{
 "cells": [
  {
   "cell_type": "code",
   "execution_count": 1,
   "metadata": {},
   "outputs": [
    {
     "name": "stdout",
     "output_type": "stream",
     "text": [
      "Python 3.12.0\n"
     ]
    }
   ],
   "source": [
    "! python --version"
   ]
  },
  {
   "cell_type": "code",
   "execution_count": 2,
   "metadata": {},
   "outputs": [],
   "source": [
    "%%capture\n",
    "! pip install llama-index\n",
    "! pip install psycopg2-binary\n",
    "! pip install SQLAlchemy\n",
    "! pip install python-dotenv\n",
    "! pip install llama-index-llms-bedrock\n",
    "! pip install llama-index-embeddings-bedrock"
   ]
  },
  {
   "cell_type": "code",
   "execution_count": 3,
   "metadata": {},
   "outputs": [],
   "source": [
    "from sqlalchemy import (\n",
    "    create_engine,\n",
    ")\n",
    "import os\n",
    "\n",
    "from dotenv import load_dotenv\n",
    "\n",
    "load_dotenv(verbose=True, dotenv_path=\"../../../.env\")\n",
    "\n",
    "engine = create_engine(f\"postgresql+psycopg2://postgres:{\n",
    "                       os.environ[\"PG_VECTOR_PW\"]}@localhost:5432/{os.environ[\"PG_VECTOR_DB\"]}\")"
   ]
  },
  {
   "cell_type": "code",
   "execution_count": 4,
   "metadata": {},
   "outputs": [
    {
     "name": "stdout",
     "output_type": "stream",
     "text": [
      "[(1, 'Luke Skywalker', 172, 77.0, 'blond', 'fair', 'blue', '19BBY', 'male', 1, datetime.datetime(2014, 12, 9, 13, 50, 51, 644000), datetime.datetime(2014, 12, 20, 21, 17, 56, 891000), 'https://swapi.co/api/people/1/'), (2, 'C-3PO', 167, 75.0, 'n/a', 'gold', 'yellow', '112BBY', 'n/a', 1, datetime.datetime(2014, 12, 10, 15, 10, 51, 357000), datetime.datetime(2014, 12, 20, 21, 17, 50, 309000), 'https://swapi.co/api/people/2/'), (3, 'R2-D2', 96, 32.0, 'n/a', 'white, blue', 'red', '33BBY', 'n/a', 8, datetime.datetime(2014, 12, 10, 15, 11, 50, 376000), datetime.datetime(2014, 12, 20, 21, 17, 50, 311000), 'https://swapi.co/api/people/3/'), (4, 'Darth Vader', 202, 136.0, 'none', 'white', 'yellow', '41.9BBY', 'male', 1, datetime.datetime(2014, 12, 10, 15, 18, 20, 704000), datetime.datetime(2014, 12, 20, 21, 17, 50, 313000), 'https://swapi.co/api/people/4/'), (5, 'Leia Organa', 150, 49.0, 'brown', 'light', 'brown', '19BBY', 'female', 2, datetime.datetime(2014, 12, 10, 15, 20, 9, 791000), datetime.datetime(2014, 12, 20, 21, 17, 50, 315000), 'https://swapi.co/api/people/5/')]\n",
      "[(2, 'Alderaan', 24, 364, 12500, 'temperate', '1 standard', 'grasslands, mountains', '40', 2000000000, datetime.datetime(2014, 12, 10, 11, 35, 48, 479000), datetime.datetime(2014, 12, 20, 20, 58, 18, 420000), 'https://swapi.co/api/planets/2/'), (3, 'Yavin IV', 24, 4818, 10200, 'temperate, tropical', '1 standard', 'jungle, rainforests', '8', 1000, datetime.datetime(2014, 12, 10, 11, 37, 19, 144000), datetime.datetime(2014, 12, 20, 20, 58, 18, 421000), 'https://swapi.co/api/planets/3/'), (4, 'Hoth', 23, 549, 7200, 'frozen', '1.1 standard', 'tundra, ice caves, mountain ranges', '100', None, datetime.datetime(2014, 12, 10, 11, 39, 13, 934000), datetime.datetime(2014, 12, 20, 20, 58, 18, 423000), 'https://swapi.co/api/planets/4/'), (5, 'Dagobah', 23, 341, 8900, 'murky', 'N/A', 'swamp, jungles', '8', None, datetime.datetime(2014, 12, 10, 11, 42, 22, 590000), datetime.datetime(2014, 12, 20, 20, 58, 18, 425000), 'https://swapi.co/api/planets/5/'), (6, 'Bespin', 12, 5110, 118000, 'temperate', '1.5 (surface), 1 standard (Cloud City)', 'gas giant', '0', 6000000, datetime.datetime(2014, 12, 10, 11, 43, 55, 240000), datetime.datetime(2014, 12, 20, 20, 58, 18, 427000), 'https://swapi.co/api/planets/6/')]\n"
     ]
    }
   ],
   "source": [
    "# Testing our connection\n",
    "with engine.connect() as connection:\n",
    "    cursor = connection.exec_driver_sql(\"SELECT * FROM people LIMIT 5\")\n",
    "    print(cursor.fetchall())\n",
    "    \n",
    "with engine.connect() as connection:\n",
    "    cursor = connection.exec_driver_sql(\"SELECT * FROM planet LIMIT 5\")\n",
    "    print(cursor.fetchall())"
   ]
  },
  {
   "cell_type": "code",
   "execution_count": 5,
   "metadata": {},
   "outputs": [],
   "source": [
    "from llama_index.core import Settings\n",
    "from llama_index.llms.bedrock import Bedrock\n",
    "from llama_index.embeddings.bedrock import BedrockEmbedding\n",
    "\n",
    "Settings.llm = Bedrock(\n",
    "    # model=\"anthropic.claude-3-haiku-20240307-v1:0\",\n",
    "    model=\"anthropic.claude-3-sonnet-20240229-v1:0\",\n",
    "    aws_access_key_id=os.environ[\"AWS_ACCESS_KEY_ID\"],\n",
    "    aws_secret_access_key=os.environ[\"AWS_SECRET_ACCESS_KEY\"],\n",
    "    aws_session_token=os.environ[\"AWS_SESSION_TOKEN\"],\n",
    "    region_name=os.environ[\"AWS_DEFAULT_REGION\"],\n",
    ")\n",
    "\n",
    "Settings.embed_model = BedrockEmbedding(\n",
    "    model_name=\"cohere.embed-english-v3\",\n",
    "    region_name=os.environ[\"AWS_DEFAULT_REGION\"],\n",
    ")"
   ]
  },
  {
   "cell_type": "code",
   "execution_count": 6,
   "metadata": {},
   "outputs": [],
   "source": [
    "from llama_index.core import SQLDatabase\n",
    "from llama_index.core.query_engine import NLSQLTableQueryEngine\n",
    "\n",
    "all_table_names = [\"people\", \"planet\"]\n",
    "\n",
    "sql_database = SQLDatabase(engine, include_tables=all_table_names)"
   ]
  },
  {
   "cell_type": "code",
   "execution_count": 7,
   "metadata": {},
   "outputs": [],
   "source": [
    "from llama_index.core.indices.struct_store import SQLTableRetrieverQueryEngine\n",
    "from llama_index.core.objects import (\n",
    "    SQLTableNodeMapping,\n",
    "    ObjectIndex,\n",
    "    SQLTableSchema,\n",
    ")\n",
    "from llama_index.core import VectorStoreIndex\n",
    "from IPython.display import Markdown, display"
   ]
  },
  {
   "cell_type": "code",
   "execution_count": 8,
   "metadata": {},
   "outputs": [
    {
     "name": "stdout",
     "output_type": "stream",
     "text": [
      "[SQLTableSchema(table_name='people', context_str=None), SQLTableSchema(table_name='planet', context_str=None)]\n"
     ]
    }
   ],
   "source": [
    "table_node_mapping = SQLTableNodeMapping(sql_database)\n",
    "\n",
    "table_schema_objs = []\n",
    "for table_name in all_table_names:\n",
    "    table_schema_objs.append(SQLTableSchema(table_name=table_name))\n",
    "    \n",
    "print(table_schema_objs)\n",
    "\n",
    "obj_index = ObjectIndex.from_objects(\n",
    "    table_schema_objs,\n",
    "    table_node_mapping,\n",
    "    VectorStoreIndex,\n",
    ")\n",
    "\n",
    "query_engine = SQLTableRetrieverQueryEngine(\n",
    "    sql_database,\n",
    "    obj_index.as_retriever(similarity_top_k=2)\n",
    ")\n",
    "\n",
    "def format_sql_results_as_markdown_table(sql_results, headers):\n",
    "    \"\"\"\n",
    "    Formats the SQL results as a markdown table\n",
    "    \"\"\"\n",
    "    if not sql_results and not headers:\n",
    "        return \"No results found.\"\n",
    "    \n",
    "    header_row = \"| \" + \" | \".join(headers) + \" |\"\n",
    "    separator_row = \"| \" + \" | \".join([\"---\"] * len(headers)) + \" |\"\n",
    "\n",
    "    table_rows = []\n",
    "    for row in sql_results:\n",
    "        table_row = \"|\"\n",
    "        for j, _ in enumerate(headers):\n",
    "            table_row += f\" {str(row[j])} |\"\n",
    "        table_rows.append(table_row)\n",
    "\n",
    "    markdown_table = \"\\n\".join([header_row, separator_row] + table_rows)\n",
    "    return markdown_table\n",
    "\n",
    "response_template = \"\"\"\n",
    "### Question\n",
    "\n",
    "**{number}. {question}**\n",
    "\n",
    "### Answer\n",
    "\n",
    "{response}\n",
    "\n",
    "### Generated SQL Query\n",
    "```sql\n",
    "{sql}\n",
    "```\n",
    "\n",
    "### SQL Results\n",
    "\n",
    "{sql_results}\n",
    "\n",
    "\"\"\"\n",
    "\n",
    "def text_to_sql(query_engine, question, number=1):\n",
    "    \"\"\"\n",
    "    Calls the query engine with the given question and displays the response as a markdown cell\n",
    "    \"\"\"\n",
    "    engine_response = query_engine.query(question)\n",
    "    display(Markdown(response_template.format(\n",
    "            number=number,\n",
    "            question=question,\n",
    "            response=str(engine_response),\n",
    "            sql=engine_response.metadata[\"sql_query\"],\n",
    "            sql_results=format_sql_results_as_markdown_table(engine_response.metadata[\"result\"], engine_response.metadata[\"col_keys\"]),\n",
    "        )))"
   ]
  },
  {
   "cell_type": "code",
   "execution_count": 9,
   "metadata": {},
   "outputs": [
    {
     "data": {
      "text/markdown": [
       "\n",
       "### Question\n",
       "\n",
       "**1. How many tables are there in the database?**\n",
       "\n",
       "### Answer\n",
       "\n",
       "Based on the SQL query and response, there are 2 tables in the database schema 'public'.\n",
       "\n",
       "### Generated SQL Query\n",
       "```sql\n",
       "SELECT COUNT(*) FROM information_schema.tables WHERE table_schema = 'public';\n",
       "```\n",
       "\n",
       "### SQL Results\n",
       "\n",
       "| count |\n",
       "| --- |\n",
       "| 2 |\n",
       "\n"
      ],
      "text/plain": [
       "<IPython.core.display.Markdown object>"
      ]
     },
     "metadata": {},
     "output_type": "display_data"
    }
   ],
   "source": [
    "text_to_sql(query_engine, \"How many tables are there in the database?\", number=1)"
   ]
  },
  {
   "cell_type": "code",
   "execution_count": 10,
   "metadata": {},
   "outputs": [
    {
     "data": {
      "text/markdown": [
       "\n",
       "### Question\n",
       "\n",
       "**2. How many of the planets are rocky?**\n",
       "\n",
       "### Answer\n",
       "\n",
       "Based on the SQL query and result, there are 20 planets in the database that have either \"rocky\" or \"mountains\" in their terrain description. Therefore, the response to the input question \"How many of the planets are rocky?\" would be:\n",
       "\n",
       "There are 20 rocky or mountainous planets.\n",
       "\n",
       "### Generated SQL Query\n",
       "```sql\n",
       "SELECT COUNT(*) \n",
       "FROM planet\n",
       "WHERE terrain LIKE '%rocky%' OR terrain LIKE '%mountains%';\n",
       "```\n",
       "\n",
       "### SQL Results\n",
       "\n",
       "| count |\n",
       "| --- |\n",
       "| 20 |\n",
       "\n"
      ],
      "text/plain": [
       "<IPython.core.display.Markdown object>"
      ]
     },
     "metadata": {},
     "output_type": "display_data"
    }
   ],
   "source": [
    "text_to_sql(query_engine, \"How many of the planets are rocky?\", number=2)"
   ]
  },
  {
   "cell_type": "code",
   "execution_count": 11,
   "metadata": {},
   "outputs": [
    {
     "data": {
      "text/markdown": [
       "\n",
       "### Question\n",
       "\n",
       "**3. Give me the names, hair color of people who have blue eyes? Arrange the names in reverse alphabetical order.**\n",
       "\n",
       "### Answer\n",
       "\n",
       "Here are the names and hair colors of people with blue eyes, arranged in reverse alphabetical order:\n",
       "\n",
       "Wilhuff Tarkin - auburn, grey hair\n",
       "Tarfful - brown hair  \n",
       "Ric Olié - brown hair\n",
       "Qui-Gon Jinn - brown hair\n",
       "Owen Lars - brown, grey hair\n",
       "Mon Mothma - auburn hair\n",
       "Mas Amedda - no hair\n",
       "Luminara Unduli - black hair\n",
       "Luke Skywalker - blond hair\n",
       "Lobot - no hair\n",
       "Jocasta Nu - white hair\n",
       "Jek Tono Porkins - brown hair\n",
       "Finis Valorum - blond hair  \n",
       "Cliegg Lars - brown hair\n",
       "Chewbacca - brown hair\n",
       "Beru Whitesun lars - brown hair\n",
       "Barriss Offee - black hair\n",
       "Anakin Skywalker - blond hair\n",
       "Adi Gallia - no hair\n",
       "\n",
       "### Generated SQL Query\n",
       "```sql\n",
       "SELECT name, hair_color \n",
       "FROM people\n",
       "WHERE eye_color = 'blue'\n",
       "ORDER BY name DESC;\n",
       "```\n",
       "\n",
       "### SQL Results\n",
       "\n",
       "| name | hair_color |\n",
       "| --- | --- |\n",
       "| Wilhuff Tarkin | auburn, grey |\n",
       "| Tarfful | brown |\n",
       "| Ric Olié | brown |\n",
       "| Qui-Gon Jinn | brown |\n",
       "| Owen Lars | brown, grey |\n",
       "| Mon Mothma | auburn |\n",
       "| Mas Amedda | none |\n",
       "| Luminara Unduli | black |\n",
       "| Luke Skywalker | blond |\n",
       "| Lobot | none |\n",
       "| Jocasta Nu | white |\n",
       "| Jek Tono Porkins | brown |\n",
       "| Finis Valorum | blond |\n",
       "| Cliegg Lars | brown |\n",
       "| Chewbacca | brown |\n",
       "| Beru Whitesun lars | brown |\n",
       "| Barriss Offee | black |\n",
       "| Anakin Skywalker | blond |\n",
       "| Adi Gallia | none |\n",
       "\n"
      ],
      "text/plain": [
       "<IPython.core.display.Markdown object>"
      ]
     },
     "metadata": {},
     "output_type": "display_data"
    }
   ],
   "source": [
    "text_to_sql(query_engine, \"Give me the names, hair color of people who have blue eyes? Arrange the names in reverse alphabetical order.\", number=3)"
   ]
  },
  {
   "cell_type": "code",
   "execution_count": 12,
   "metadata": {},
   "outputs": [
    {
     "data": {
      "text/markdown": [
       "\n",
       "### Question\n",
       "\n",
       "**4. List the top 10 planets that have rocky characteristics, in alphabetical order?**\n",
       "\n",
       "### Answer\n",
       "\n",
       "Based on the SQL query and results, here is a possible response to the input question \"List the top 10 planets that have rocky characteristics, in alphabetical order?\":\n",
       "\n",
       "The top 10 planets with rocky characteristics, listed in alphabetical order, are:\n",
       "\n",
       "1. Alderaan - Featuring grasslands and mountains\n",
       "2. Bestine IV - With rocky islands and oceans\n",
       "3. Cato Neimoidia - Comprised of mountains, fields, forests, and rock arches\n",
       "4. Coruscant - A cityscape planet with mountains\n",
       "5. Dantooine - Containing oceans, savannas, mountains, and grasslands\n",
       "6. Endor - Known for its forests, mountains, and lakes\n",
       "7. Geonosis - A rocky, desert planet with mountains and barren landscapes\n",
       "8. Hoth - An icy tundra world with ice caves and mountain ranges\n",
       "9. Iktotch - Described as rocky\n",
       "10. Iridonia - Featuring rocky canyons and acid pools\n",
       "\n",
       "### Generated SQL Query\n",
       "```sql\n",
       "SELECT p.name, p.terrain\n",
       "FROM planet p\n",
       "WHERE p.terrain LIKE '%rocky%' OR p.terrain LIKE '%mountain%'\n",
       "ORDER BY p.name\n",
       "LIMIT 10;\n",
       "```\n",
       "\n",
       "### SQL Results\n",
       "\n",
       "| name | terrain |\n",
       "| --- | --- |\n",
       "| Alderaan | grasslands, mountains |\n",
       "| Bestine IV | rocky islands, oceans |\n",
       "| Cato Neimoidia | mountains, fields, forests, rock arches |\n",
       "| Coruscant | cityscape, mountains |\n",
       "| Dantooine | oceans, savannas, mountains, grasslands |\n",
       "| Endor | forests, mountains, lakes |\n",
       "| Geonosis | rock, desert, mountain, barren |\n",
       "| Hoth | tundra, ice caves, mountain ranges |\n",
       "| Iktotch | rocky |\n",
       "| Iridonia | rocky canyons, acid pools |\n",
       "\n"
      ],
      "text/plain": [
       "<IPython.core.display.Markdown object>"
      ]
     },
     "metadata": {},
     "output_type": "display_data"
    }
   ],
   "source": [
    "text_to_sql(query_engine, \"List the top 10 planets that have rocky characteristics, in alphabetical order?\", number=4)"
   ]
  },
  {
   "cell_type": "code",
   "execution_count": 13,
   "metadata": {},
   "outputs": [
    {
     "data": {
      "text/markdown": [
       "\n",
       "### Question\n",
       "\n",
       "**5. List the top 10 planets that have rocky characteristics, who are the men and describe their skin color and eye color?**\n",
       "\n",
       "### Answer\n",
       "\n",
       "Based on the SQL query and results, here is a synthesized response to the input question:\n",
       "\n",
       "The top 10 planets with rocky characteristics and the details of the men from those planets are:\n",
       "\n",
       "1. Bestine IV - Jek Tono Porkins has fair skin and blue eyes.\n",
       "2. Iktotch - Saesee Tiin has pale skin and orange eyes. \n",
       "3. Iridonia - Eeth Koth has brown skin and brown eyes.\n",
       "4. Sullust - Nien Nunb has grey skin and black eyes.\n",
       "\n",
       "The query filtered for planets with 'rocky' in their terrain description, joined with the people table to get the male residents' details like name, skin color, and eye color. It ordered the results by planet name and limited the output to 10 rows.\n",
       "\n",
       "### Generated SQL Query\n",
       "```sql\n",
       "SELECT p.name, pe.name, pe.skin_color, pe.eye_color\n",
       "FROM planet p\n",
       "JOIN people pe ON p.id = pe.planet_id\n",
       "WHERE p.terrain LIKE '%rocky%' AND pe.gender = 'male'\n",
       "ORDER BY p.name\n",
       "LIMIT 10;\n",
       "```\n",
       "\n",
       "### SQL Results\n",
       "\n",
       "| name | name | skin_color | eye_color |\n",
       "| --- | --- | --- | --- |\n",
       "| Bestine IV | Jek Tono Porkins | fair | blue |\n",
       "| Iktotch | Saesee Tiin | pale | orange |\n",
       "| Iridonia | Eeth Koth | brown | brown |\n",
       "| Sullust | Nien Nunb | grey | black |\n",
       "\n"
      ],
      "text/plain": [
       "<IPython.core.display.Markdown object>"
      ]
     },
     "metadata": {},
     "output_type": "display_data"
    }
   ],
   "source": [
    "text_to_sql(query_engine, \"List the top 10 planets that have rocky characteristics, who are the men and describe their skin color and eye color?\", number=5)"
   ]
  },
  {
   "cell_type": "code",
   "execution_count": 23,
   "metadata": {},
   "outputs": [
    {
     "data": {
      "text/markdown": [
       "\n",
       "### Question\n",
       "\n",
       "**6. What are the names and heights of all people who are from planets with a temperate climate? Please only list the top 10.**\n",
       "\n",
       "### Answer\n",
       "\n",
       "Here are the names and heights of the top 10 people from planets with a temperate climate:\n",
       "\n",
       "1. Lama Su - 229 cm\n",
       "2. Roos Tarpals - 224 cm  \n",
       "3. Grievous - 216 cm\n",
       "4. Taun We - 213 cm\n",
       "5. Rugor Nass - 206 cm\n",
       "6. Tion Medon - 206 cm\n",
       "7. Ki-Adi-Mundi - 198 cm\n",
       "8. Jar Jar Binks - 196 cm  \n",
       "9. Kit Fisto - 196 cm\n",
       "10. Mas Amedda - 196 cm\n",
       "\n",
       "### Generated SQL Query\n",
       "```sql\n",
       "SELECT p.name, p.height\n",
       "FROM people p\n",
       "JOIN planet pl ON p.planet_id = pl.id\n",
       "WHERE pl.climate LIKE '%temperate%'\n",
       "ORDER BY p.height DESC\n",
       "LIMIT 10;\n",
       "```\n",
       "\n",
       "### SQL Results\n",
       "\n",
       "| name | height |\n",
       "| --- | --- |\n",
       "| Lama Su | 229 |\n",
       "| Roos Tarpals | 224 |\n",
       "| Grievous | 216 |\n",
       "| Taun We | 213 |\n",
       "| Rugor Nass | 206 |\n",
       "| Tion Medon | 206 |\n",
       "| Ki-Adi-Mundi | 198 |\n",
       "| Jar Jar Binks | 196 |\n",
       "| Kit Fisto | 196 |\n",
       "| Mas Amedda | 196 |\n",
       "\n"
      ],
      "text/plain": [
       "<IPython.core.display.Markdown object>"
      ]
     },
     "metadata": {},
     "output_type": "display_data"
    }
   ],
   "source": [
    "text_to_sql(query_engine, \"What are the names and heights of all people who are from planets with a temperate climate? Please only list the top 10.\", number=6)"
   ]
  },
  {
   "cell_type": "code",
   "execution_count": 24,
   "metadata": {},
   "outputs": [
    {
     "data": {
      "text/markdown": [
       "\n",
       "### Question\n",
       "\n",
       "**7. What are the names and birth years of all people from planets with a population greater than 1,000,000? Also include the polulation. Top 10 only please.**\n",
       "\n",
       "### Answer\n",
       "\n",
       "Here is a response synthesized from the query results:\n",
       "\n",
       "The top 10 people from planets with a population greater than 1,000,000 are:\n",
       "\n",
       "1. Jocasta Nu from a planet with a population of 1,000,000,000,000\n",
       "2. Finis Valorum, born in 91BBY, from a planet with a population of 1,000,000,000,000  \n",
       "3. Adi Gallia from a planet with a population of 1,000,000,000,000\n",
       "4. Wat Tambor from a planet with a population of 500,000,000,000\n",
       "5. Poggle the Lesser from a planet with a population of 100,000,000,000\n",
       "6. Ackbar, born in 41BBY, from a planet with a population of 27,000,000,000\n",
       "7. Wilhuff Tarkin, born in 64BBY, from a planet with a population of 22,000,000,000\n",
       "8. Nien Nunb from a planet with a population of 18,500,000,000\n",
       "9. Jabba Desilijic Tiure, born in 600BBY, from a planet with a population of 7,000,000,000\n",
       "10. San Hill from a planet with a population of 5,000,000,000\n",
       "\n",
       "### Generated SQL Query\n",
       "```sql\n",
       "SELECT p.name, p.birth_year, pl.population\n",
       "FROM people p\n",
       "JOIN planet pl ON p.planet_id = pl.id\n",
       "WHERE pl.population > 1000000\n",
       "ORDER BY pl.population DESC\n",
       "LIMIT 10;\n",
       "```\n",
       "\n",
       "### SQL Results\n",
       "\n",
       "| name | birth_year | population |\n",
       "| --- | --- | --- |\n",
       "| Jocasta Nu | None | 1000000000000 |\n",
       "| Finis Valorum | 91BBY | 1000000000000 |\n",
       "| Adi Gallia | None | 1000000000000 |\n",
       "| Wat Tambor | None | 500000000000 |\n",
       "| Poggle the Lesser | None | 100000000000 |\n",
       "| Ackbar | 41BBY | 27000000000 |\n",
       "| Wilhuff Tarkin | 64BBY | 22000000000 |\n",
       "| Nien Nunb | None | 18500000000 |\n",
       "| Jabba Desilijic Tiure | 600BBY | 7000000000 |\n",
       "| San Hill | None | 5000000000 |\n",
       "\n"
      ],
      "text/plain": [
       "<IPython.core.display.Markdown object>"
      ]
     },
     "metadata": {},
     "output_type": "display_data"
    }
   ],
   "source": [
    "text_to_sql(query_engine, \"What are the names and birth years of all people from planets with a population greater than 1,000,000? Also include the polulation. Top 10 only please.\", number=7)"
   ]
  },
  {
   "cell_type": "code",
   "execution_count": 16,
   "metadata": {},
   "outputs": [
    {
     "data": {
      "text/markdown": [
       "\n",
       "### Question\n",
       "\n",
       "**8. What is the average rotation period of all planets?**\n",
       "\n",
       "### Answer\n",
       "\n",
       "The average rotation period of all planets is approximately 26 days.\n",
       "\n",
       "### Generated SQL Query\n",
       "```sql\n",
       "SELECT AVG(rotation_period) AS average_rotation_period\n",
       "FROM planet;\n",
       "```\n",
       "\n",
       "### SQL Results\n",
       "\n",
       "| average_rotation_period |\n",
       "| --- |\n",
       "| 25.9583333333333333 |\n",
       "\n"
      ],
      "text/plain": [
       "<IPython.core.display.Markdown object>"
      ]
     },
     "metadata": {},
     "output_type": "display_data"
    }
   ],
   "source": [
    "text_to_sql(query_engine, \"What is the average rotation period of all planets?\", number=8)"
   ]
  },
  {
   "cell_type": "code",
   "execution_count": 17,
   "metadata": {},
   "outputs": [
    {
     "data": {
      "text/markdown": [
       "\n",
       "### Question\n",
       "\n",
       "**9. List the names, birthyear, and URLs of all people born before the year 20BBY.**\n",
       "\n",
       "### Answer\n",
       "\n",
       "Here is a response synthesized from the query results:\n",
       "\n",
       "The people born before the year 20BBY include Dooku (born 102BBY), C-3PO (born 112BBY), IG-88 (born 15BBY), Luke Skywalker (born 19BBY), Leia Organa (born 19BBY), and Chewbacca (born 200BBY). Dooku and C-3PO were born over a century before the Battle of Yavin, while IG-88, Luke, and Leia were born in the decades just prior. Chewbacca, a wookiee from the planet Kashyyyk, was born an astonishing 200 years before the events of the original Star Wars trilogy. You can find more information about each of these characters at the URLs provided in the query results.\n",
       "\n",
       "### Generated SQL Query\n",
       "```sql\n",
       "SELECT name, birth_year, url \n",
       "          FROM people\n",
       "          WHERE birth_year < '20BBY'\n",
       "          ORDER BY birth_year;\n",
       "```\n",
       "\n",
       "### SQL Results\n",
       "\n",
       "| name | birth_year | url |\n",
       "| --- | --- | --- |\n",
       "| Dooku | 102BBY | https://swapi.co/api/people/67/ |\n",
       "| C-3PO | 112BBY | https://swapi.co/api/people/2/ |\n",
       "| IG-88 | 15BBY | https://swapi.co/api/people/23/ |\n",
       "| Luke Skywalker | 19BBY | https://swapi.co/api/people/1/ |\n",
       "| Leia Organa | 19BBY | https://swapi.co/api/people/5/ |\n",
       "| Chewbacca | 200BBY | https://swapi.co/api/people/13/ |\n",
       "\n"
      ],
      "text/plain": [
       "<IPython.core.display.Markdown object>"
      ]
     },
     "metadata": {},
     "output_type": "display_data"
    }
   ],
   "source": [
    "text_to_sql(query_engine, \"List the names, birthyear, and URLs of all people born before the year 20BBY.\", number=9)"
   ]
  },
  {
   "cell_type": "code",
   "execution_count": 18,
   "metadata": {},
   "outputs": [
    {
     "data": {
      "text/markdown": [
       "\n",
       "### Question\n",
       "\n",
       "**10. List the names of all female people and their planet's name.**\n",
       "\n",
       "### Answer\n",
       "\n",
       "Based on the SQL query and results, here is a possible response:\n",
       "\n",
       "The query lists the names of all female people and the name of the planet they are from. Some notable entries include:\n",
       "\n",
       "- Leia Organa from Alderaan\n",
       "- Padmé Amidala from Naboo  \n",
       "- Rey from an unknown planet\n",
       "- Shaak Ti from Shili\n",
       "- Shmi Skywalker from Tatooine\n",
       "- Jocasta Nu from Coruscant\n",
       "- Luminara Unduli from Mirial\n",
       "- Adi Gallia from Coruscant\n",
       "- Ayla Secura from Ryloth\n",
       "- Mon Mothma from Chandrila\n",
       "\n",
       "The results show a diverse range of female characters from many different planets across the Star Wars universe. Some are Jedi like Adi Gallia and Luminara Unduli, while others are leaders like Padmé Amidala and Mon Mothma. The list also includes droids like R4-P17 whose gender is listed as female.\n",
       "\n",
       "### Generated SQL Query\n",
       "```sql\n",
       "SELECT p.name AS person_name, pl.name AS planet_name\n",
       "FROM people p\n",
       "JOIN planet pl ON p.planet_id = pl.id\n",
       "WHERE p.gender = 'female'\n",
       "ORDER BY p.name;\n",
       "```\n",
       "\n",
       "### SQL Results\n",
       "\n",
       "| person_name | planet_name |\n",
       "| --- | --- |\n",
       "| Adi Gallia | Coruscant |\n",
       "| Ayla Secura | Ryloth |\n",
       "| Barriss Offee | Mirial |\n",
       "| Beru Whitesun lars | Tatooine |\n",
       "| Captain Phasma | Unknown |\n",
       "| Cordé | Naboo |\n",
       "| Dormé | Naboo |\n",
       "| Jocasta Nu | Coruscant |\n",
       "| Leia Organa | Alderaan |\n",
       "| Luminara Unduli | Mirial |\n",
       "| Mon Mothma | Chandrila |\n",
       "| Padmé Amidala | Naboo |\n",
       "| R4-P17 | Unknown |\n",
       "| Rey | Unknown |\n",
       "| Shaak Ti | Shili |\n",
       "| Shmi Skywalker | Tatooine |\n",
       "| Sly Moore | Umbara |\n",
       "| Taun We | Kamino |\n",
       "| Zam Wesell | Zolan |\n",
       "\n"
      ],
      "text/plain": [
       "<IPython.core.display.Markdown object>"
      ]
     },
     "metadata": {},
     "output_type": "display_data"
    }
   ],
   "source": [
    "text_to_sql(query_engine, \"List the names of all female people and their planet's name.\", number=10)"
   ]
  },
  {
   "cell_type": "code",
   "execution_count": 19,
   "metadata": {},
   "outputs": [
    {
     "data": {
      "text/markdown": [
       "\n",
       "### Question\n",
       "\n",
       "**1. Liste die Namen aller weiblichen Personen und den Namen ihres Planeten auf.**\n",
       "\n",
       "### Answer\n",
       "\n",
       "Die Abfrage listet die Namen aller weiblichen Personen und den Namen ihrer jeweiligen Heimatplaneten auf. Hier sind die Ergebnisse:\n",
       "\n",
       "Adi Gallia vom Planeten Coruscant\n",
       "Ayla Secura vom Planeten Ryloth  \n",
       "Barriss Offee vom Planeten Mirial\n",
       "Beru Whitesun lars vom Planeten Tatooine\n",
       "Captain Phasma von einem unbekannten Planeten\n",
       "Cordé vom Planeten Naboo\n",
       "Dormé vom Planeten Naboo\n",
       "Jocasta Nu vom Planeten Coruscant\n",
       "Leia Organa vom Planeten Alderaan\n",
       "Luminara Unduli vom Planeten Mirial\n",
       "Mon Mothma vom Planeten Chandrila\n",
       "Padmé Amidala vom Planeten Naboo\n",
       "R4-P17 von einem unbekannten Planeten\n",
       "Rey von einem unbekannten Planeten\n",
       "Shaak Ti vom Planeten Shili\n",
       "Shmi Skywalker vom Planeten Tatooine\n",
       "Sly Moore vom Planeten Umbara\n",
       "Taun We vom Planeten Kamino\n",
       "Zam Wesell vom Planeten Zolan\n",
       "\n",
       "### Generated SQL Query\n",
       "```sql\n",
       "SELECT p.name AS person_name, pl.name AS planet_name\n",
       "FROM people p\n",
       "JOIN planet pl ON p.planet_id = pl.id\n",
       "WHERE p.gender = 'female'\n",
       "ORDER BY p.name;\n",
       "```\n",
       "\n",
       "### SQL Results\n",
       "\n",
       "| person_name | planet_name |\n",
       "| --- | --- |\n",
       "| Adi Gallia | Coruscant |\n",
       "| Ayla Secura | Ryloth |\n",
       "| Barriss Offee | Mirial |\n",
       "| Beru Whitesun lars | Tatooine |\n",
       "| Captain Phasma | Unknown |\n",
       "| Cordé | Naboo |\n",
       "| Dormé | Naboo |\n",
       "| Jocasta Nu | Coruscant |\n",
       "| Leia Organa | Alderaan |\n",
       "| Luminara Unduli | Mirial |\n",
       "| Mon Mothma | Chandrila |\n",
       "| Padmé Amidala | Naboo |\n",
       "| R4-P17 | Unknown |\n",
       "| Rey | Unknown |\n",
       "| Shaak Ti | Shili |\n",
       "| Shmi Skywalker | Tatooine |\n",
       "| Sly Moore | Umbara |\n",
       "| Taun We | Kamino |\n",
       "| Zam Wesell | Zolan |\n",
       "\n"
      ],
      "text/plain": [
       "<IPython.core.display.Markdown object>"
      ]
     },
     "metadata": {},
     "output_type": "display_data"
    }
   ],
   "source": [
    "# Now query in German (List the names of all female people and their planet's name.)\n",
    "text_to_sql(query_engine, \"Liste die Namen aller weiblichen Personen und den Namen ihres Planeten auf.\", number=11)"
   ]
  },
  {
   "cell_type": "code",
   "execution_count": 20,
   "metadata": {},
   "outputs": [
    {
     "data": {
      "text/markdown": [
       "\n",
       "### Question\n",
       "\n",
       "**12. 모든 여성의 이름과 그들의 행성 이름을 나열하세요.**\n",
       "\n",
       "### Answer\n",
       "\n",
       "여성 이름과 행성 이름은 다음과 같습니다:\n",
       "\n",
       "Adi Gallia - Coruscant\n",
       "Ayla Secura - Ryloth  \n",
       "Barriss Offee - Mirial\n",
       "Beru Whitesun lars - Tatooine\n",
       "Captain Phasma - 알 수 없음\n",
       "Cordé - Naboo\n",
       "Dormé - Naboo\n",
       "Jocasta Nu - Coruscant\n",
       "Leia Organa - Alderaan\n",
       "Luminara Unduli - Mirial\n",
       "Mon Mothma - Chandrila\n",
       "Padmé Amidala - Naboo\n",
       "R4-P17 - 알 수 없음\n",
       "Rey - 알 수 없음\n",
       "Shaak Ti - Shili\n",
       "Shmi Skywalker - Tatooine\n",
       "Sly Moore - Umbara\n",
       "Taun We - Kamino\n",
       "Zam Wesell - Zolan\n",
       "\n",
       "### Generated SQL Query\n",
       "```sql\n",
       "SELECT p.name AS person_name, pl.name AS planet_name\n",
       "FROM people p\n",
       "JOIN planet pl ON p.planet_id = pl.id\n",
       "WHERE p.gender = 'female'\n",
       "ORDER BY p.name;\n",
       "```\n",
       "\n",
       "### SQL Results\n",
       "\n",
       "| person_name | planet_name |\n",
       "| --- | --- |\n",
       "| Adi Gallia | Coruscant |\n",
       "| Ayla Secura | Ryloth |\n",
       "| Barriss Offee | Mirial |\n",
       "| Beru Whitesun lars | Tatooine |\n",
       "| Captain Phasma | Unknown |\n",
       "| Cordé | Naboo |\n",
       "| Dormé | Naboo |\n",
       "| Jocasta Nu | Coruscant |\n",
       "| Leia Organa | Alderaan |\n",
       "| Luminara Unduli | Mirial |\n",
       "| Mon Mothma | Chandrila |\n",
       "| Padmé Amidala | Naboo |\n",
       "| R4-P17 | Unknown |\n",
       "| Rey | Unknown |\n",
       "| Shaak Ti | Shili |\n",
       "| Shmi Skywalker | Tatooine |\n",
       "| Sly Moore | Umbara |\n",
       "| Taun We | Kamino |\n",
       "| Zam Wesell | Zolan |\n",
       "\n"
      ],
      "text/plain": [
       "<IPython.core.display.Markdown object>"
      ]
     },
     "metadata": {},
     "output_type": "display_data"
    }
   ],
   "source": [
    "# Now query in Korean (List the names of all female people and their planet's name.)\n",
    "text_to_sql(query_engine, \"모든 여성의 이름과 그들의 행성 이름을 나열하세요.\", number=12)"
   ]
  },
  {
   "cell_type": "code",
   "execution_count": 21,
   "metadata": {},
   "outputs": [
    {
     "data": {
      "text/markdown": [
       "\n",
       "### Question\n",
       "\n",
       "**13. Isalista ang mga pangalan ng lahat ng babae at ang pangalan ng kanilang planeta.**\n",
       "\n",
       "### Answer\n",
       "\n",
       "Narito ang mga pangalan ng lahat ng babae at ang kanilang planeta:\n",
       "\n",
       "Adi Gallia - Coruscant\n",
       "Ayla Secura - Ryloth  \n",
       "Barriss Offee - Mirial\n",
       "Beru Whitesun lars - Tatooine\n",
       "Captain Phasma - Unknown\n",
       "Cordé - Naboo\n",
       "Dormé - Naboo\n",
       "Jocasta Nu - Coruscant\n",
       "Leia Organa - Alderaan\n",
       "Luminara Unduli - Mirial\n",
       "Mon Mothma - Chandrila\n",
       "Padmé Amidala - Naboo\n",
       "R4-P17 - Unknown\n",
       "Rey - Unknown\n",
       "Shaak Ti - Shili\n",
       "Shmi Skywalker - Tatooine\n",
       "Sly Moore - Umbara\n",
       "Taun We - Kamino\n",
       "Zam Wesell - Zolan\n",
       "\n",
       "### Generated SQL Query\n",
       "```sql\n",
       "SELECT people.name AS person_name, planet.name AS planet_name\n",
       "FROM people \n",
       "JOIN planet ON people.planet_id = planet.id\n",
       "WHERE people.gender = 'female'\n",
       "ORDER BY person_name;\n",
       "```\n",
       "\n",
       "### SQL Results\n",
       "\n",
       "| person_name | planet_name |\n",
       "| --- | --- |\n",
       "| Adi Gallia | Coruscant |\n",
       "| Ayla Secura | Ryloth |\n",
       "| Barriss Offee | Mirial |\n",
       "| Beru Whitesun lars | Tatooine |\n",
       "| Captain Phasma | Unknown |\n",
       "| Cordé | Naboo |\n",
       "| Dormé | Naboo |\n",
       "| Jocasta Nu | Coruscant |\n",
       "| Leia Organa | Alderaan |\n",
       "| Luminara Unduli | Mirial |\n",
       "| Mon Mothma | Chandrila |\n",
       "| Padmé Amidala | Naboo |\n",
       "| R4-P17 | Unknown |\n",
       "| Rey | Unknown |\n",
       "| Shaak Ti | Shili |\n",
       "| Shmi Skywalker | Tatooine |\n",
       "| Sly Moore | Umbara |\n",
       "| Taun We | Kamino |\n",
       "| Zam Wesell | Zolan |\n",
       "\n"
      ],
      "text/plain": [
       "<IPython.core.display.Markdown object>"
      ]
     },
     "metadata": {},
     "output_type": "display_data"
    }
   ],
   "source": [
    "# Now query in Filipino (List the names of all female people and their planet's name.)\n",
    "text_to_sql(query_engine, \"Isalista ang mga pangalan ng lahat ng babae at ang pangalan ng kanilang planeta.\", number=13)"
   ]
  },
  {
   "cell_type": "code",
   "execution_count": null,
   "metadata": {},
   "outputs": [],
   "source": []
  }
 ],
 "metadata": {
  "kernelspec": {
   "display_name": ".venv",
   "language": "python",
   "name": "python3"
  },
  "language_info": {
   "codemirror_mode": {
    "name": "ipython",
    "version": 3
   },
   "file_extension": ".py",
   "mimetype": "text/x-python",
   "name": "python",
   "nbconvert_exporter": "python",
   "pygments_lexer": "ipython3",
   "version": "3.12.0"
  }
 },
 "nbformat": 4,
 "nbformat_minor": 2
}
