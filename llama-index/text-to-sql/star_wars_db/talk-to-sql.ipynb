{
 "cells": [
  {
   "cell_type": "code",
   "execution_count": 1,
   "metadata": {},
   "outputs": [
    {
     "name": "stdout",
     "output_type": "stream",
     "text": [
      "Python 3.12.0\n"
     ]
    }
   ],
   "source": [
    "! python --version"
   ]
  },
  {
   "cell_type": "code",
   "execution_count": 2,
   "metadata": {},
   "outputs": [],
   "source": [
    "%%capture\n",
    "! pip install llama-index\n",
    "! pip install psycopg2-binary\n",
    "! pip install SQLAlchemy\n",
    "! pip install python-dotenv\n",
    "! pip install llama-index-llms-bedrock\n",
    "! pip install llama-index-embeddings-bedrock"
   ]
  },
  {
   "cell_type": "code",
   "execution_count": 3,
   "metadata": {},
   "outputs": [],
   "source": [
    "from sqlalchemy import create_engine\n",
    "import os\n",
    "from llama_index.core.callbacks import (\n",
    "    CallbackManager,\n",
    "    LlamaDebugHandler,\n",
    ")\n",
    "from dotenv import load_dotenv\n",
    "\n",
    "load_dotenv(verbose=True, dotenv_path=\"../../../.env\")\n",
    "\n",
    "llama_debug = LlamaDebugHandler(print_trace_on_end=True)\n",
    "callback_manager = CallbackManager([llama_debug])\n",
    "\n",
    "engine = create_engine(f\"postgresql+psycopg2://postgres:{\n",
    "                       os.environ[\"PG_VECTOR_PW\"]}@localhost:5432/{os.environ[\"PG_VECTOR_DB\"]}\")"
   ]
  },
  {
   "cell_type": "code",
   "execution_count": 4,
   "metadata": {},
   "outputs": [
    {
     "name": "stdout",
     "output_type": "stream",
     "text": [
      "[(1, 'Luke Skywalker', 172, 77.0, 'blond', 'fair', 'blue', '19BBY', 'male', 1, datetime.datetime(2014, 12, 9, 13, 50, 51, 644000), datetime.datetime(2014, 12, 20, 21, 17, 56, 891000), 'https://swapi.co/api/people/1/'), (2, 'C-3PO', 167, 75.0, 'n/a', 'gold', 'yellow', '112BBY', 'n/a', 1, datetime.datetime(2014, 12, 10, 15, 10, 51, 357000), datetime.datetime(2014, 12, 20, 21, 17, 50, 309000), 'https://swapi.co/api/people/2/'), (3, 'R2-D2', 96, 32.0, 'n/a', 'white, blue', 'red', '33BBY', 'n/a', 8, datetime.datetime(2014, 12, 10, 15, 11, 50, 376000), datetime.datetime(2014, 12, 20, 21, 17, 50, 311000), 'https://swapi.co/api/people/3/'), (4, 'Darth Vader', 202, 136.0, 'none', 'white', 'yellow', '41.9BBY', 'male', 1, datetime.datetime(2014, 12, 10, 15, 18, 20, 704000), datetime.datetime(2014, 12, 20, 21, 17, 50, 313000), 'https://swapi.co/api/people/4/'), (5, 'Leia Organa', 150, 49.0, 'brown', 'light', 'brown', '19BBY', 'female', 2, datetime.datetime(2014, 12, 10, 15, 20, 9, 791000), datetime.datetime(2014, 12, 20, 21, 17, 50, 315000), 'https://swapi.co/api/people/5/')]\n",
      "[(2, 'Alderaan', 24, 364, 12500, 'temperate', '1 standard', 'grasslands, mountains', '40', 2000000000, datetime.datetime(2014, 12, 10, 11, 35, 48, 479000), datetime.datetime(2014, 12, 20, 20, 58, 18, 420000), 'https://swapi.co/api/planets/2/'), (3, 'Yavin IV', 24, 4818, 10200, 'temperate, tropical', '1 standard', 'jungle, rainforests', '8', 1000, datetime.datetime(2014, 12, 10, 11, 37, 19, 144000), datetime.datetime(2014, 12, 20, 20, 58, 18, 421000), 'https://swapi.co/api/planets/3/'), (4, 'Hoth', 23, 549, 7200, 'frozen', '1.1 standard', 'tundra, ice caves, mountain ranges', '100', None, datetime.datetime(2014, 12, 10, 11, 39, 13, 934000), datetime.datetime(2014, 12, 20, 20, 58, 18, 423000), 'https://swapi.co/api/planets/4/'), (5, 'Dagobah', 23, 341, 8900, 'murky', 'N/A', 'swamp, jungles', '8', None, datetime.datetime(2014, 12, 10, 11, 42, 22, 590000), datetime.datetime(2014, 12, 20, 20, 58, 18, 425000), 'https://swapi.co/api/planets/5/'), (6, 'Bespin', 12, 5110, 118000, 'temperate', '1.5 (surface), 1 standard (Cloud City)', 'gas giant', '0', 6000000, datetime.datetime(2014, 12, 10, 11, 43, 55, 240000), datetime.datetime(2014, 12, 20, 20, 58, 18, 427000), 'https://swapi.co/api/planets/6/')]\n"
     ]
    }
   ],
   "source": [
    "# Testing our connection\n",
    "with engine.connect() as connection:\n",
    "    cursor = connection.exec_driver_sql(\"SELECT * FROM people LIMIT 5\")\n",
    "    print(cursor.fetchall())\n",
    "    \n",
    "with engine.connect() as connection:\n",
    "    cursor = connection.exec_driver_sql(\"SELECT * FROM planet LIMIT 5\")\n",
    "    print(cursor.fetchall())"
   ]
  },
  {
   "cell_type": "code",
   "execution_count": 5,
   "metadata": {},
   "outputs": [],
   "source": [
    "from llama_index.core import Settings\n",
    "from llama_index.llms.bedrock import Bedrock\n",
    "from llama_index.embeddings.bedrock import BedrockEmbedding\n",
    "\n",
    "Settings.llm = Bedrock(\n",
    "    model=\"anthropic.claude-3-sonnet-20240229-v1:0\",\n",
    "    aws_access_key_id=os.environ[\"AWS_ACCESS_KEY_ID\"],\n",
    "    aws_secret_access_key=os.environ[\"AWS_SECRET_ACCESS_KEY\"],\n",
    "    aws_session_token=os.environ[\"AWS_SESSION_TOKEN\"],\n",
    "    region_name=os.environ[\"AWS_DEFAULT_REGION\"],\n",
    ")\n",
    "\n",
    "Settings.embed_model = BedrockEmbedding(\n",
    "    model_name=\"cohere.embed-multilingual-v3\",\n",
    "    region_name=os.environ[\"AWS_DEFAULT_REGION\"],\n",
    ")"
   ]
  },
  {
   "cell_type": "code",
   "execution_count": 6,
   "metadata": {},
   "outputs": [],
   "source": [
    "from llama_index.core import SQLDatabase\n",
    "\n",
    "all_tables = [\n",
    "    (\"people\", \"This table contains all the people or characters of all Star Wars episodes.\"),\n",
    "    (\"planet\", \"This table contains all the planets of all Star Wars episodes.\"),]\n",
    "\n",
    "sql_database = SQLDatabase(engine, include_tables=[table_name for table_name, _ in all_tables])"
   ]
  },
  {
   "cell_type": "code",
   "execution_count": 7,
   "metadata": {},
   "outputs": [],
   "source": [
    "from llama_index.core.indices.struct_store import SQLTableRetrieverQueryEngine\n",
    "from llama_index.core.objects import (\n",
    "    SQLTableNodeMapping,\n",
    "    ObjectIndex,\n",
    "    SQLTableSchema,\n",
    ")\n",
    "from llama_index.core import VectorStoreIndex\n",
    "from IPython.display import Markdown, display"
   ]
  },
  {
   "cell_type": "code",
   "execution_count": 8,
   "metadata": {},
   "outputs": [
    {
     "name": "stdout",
     "output_type": "stream",
     "text": [
      "[SQLTableSchema(table_name='people', context_str='This table contains all the people or characters of all Star Wars episodes.'), SQLTableSchema(table_name='planet', context_str='This table contains all the planets of all Star Wars episodes.')]\n",
      "**********\n",
      "Trace: index_construction\n",
      "**********\n"
     ]
    }
   ],
   "source": [
    "table_node_mapping = SQLTableNodeMapping(sql_database)\n",
    "\n",
    "table_schema_objs = []\n",
    "for table_name, table_description in all_tables:\n",
    "    table_schema_objs.append(\n",
    "        SQLTableSchema(table_name=table_name, context_str=table_description))\n",
    "    \n",
    "print(table_schema_objs)\n",
    "\n",
    "obj_index = ObjectIndex.from_objects(\n",
    "    table_schema_objs,\n",
    "    table_node_mapping,\n",
    "    VectorStoreIndex,\n",
    "    callback_manager=callback_manager,\n",
    ")\n",
    "\n",
    "query_engine = SQLTableRetrieverQueryEngine(\n",
    "    sql_database,\n",
    "    obj_index.as_retriever(similarity_top_k=2),\n",
    "    # callback_manager=callback_manager,    # Uncomment this line to enable debugging of the query engine\n",
    ")\n",
    "\n",
    "def format_sql_results_as_markdown_table(sql_results, headers):\n",
    "    \"\"\"\n",
    "    Formats the SQL results as a markdown table\n",
    "    \"\"\"\n",
    "    if not sql_results and not headers:\n",
    "        return \"No results found.\"\n",
    "    \n",
    "    header_row = \"| \" + \" | \".join(headers) + \" |\"\n",
    "    separator_row = \"| \" + \" | \".join([\"---\"] * len(headers)) + \" |\"\n",
    "\n",
    "    table_rows = []\n",
    "    for row in sql_results:\n",
    "        table_row = \"|\"\n",
    "        for j, _ in enumerate(headers):\n",
    "            table_row += f\" {str(row[j])} |\"\n",
    "        table_rows.append(table_row)\n",
    "\n",
    "    markdown_table = \"\\n\".join([header_row, separator_row] + table_rows)\n",
    "    return markdown_table\n",
    "\n",
    "response_template = \"\"\"\n",
    "### Question\n",
    "\n",
    "**{number}.** **{question}**\n",
    "\n",
    "### Answer\n",
    "\n",
    "{response}\n",
    "\n",
    "### Generated SQL Query\n",
    "```sql\n",
    "{sql}\n",
    "```\n",
    "\n",
    "### SQL Results\n",
    "\n",
    "{sql_results}\n",
    "\n",
    "\"\"\"\n",
    "\n",
    "def text_to_sql(query_engine, question, number=1):\n",
    "    \"\"\"\n",
    "    Calls the query engine with the given question and displays the response as a markdown cell\n",
    "    \"\"\"\n",
    "    engine_response = query_engine.query(question)\n",
    "    if \"result\" in engine_response.metadata and \"col_keys\" in engine_response.metadata:\n",
    "        display(Markdown(response_template.format(\n",
    "                number=number,\n",
    "                question=question,\n",
    "                response=str(engine_response),\n",
    "                sql=engine_response.metadata[\"sql_query\"],\n",
    "                sql_results=format_sql_results_as_markdown_table(\n",
    "                    engine_response.metadata[\"result\"],\n",
    "                    engine_response.metadata[\"col_keys\"]),\n",
    "            )))\n",
    "    else:\n",
    "        print(\"No results found.\")"
   ]
  },
  {
   "cell_type": "code",
   "execution_count": 9,
   "metadata": {},
   "outputs": [
    {
     "data": {
      "text/markdown": [
       "\n",
       "### Question\n",
       "\n",
       "**1.** **How many tables are there in the database?**\n",
       "\n",
       "### Answer\n",
       "\n",
       "Based on the SQL query and response, there are 2 tables in the database schema 'public'.\n",
       "\n",
       "### Generated SQL Query\n",
       "```sql\n",
       "SELECT COUNT(*) FROM information_schema.tables WHERE table_schema = 'public';\n",
       "```\n",
       "\n",
       "### SQL Results\n",
       "\n",
       "| count |\n",
       "| --- |\n",
       "| 2 |\n",
       "\n"
      ],
      "text/plain": [
       "<IPython.core.display.Markdown object>"
      ]
     },
     "metadata": {},
     "output_type": "display_data"
    }
   ],
   "source": [
    "text_to_sql(query_engine, \"How many tables are there in the database?\", number=1)"
   ]
  },
  {
   "cell_type": "code",
   "execution_count": 10,
   "metadata": {},
   "outputs": [
    {
     "data": {
      "text/markdown": [
       "\n",
       "### Question\n",
       "\n",
       "**2.** **How many of the planets are rocky?**\n",
       "\n",
       "### Answer\n",
       "\n",
       "Based on the SQL query and the result, there are 27 planets in the database that have a rocky, mountainous, or desert terrain. Therefore, the response to the input question \"How many of the planets are rocky?\" would be:\n",
       "\n",
       "There are 27 rocky planets.\n",
       "\n",
       "### Generated SQL Query\n",
       "```sql\n",
       "SELECT COUNT(*) \n",
       "FROM planet\n",
       "WHERE terrain LIKE '%rocky%' OR terrain LIKE '%mountain%' OR terrain LIKE '%desert%';\n",
       "```\n",
       "\n",
       "### SQL Results\n",
       "\n",
       "| count |\n",
       "| --- |\n",
       "| 27 |\n",
       "\n"
      ],
      "text/plain": [
       "<IPython.core.display.Markdown object>"
      ]
     },
     "metadata": {},
     "output_type": "display_data"
    }
   ],
   "source": [
    "text_to_sql(query_engine, \"How many of the planets are rocky?\", number=2)"
   ]
  },
  {
   "cell_type": "code",
   "execution_count": 11,
   "metadata": {},
   "outputs": [
    {
     "data": {
      "text/markdown": [
       "\n",
       "### Question\n",
       "\n",
       "**3.** **Give me the names, hair color of people who have blue eyes? Arrange the names in reverse alphabetical order.**\n",
       "\n",
       "### Answer\n",
       "\n",
       "Here are the names and hair colors of people with blue eyes, arranged in reverse alphabetical order:\n",
       "\n",
       "Wilhuff Tarkin - auburn, grey hair\n",
       "Tarfful - brown hair  \n",
       "Ric Olié - brown hair\n",
       "Qui-Gon Jinn - brown hair\n",
       "Owen Lars - brown, grey hair\n",
       "Mon Mothma - auburn hair\n",
       "Mas Amedda - no hair\n",
       "Luminara Unduli - black hair\n",
       "Luke Skywalker - blond hair\n",
       "Lobot - no hair\n",
       "Jocasta Nu - white hair\n",
       "Jek Tono Porkins - brown hair\n",
       "Finis Valorum - blond hair\n",
       "Cliegg Lars - brown hair\n",
       "Chewbacca - brown hair\n",
       "Beru Whitesun lars - brown hair\n",
       "Barriss Offee - black hair\n",
       "Anakin Skywalker - blond hair\n",
       "Adi Gallia - no hair\n",
       "\n",
       "### Generated SQL Query\n",
       "```sql\n",
       "SELECT name, hair_color\n",
       "FROM people\n",
       "WHERE eye_color = 'blue'\n",
       "ORDER BY name DESC;\n",
       "```\n",
       "\n",
       "### SQL Results\n",
       "\n",
       "| name | hair_color |\n",
       "| --- | --- |\n",
       "| Wilhuff Tarkin | auburn, grey |\n",
       "| Tarfful | brown |\n",
       "| Ric Olié | brown |\n",
       "| Qui-Gon Jinn | brown |\n",
       "| Owen Lars | brown, grey |\n",
       "| Mon Mothma | auburn |\n",
       "| Mas Amedda | none |\n",
       "| Luminara Unduli | black |\n",
       "| Luke Skywalker | blond |\n",
       "| Lobot | none |\n",
       "| Jocasta Nu | white |\n",
       "| Jek Tono Porkins | brown |\n",
       "| Finis Valorum | blond |\n",
       "| Cliegg Lars | brown |\n",
       "| Chewbacca | brown |\n",
       "| Beru Whitesun lars | brown |\n",
       "| Barriss Offee | black |\n",
       "| Anakin Skywalker | blond |\n",
       "| Adi Gallia | none |\n",
       "\n"
      ],
      "text/plain": [
       "<IPython.core.display.Markdown object>"
      ]
     },
     "metadata": {},
     "output_type": "display_data"
    }
   ],
   "source": [
    "question = \"\"\"Give me the names, hair color of people who have blue eyes? Arrange the names in reverse alphabetical order.\"\"\"\n",
    "text_to_sql(query_engine, question, number=3)"
   ]
  },
  {
   "cell_type": "code",
   "execution_count": 12,
   "metadata": {},
   "outputs": [
    {
     "data": {
      "text/markdown": [
       "\n",
       "### Question\n",
       "\n",
       "**4.** **List the top 10 rocky planets in alphabetical order?**\n",
       "\n",
       "### Answer\n",
       "\n",
       "Based on the SQL query and response, here is a synthesized response to the input question \"List the top 10 rocky planets in alphabetical order?\":\n",
       "\n",
       "The top 10 rocky planets in alphabetical order are:\n",
       "\n",
       "1. Bestine IV (rocky islands, oceans)\n",
       "2. Iktotch (rocky)\n",
       "3. Iridonia (rocky canyons, acid pools)\n",
       "4. Sullust (mountains, volcanoes, rocky deserts)\n",
       "\n",
       "The query filtered the planet table to only include planets whose terrain description contained the word 'rocky'. It then ordered the results alphabetically by the planet name and limited the output to the first 10 results. However, the response only contained 4 planets, likely because there were fewer than 10 planets matching the 'rocky' terrain criteria in the database.\n",
       "\n",
       "### Generated SQL Query\n",
       "```sql\n",
       "SELECT name, terrain \n",
       "         FROM planet\n",
       "         WHERE terrain LIKE '%rocky%'\n",
       "         ORDER BY name\n",
       "         LIMIT 10;\n",
       "```\n",
       "\n",
       "### SQL Results\n",
       "\n",
       "| name | terrain |\n",
       "| --- | --- |\n",
       "| Bestine IV | rocky islands, oceans |\n",
       "| Iktotch | rocky |\n",
       "| Iridonia | rocky canyons, acid pools |\n",
       "| Sullust | mountains, volcanoes, rocky deserts |\n",
       "\n"
      ],
      "text/plain": [
       "<IPython.core.display.Markdown object>"
      ]
     },
     "metadata": {},
     "output_type": "display_data"
    }
   ],
   "source": [
    "question = \"\"\"List the top 10 rocky planets in alphabetical order?\"\"\"\n",
    "text_to_sql(query_engine, question, number=4)"
   ]
  },
  {
   "cell_type": "code",
   "execution_count": 13,
   "metadata": {},
   "outputs": [
    {
     "data": {
      "text/markdown": [
       "\n",
       "### Question\n",
       "\n",
       "**5.** **For all planets with rocky terrain, return a list of people and their eye colors.**\n",
       "\n",
       "### Answer\n",
       "\n",
       "Based on the SQL query and results, here is a possible response to the input question:\n",
       "\n",
       "\"For planets with rocky terrain, the people found on those planets and their respective eye colors are:\n",
       "\n",
       "- Eeth Koth with brown eyes\n",
       "- Jek Tono Porkins with blue eyes \n",
       "- Nien Nunb with black eyes\n",
       "- Saesee Tiin with orange eyes\"\n",
       "\n",
       "The query joins the `people` and `planet` tables to find all people who are from planets that have 'rocky' in their terrain description. It selects the person's name and eye color, orders the results by name, and returns that information.\n",
       "\n",
       "### Generated SQL Query\n",
       "```sql\n",
       "SELECT p.name, p.eye_color\n",
       "FROM people p\n",
       "JOIN planet pl ON p.planet_id = pl.id\n",
       "WHERE pl.terrain LIKE '%rocky%'\n",
       "ORDER BY p.name;\n",
       "```\n",
       "\n",
       "### SQL Results\n",
       "\n",
       "| name | eye_color |\n",
       "| --- | --- |\n",
       "| Eeth Koth | brown |\n",
       "| Jek Tono Porkins | blue |\n",
       "| Nien Nunb | black |\n",
       "| Saesee Tiin | orange |\n",
       "\n"
      ],
      "text/plain": [
       "<IPython.core.display.Markdown object>"
      ]
     },
     "metadata": {},
     "output_type": "display_data"
    }
   ],
   "source": [
    "question = \"\"\"For all planets with rocky terrain, return a list of people and their eye colors.\"\"\"\n",
    "text_to_sql(query_engine, question, number=5)"
   ]
  },
  {
   "cell_type": "code",
   "execution_count": 14,
   "metadata": {},
   "outputs": [
    {
     "data": {
      "text/markdown": [
       "\n",
       "### Question\n",
       "\n",
       "**6.** **List top ten people (alphabetical order) who are from planets with a temperate climate? Also list their planet name.**\n",
       "\n",
       "### Answer\n",
       "\n",
       "Here are the top 10 people from planets with a temperate climate, listed in alphabetical order along with their planet name:\n",
       "\n",
       "1. Ackbar from Mon Cala\n",
       "2. Adi Gallia from Coruscant  \n",
       "3. Ayla Secura from Ryloth\n",
       "4. Bail Prestor Organa from Alderaan\n",
       "5. Bib Fortuna from Ryloth\n",
       "6. Boba Fett from Kamino\n",
       "7. Cordé from Naboo\n",
       "8. Darth Maul from Dathomir\n",
       "9. Dormé from Naboo\n",
       "10. Dud Bolt from Vulpter\n",
       "\n",
       "### Generated SQL Query\n",
       "```sql\n",
       "SELECT p.name, pl.name AS planet_name\n",
       "FROM people p\n",
       "JOIN planet pl ON p.planet_id = pl.id\n",
       "WHERE pl.climate LIKE '%temperate%'\n",
       "ORDER BY p.name\n",
       "LIMIT 10;\n",
       "```\n",
       "\n",
       "### SQL Results\n",
       "\n",
       "| name | planet_name |\n",
       "| --- | --- |\n",
       "| Ackbar | Mon Cala |\n",
       "| Adi Gallia | Coruscant |\n",
       "| Ayla Secura | Ryloth |\n",
       "| Bail Prestor Organa | Alderaan |\n",
       "| Bib Fortuna | Ryloth |\n",
       "| Boba Fett | Kamino |\n",
       "| Cordé | Naboo |\n",
       "| Darth Maul | Dathomir |\n",
       "| Dormé | Naboo |\n",
       "| Dud Bolt | Vulpter |\n",
       "\n"
      ],
      "text/plain": [
       "<IPython.core.display.Markdown object>"
      ]
     },
     "metadata": {},
     "output_type": "display_data"
    }
   ],
   "source": [
    "question = \"\"\"List top ten people (alphabetical order) who are from planets with a temperate climate? Also list their planet name.\"\"\"\n",
    "text_to_sql(query_engine, question, number=6)"
   ]
  },
  {
   "cell_type": "code",
   "execution_count": 15,
   "metadata": {},
   "outputs": [
    {
     "data": {
      "text/markdown": [
       "\n",
       "### Question\n",
       "\n",
       "**7.** **What are the names and birth years of all people from planets with a population greater than 1,000,000? Also include the polulation. Top 10 only please.**\n",
       "\n",
       "### Answer\n",
       "\n",
       "Based on the query results, here is a response synthesized from the top 10 results:\n",
       "\n",
       "The people with the highest planet populations are Jocasta Nu, Finis Valorum, and Adi Gallia, all from planets with a population of 1 quadrillion. Wat Tambor is from a planet with 500 trillion inhabitants, while Poggle the Lesser's planet has a population of 100 trillion. \n",
       "\n",
       "Other notable individuals include Ackbar (born 41BBY) from a planet with 27 billion residents, Wilhuff Tarkin (born 64BBY) from a planet with 22 billion, Nien Nunb from a planet with 18.5 billion, the ancient Jabba Desilijic Tiure (born 600BBY) from a planet with 7 billion, and San Hill from a planet with a population of 5 billion.\n",
       "\n",
       "### Generated SQL Query\n",
       "```sql\n",
       "SELECT p.name, p.birth_year, pl.population\n",
       "FROM people p\n",
       "JOIN planet pl ON p.planet_id = pl.id\n",
       "WHERE pl.population > 1000000\n",
       "ORDER BY pl.population DESC\n",
       "LIMIT 10;\n",
       "```\n",
       "\n",
       "### SQL Results\n",
       "\n",
       "| name | birth_year | population |\n",
       "| --- | --- | --- |\n",
       "| Jocasta Nu | None | 1000000000000 |\n",
       "| Finis Valorum | 91BBY | 1000000000000 |\n",
       "| Adi Gallia | None | 1000000000000 |\n",
       "| Wat Tambor | None | 500000000000 |\n",
       "| Poggle the Lesser | None | 100000000000 |\n",
       "| Ackbar | 41BBY | 27000000000 |\n",
       "| Wilhuff Tarkin | 64BBY | 22000000000 |\n",
       "| Nien Nunb | None | 18500000000 |\n",
       "| Jabba Desilijic Tiure | 600BBY | 7000000000 |\n",
       "| San Hill | None | 5000000000 |\n",
       "\n"
      ],
      "text/plain": [
       "<IPython.core.display.Markdown object>"
      ]
     },
     "metadata": {},
     "output_type": "display_data"
    }
   ],
   "source": [
    "question = \"\"\"What are the names and birth years of all people from planets with a population greater than 1,000,000? Also include the polulation. Top 10 only please.\"\"\"\n",
    "text_to_sql(query_engine, question, number=7)"
   ]
  },
  {
   "cell_type": "code",
   "execution_count": 16,
   "metadata": {},
   "outputs": [
    {
     "data": {
      "text/markdown": [
       "\n",
       "### Question\n",
       "\n",
       "**8.** **What is the average height of people grouped by their planet? Please return only the top 5 results.**\n",
       "\n",
       "### Answer\n",
       "\n",
       "Based on the SQL query and results, here is a synthesized response to the input question:\n",
       "\n",
       "The top 5 planets with the tallest average height of people are:\n",
       "\n",
       "1. Quermia, with an average height of 264 cm\n",
       "2. Kashyyyk, with an average height of 231 cm \n",
       "3. Kalee, with an average height of 216 cm\n",
       "4. Kamino, with an average height of 208.33 cm\n",
       "5. Utapau, with an average height of 206 cm\n",
       "\n",
       "The query first joins the people and planet tables to associate each person with their home planet. It then calculates the average height grouped by planet name, orders the results by the average height in descending order, and limits the output to the top 5 rows.\n",
       "\n",
       "### Generated SQL Query\n",
       "```sql\n",
       "SELECT p.name AS planet_name, AVG(pe.height) AS average_height\n",
       "FROM people pe\n",
       "JOIN planet p ON pe.planet_id = p.id\n",
       "GROUP BY p.name\n",
       "ORDER BY average_height DESC\n",
       "LIMIT 5;\n",
       "```\n",
       "\n",
       "### SQL Results\n",
       "\n",
       "| planet_name | average_height |\n",
       "| --- | --- |\n",
       "| Quermia | 264.0000000000000000 |\n",
       "| Kashyyyk | 231.0000000000000000 |\n",
       "| Kalee | 216.0000000000000000 |\n",
       "| Kamino | 208.3333333333333333 |\n",
       "| Utapau | 206.0000000000000000 |\n",
       "\n"
      ],
      "text/plain": [
       "<IPython.core.display.Markdown object>"
      ]
     },
     "metadata": {},
     "output_type": "display_data"
    }
   ],
   "source": [
    "question = \"\"\"What is the average height of people grouped by their planet? Please return only the top 5 results.\"\"\"\n",
    "text_to_sql(query_engine, question, number=8)"
   ]
  },
  {
   "cell_type": "code",
   "execution_count": 17,
   "metadata": {},
   "outputs": [
    {
     "data": {
      "text/markdown": [
       "\n",
       "### Question\n",
       "\n",
       "**9.** **What are the names of planets and the total surface water available on each planet, grouped by planet name? Give me the results in descending order of surface water and only the top ten results. NULL surface water value is 0 percent.**\n",
       "\n",
       "### Answer\n",
       "\n",
       "Based on the SQL query and results, here is a synthesized response to the input question:\n",
       "\n",
       "The top 10 planets with the highest surface water percentage are:\n",
       "\n",
       "1. Hoth - 100% surface water\n",
       "2. Kamino - 100% surface water \n",
       "3. Ojom - 100% surface water\n",
       "4. Mon Cala - 100% surface water\n",
       "5. Bestine IV - 98% surface water\n",
       "6. Glee Anselm - 80% surface water\n",
       "7. Corellia - 70% surface water\n",
       "8. Rodia - 60% surface water\n",
       "9. Kashyyyk - 60% surface water\n",
       "10. Chandrila - 40% surface water\n",
       "\n",
       "The query selects the planet name and surface water percentage, groups the results by planet name, orders them in descending order based on the surface water percentage value, and limits the output to the top 10 results. Planets with null surface water values are considered to have 0% surface water.\n",
       "\n",
       "### Generated SQL Query\n",
       "```sql\n",
       "SELECT p.name, COALESCE(p.surface_water, '0%') AS surface_water\n",
       "FROM planet p\n",
       "GROUP BY p.name, p.surface_water\n",
       "ORDER BY CASE\n",
       "           WHEN p.surface_water LIKE '%_%' THEN CAST(REPLACE(p.surface_water, '%', '') AS FLOAT)\n",
       "           ELSE 0\n",
       "         END DESC\n",
       "LIMIT 10;\n",
       "```\n",
       "\n",
       "### SQL Results\n",
       "\n",
       "| name | surface_water |\n",
       "| --- | --- |\n",
       "| Hoth | 100 |\n",
       "| Kamino | 100 |\n",
       "| Ojom | 100 |\n",
       "| Mon Cala | 100 |\n",
       "| Bestine IV | 98 |\n",
       "| Glee Anselm | 80 |\n",
       "| Corellia | 70 |\n",
       "| Rodia | 60 |\n",
       "| Kashyyyk | 60 |\n",
       "| Chandrila | 40 |\n",
       "\n"
      ],
      "text/plain": [
       "<IPython.core.display.Markdown object>"
      ]
     },
     "metadata": {},
     "output_type": "display_data"
    }
   ],
   "source": [
    "question = \"\"\"What are the names of planets and the total surface water available on each planet, grouped by planet name? Give me the results in descending order of surface water and only the top ten results. NULL surface water value is 0 percent.\"\"\"\n",
    "text_to_sql(query_engine, question, number=9)"
   ]
  },
  {
   "cell_type": "code",
   "execution_count": 18,
   "metadata": {},
   "outputs": [
    {
     "data": {
      "text/markdown": [
       "\n",
       "### Question\n",
       "\n",
       "**10.** **List the names of all female people and their planet's name.**\n",
       "\n",
       "### Answer\n",
       "\n",
       "Based on the SQL query and results, here is a synthesized response:\n",
       "\n",
       "The query lists the names of all female people and the name of their home planet. Some notable entries include:\n",
       "\n",
       "- Leia Organa from Alderaan\n",
       "- Padmé Amidala from Naboo \n",
       "- Rey from an unknown planet\n",
       "- Shaak Ti from Shili\n",
       "- Shmi Skywalker from Tatooine\n",
       "- Jedi like Adi Gallia from Coruscant, Luminara Unduli from Mirial, and Ayla Secura from Ryloth\n",
       "- Other characters like Captain Phasma, Cordé, Dormé, Jocasta Nu, Mon Mothma, R4-P17, Sly Moore, Taun We, and Zam Wesell from various planets including some unknowns.\n",
       "\n",
       "The results show a diverse range of female characters from many different planets across the Star Wars universe.\n",
       "\n",
       "### Generated SQL Query\n",
       "```sql\n",
       "SELECT p.name, pl.name\n",
       "FROM people p\n",
       "JOIN planet pl ON p.planet_id = pl.id\n",
       "WHERE p.gender = 'female'\n",
       "ORDER BY p.name;\n",
       "```\n",
       "\n",
       "### SQL Results\n",
       "\n",
       "| name | name |\n",
       "| --- | --- |\n",
       "| Adi Gallia | Coruscant |\n",
       "| Ayla Secura | Ryloth |\n",
       "| Barriss Offee | Mirial |\n",
       "| Beru Whitesun lars | Tatooine |\n",
       "| Captain Phasma | Unknown |\n",
       "| Cordé | Naboo |\n",
       "| Dormé | Naboo |\n",
       "| Jocasta Nu | Coruscant |\n",
       "| Leia Organa | Alderaan |\n",
       "| Luminara Unduli | Mirial |\n",
       "| Mon Mothma | Chandrila |\n",
       "| Padmé Amidala | Naboo |\n",
       "| R4-P17 | Unknown |\n",
       "| Rey | Unknown |\n",
       "| Shaak Ti | Shili |\n",
       "| Shmi Skywalker | Tatooine |\n",
       "| Sly Moore | Umbara |\n",
       "| Taun We | Kamino |\n",
       "| Zam Wesell | Zolan |\n",
       "\n"
      ],
      "text/plain": [
       "<IPython.core.display.Markdown object>"
      ]
     },
     "metadata": {},
     "output_type": "display_data"
    }
   ],
   "source": [
    "question = \"\"\"List the names of all female people and their planet's name.\"\"\"\n",
    "text_to_sql(query_engine, question, number=10)"
   ]
  },
  {
   "cell_type": "code",
   "execution_count": 19,
   "metadata": {},
   "outputs": [
    {
     "data": {
      "text/markdown": [
       "\n",
       "### Question\n",
       "\n",
       "**11.** **Liste die Namen aller weiblichen Personen und den Namen ihres Planeten auf.**\n",
       "\n",
       "### Answer\n",
       "\n",
       "Die Abfrage listet die Namen aller weiblichen Personen und den Namen ihrer jeweiligen Heimatplaneten auf. Hier sind die Ergebnisse:\n",
       "\n",
       "Adi Gallia vom Planeten Coruscant\n",
       "Ayla Secura vom Planeten Ryloth  \n",
       "Barriss Offee vom Planeten Mirial\n",
       "Beru Whitesun lars vom Planeten Tatooine\n",
       "Captain Phasma von einem unbekannten Planeten\n",
       "Cordé vom Planeten Naboo\n",
       "Dormé vom Planeten Naboo\n",
       "Jocasta Nu vom Planeten Coruscant\n",
       "Leia Organa vom Planeten Alderaan\n",
       "Luminara Unduli vom Planeten Mirial\n",
       "Mon Mothma vom Planeten Chandrila\n",
       "Padmé Amidala vom Planeten Naboo\n",
       "R4-P17 von einem unbekannten Planeten\n",
       "Rey von einem unbekannten Planeten\n",
       "Shaak Ti vom Planeten Shili\n",
       "Shmi Skywalker vom Planeten Tatooine\n",
       "Sly Moore vom Planeten Umbara\n",
       "Taun We vom Planeten Kamino\n",
       "Zam Wesell vom Planeten Zolan\n",
       "\n",
       "### Generated SQL Query\n",
       "```sql\n",
       "SELECT p.name AS person_name, pl.name AS planet_name\n",
       "FROM people p\n",
       "JOIN planet pl ON p.planet_id = pl.id\n",
       "WHERE p.gender = 'female'\n",
       "ORDER BY p.name;\n",
       "```\n",
       "\n",
       "### SQL Results\n",
       "\n",
       "| person_name | planet_name |\n",
       "| --- | --- |\n",
       "| Adi Gallia | Coruscant |\n",
       "| Ayla Secura | Ryloth |\n",
       "| Barriss Offee | Mirial |\n",
       "| Beru Whitesun lars | Tatooine |\n",
       "| Captain Phasma | Unknown |\n",
       "| Cordé | Naboo |\n",
       "| Dormé | Naboo |\n",
       "| Jocasta Nu | Coruscant |\n",
       "| Leia Organa | Alderaan |\n",
       "| Luminara Unduli | Mirial |\n",
       "| Mon Mothma | Chandrila |\n",
       "| Padmé Amidala | Naboo |\n",
       "| R4-P17 | Unknown |\n",
       "| Rey | Unknown |\n",
       "| Shaak Ti | Shili |\n",
       "| Shmi Skywalker | Tatooine |\n",
       "| Sly Moore | Umbara |\n",
       "| Taun We | Kamino |\n",
       "| Zam Wesell | Zolan |\n",
       "\n"
      ],
      "text/plain": [
       "<IPython.core.display.Markdown object>"
      ]
     },
     "metadata": {},
     "output_type": "display_data"
    }
   ],
   "source": [
    "question = \"\"\"Liste die Namen aller weiblichen Personen und den Namen ihres Planeten auf.\"\"\"\n",
    "# Now query in German (List the names of all female people and their planet's name.)\n",
    "text_to_sql(query_engine, question, number=11)"
   ]
  },
  {
   "cell_type": "code",
   "execution_count": 20,
   "metadata": {},
   "outputs": [
    {
     "data": {
      "text/markdown": [
       "\n",
       "### Question\n",
       "\n",
       "**12.** **모든 여성의 이름과 그들의 행성 이름을 나열하세요.**\n",
       "\n",
       "### Answer\n",
       "\n",
       "여성 이름과 행성 이름은 다음과 같습니다:\n",
       "\n",
       "Adi Gallia - 코러산트\n",
       "Ayla Secura - 라일로스  \n",
       "Barriss Offee - 미리알\n",
       "Beru Whitesun lars - 타투인\n",
       "Captain Phasma - 알려지지 않음\n",
       "Cordé - 나부\n",
       "Dormé - 나부\n",
       "Jocasta Nu - 코러산트\n",
       "Leia Organa - 알데라안\n",
       "Luminara Unduli - 미리알\n",
       "Mon Mothma - 찬드릴라\n",
       "Padmé Amidala - 나부\n",
       "R4-P17 - 알려지지 않음\n",
       "Rey - 알려지지 않음  \n",
       "Shaak Ti - 실리\n",
       "Shmi Skywalker - 타투인\n",
       "Sly Moore - 움바라\n",
       "Taun We - 카미노\n",
       "Zam Wesell - 졸란\n",
       "\n",
       "### Generated SQL Query\n",
       "```sql\n",
       "SELECT p.name AS person_name, pl.name AS planet_name\n",
       "FROM people p\n",
       "JOIN planet pl ON p.planet_id = pl.id\n",
       "WHERE p.gender = 'female'\n",
       "ORDER BY p.name;\n",
       "```\n",
       "\n",
       "### SQL Results\n",
       "\n",
       "| person_name | planet_name |\n",
       "| --- | --- |\n",
       "| Adi Gallia | Coruscant |\n",
       "| Ayla Secura | Ryloth |\n",
       "| Barriss Offee | Mirial |\n",
       "| Beru Whitesun lars | Tatooine |\n",
       "| Captain Phasma | Unknown |\n",
       "| Cordé | Naboo |\n",
       "| Dormé | Naboo |\n",
       "| Jocasta Nu | Coruscant |\n",
       "| Leia Organa | Alderaan |\n",
       "| Luminara Unduli | Mirial |\n",
       "| Mon Mothma | Chandrila |\n",
       "| Padmé Amidala | Naboo |\n",
       "| R4-P17 | Unknown |\n",
       "| Rey | Unknown |\n",
       "| Shaak Ti | Shili |\n",
       "| Shmi Skywalker | Tatooine |\n",
       "| Sly Moore | Umbara |\n",
       "| Taun We | Kamino |\n",
       "| Zam Wesell | Zolan |\n",
       "\n"
      ],
      "text/plain": [
       "<IPython.core.display.Markdown object>"
      ]
     },
     "metadata": {},
     "output_type": "display_data"
    }
   ],
   "source": [
    "question = \"\"\"모든 여성의 이름과 그들의 행성 이름을 나열하세요.\"\"\"\n",
    "# Now query in Korean (List the names of all female people and their planet's name.)\n",
    "text_to_sql(query_engine, question, number=12)"
   ]
  },
  {
   "cell_type": "code",
   "execution_count": 21,
   "metadata": {},
   "outputs": [
    {
     "data": {
      "text/markdown": [
       "\n",
       "### Question\n",
       "\n",
       "**13.** **Isalista ang mga pangalan ng lahat ng babae at ang pangalan ng kanilang planeta.**\n",
       "\n",
       "### Answer\n",
       "\n",
       "Narito ang mga pangalan ng lahat ng babae at ang kanilang planeta:\n",
       "\n",
       "Adi Gallia - Coruscant\n",
       "Ayla Secura - Ryloth  \n",
       "Barriss Offee - Mirial\n",
       "Beru Whitesun lars - Tatooine\n",
       "Captain Phasma - Unknown\n",
       "Cordé - Naboo\n",
       "Dormé - Naboo\n",
       "Jocasta Nu - Coruscant\n",
       "Leia Organa - Alderaan\n",
       "Luminara Unduli - Mirial\n",
       "Mon Mothma - Chandrila\n",
       "Padmé Amidala - Naboo\n",
       "R4-P17 - Unknown\n",
       "Rey - Unknown\n",
       "Shaak Ti - Shili\n",
       "Shmi Skywalker - Tatooine\n",
       "Sly Moore - Umbara\n",
       "Taun We - Kamino\n",
       "Zam Wesell - Zolan\n",
       "\n",
       "### Generated SQL Query\n",
       "```sql\n",
       "SELECT people.name, planet.name\n",
       "FROM people\n",
       "JOIN planet ON people.planet_id = planet.id\n",
       "WHERE people.gender = 'female'\n",
       "ORDER BY people.name;\n",
       "```\n",
       "\n",
       "### SQL Results\n",
       "\n",
       "| name | name |\n",
       "| --- | --- |\n",
       "| Adi Gallia | Coruscant |\n",
       "| Ayla Secura | Ryloth |\n",
       "| Barriss Offee | Mirial |\n",
       "| Beru Whitesun lars | Tatooine |\n",
       "| Captain Phasma | Unknown |\n",
       "| Cordé | Naboo |\n",
       "| Dormé | Naboo |\n",
       "| Jocasta Nu | Coruscant |\n",
       "| Leia Organa | Alderaan |\n",
       "| Luminara Unduli | Mirial |\n",
       "| Mon Mothma | Chandrila |\n",
       "| Padmé Amidala | Naboo |\n",
       "| R4-P17 | Unknown |\n",
       "| Rey | Unknown |\n",
       "| Shaak Ti | Shili |\n",
       "| Shmi Skywalker | Tatooine |\n",
       "| Sly Moore | Umbara |\n",
       "| Taun We | Kamino |\n",
       "| Zam Wesell | Zolan |\n",
       "\n"
      ],
      "text/plain": [
       "<IPython.core.display.Markdown object>"
      ]
     },
     "metadata": {},
     "output_type": "display_data"
    }
   ],
   "source": [
    "question = \"\"\"Isalista ang mga pangalan ng lahat ng babae at ang pangalan ng kanilang planeta.\"\"\"\n",
    "# Now query in Filipino (List the names of all female people and their planet's name.)\n",
    "text_to_sql(query_engine, question, number=13)"
   ]
  }
 ],
 "metadata": {
  "kernelspec": {
   "display_name": ".venv",
   "language": "python",
   "name": "python3"
  },
  "language_info": {
   "codemirror_mode": {
    "name": "ipython",
    "version": 3
   },
   "file_extension": ".py",
   "mimetype": "text/x-python",
   "name": "python",
   "nbconvert_exporter": "python",
   "pygments_lexer": "ipython3",
   "version": "3.12.0"
  }
 },
 "nbformat": 4,
 "nbformat_minor": 2
}
