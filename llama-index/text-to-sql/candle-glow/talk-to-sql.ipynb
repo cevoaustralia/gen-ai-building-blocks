{
 "cells": [
  {
   "cell_type": "code",
   "execution_count": 1,
   "metadata": {},
   "outputs": [
    {
     "name": "stdout",
     "output_type": "stream",
     "text": [
      "Python 3.12.0\n"
     ]
    }
   ],
   "source": [
    "! python --version"
   ]
  },
  {
   "cell_type": "markdown",
   "metadata": {},
   "source": [
    "## 1. Install the required libraries\n",
    "\n",
    "We start off by installing all the required libraries. Note that apart from the LlamaIndex modules, we also need psycopg - for interfacing with Postgres databases, and SQLAlchemy - a Python-based ORM mapper for SQL. "
   ]
  },
  {
   "cell_type": "code",
   "execution_count": 2,
   "metadata": {},
   "outputs": [],
   "source": [
    "%%capture\n",
    "! pip install llama-index\n",
    "! pip install psycopg2-binary\n",
    "! pip install SQLAlchemy\n",
    "! pip install python-dotenv\n",
    "! pip install llama-index-llms-bedrock\n",
    "! pip install llama-index-embeddings-bedrock"
   ]
  },
  {
   "cell_type": "markdown",
   "metadata": {},
   "source": [
    "## 2. Connection to database\n",
    "\n",
    "After loading the environment variables, we proceed by instantiating the SQL engine using SQLAlchemy. This will be used later for the LlamaIndex calls. Note that internally the psycopg Postgres adapter is being used. "
   ]
  },
  {
   "cell_type": "code",
   "execution_count": 1,
   "metadata": {},
   "outputs": [],
   "source": [
    "from sqlalchemy import create_engine\n",
    "import os\n",
    "from llama_index.core.callbacks import (\n",
    "    CallbackManager,\n",
    "    LlamaDebugHandler,\n",
    ")\n",
    "from dotenv import load_dotenv\n",
    "\n",
    "load_dotenv(verbose=True, dotenv_path=\"../../../.env\")\n",
    "\n",
    "llama_debug = LlamaDebugHandler(print_trace_on_end=True)\n",
    "callback_manager = CallbackManager([llama_debug])\n",
    "\n",
    "engine = create_engine(f\"postgresql+psycopg2://postgres:{\n",
    "                       os.environ[\"PG_VECTOR_PW\"]}@localhost:5432/{os.environ[\"PG_VECTOR_DB\"]}\")"
   ]
  },
  {
   "cell_type": "markdown",
   "metadata": {},
   "source": [
    "## 3. Testing the connection\n",
    "\n",
    "To test if our database connection works, we perform a couple of SELECTs to two of the tables:"
   ]
  },
  {
   "cell_type": "code",
   "execution_count": 2,
   "metadata": {},
   "outputs": [
    {
     "name": "stdout",
     "output_type": "stream",
     "text": [
      "[(1, 'john_doe', 'john@example.com', 'password123', 'John', 'Doe', '123 Main St, Anytown, USA', '123-456-7890', datetime.datetime(2024, 7, 4, 7, 46, 50, 312399), datetime.datetime(2024, 7, 4, 7, 46, 50, 312399)), (2, 'jane_smith', 'jane@example.com', 'password456', 'Jane', 'Smith', '456 Elm St, Othertown, USA', '987-654-3210', datetime.datetime(2024, 7, 4, 7, 46, 50, 312399), datetime.datetime(2024, 7, 4, 7, 46, 50, 312399)), (3, 'bob_brown', 'bob@example.com', 'password789', 'Bob', 'Brown', '789 Oak St, Thistown, USA', '555-555-5555', datetime.datetime(2024, 7, 4, 7, 46, 50, 312399), datetime.datetime(2024, 7, 4, 7, 46, 50, 312399)), (4, 'alice_jones', 'alice@example.com', 'password1234', 'Alice', 'Jones', '321 Pine St, Yourtown, USA', '234-567-8901', datetime.datetime(2024, 7, 4, 7, 46, 50, 312399), datetime.datetime(2024, 7, 4, 7, 46, 50, 312399)), (5, 'charlie_davis', 'charlie@example.com', 'password5678', 'Charlie', 'Davis', '654 Maple St, Hishtown, USA', '345-678-9012', datetime.datetime(2024, 7, 4, 7, 46, 50, 312399), datetime.datetime(2024, 7, 4, 7, 46, 50, 312399))]\n",
      "[(1, 'Fruity', 'Candles with fruity scents like apple, orange, and berry.', datetime.datetime(2024, 7, 4, 7, 46, 50, 312399), datetime.datetime(2024, 7, 4, 7, 46, 50, 312399)), (2, 'Floral', 'Candles with floral scents like rose, lavender, and jasmine.', datetime.datetime(2024, 7, 4, 7, 46, 50, 312399), datetime.datetime(2024, 7, 4, 7, 46, 50, 312399)), (3, 'Earthy', 'Candles with earthy scents like sandalwood, cedar, and pine.', datetime.datetime(2024, 7, 4, 7, 46, 50, 312399), datetime.datetime(2024, 7, 4, 7, 46, 50, 312399)), (4, 'Spicy', 'Candles with spicy scents like cinnamon, clove, and ginger.', datetime.datetime(2024, 7, 4, 7, 46, 50, 312399), datetime.datetime(2024, 7, 4, 7, 46, 50, 312399)), (5, 'Fresh', 'Candles with fresh scents like mint, eucalyptus, and ocean breeze.', datetime.datetime(2024, 7, 4, 7, 46, 50, 312399), datetime.datetime(2024, 7, 4, 7, 46, 50, 312399))]\n"
     ]
    }
   ],
   "source": [
    "# Testing our connection\n",
    "with engine.connect() as connection:\n",
    "    cursor = connection.exec_driver_sql(\"SELECT * FROM users LIMIT 5\")\n",
    "    print(cursor.fetchall())\n",
    "    \n",
    "with engine.connect() as connection:\n",
    "    cursor = connection.exec_driver_sql(\"SELECT * FROM categories LIMIT 5\")\n",
    "    print(cursor.fetchall())"
   ]
  },
  {
   "cell_type": "markdown",
   "metadata": {},
   "source": [
    "## 4. Setting up the LLM Bedrock configuration\n",
    "\n",
    "In LlamaIndex, the Settings object is a global configuration interface for setting up LlamaIndex with your LLM, embedding model and other miscellaneous configurations. Here we are setting up both our LLM and the embedding model with the AWS environment variables we have loaded earlier.\n",
    "\n",
    "Note that we are using Claude 3 Sonnet as the LLM and the Cohere multilingual embedding model as both are excellent models to use.  "
   ]
  },
  {
   "cell_type": "code",
   "execution_count": 3,
   "metadata": {},
   "outputs": [],
   "source": [
    "from llama_index.core import Settings\n",
    "from llama_index.llms.bedrock import Bedrock\n",
    "from llama_index.embeddings.bedrock import BedrockEmbedding\n",
    "\n",
    "Settings.llm = Bedrock(\n",
    "    model=\"anthropic.claude-3-sonnet-20240229-v1:0\",\n",
    "    aws_access_key_id=os.environ[\"AWS_ACCESS_KEY_ID\"],\n",
    "    aws_secret_access_key=os.environ[\"AWS_SECRET_ACCESS_KEY\"],\n",
    "    aws_session_token=os.environ[\"AWS_SESSION_TOKEN\"],\n",
    "    region_name=os.environ[\"AWS_DEFAULT_REGION\"],\n",
    ")\n",
    "\n",
    "Settings.embed_model = BedrockEmbedding(\n",
    "    model_name=\"cohere.embed-multilingual-v3\",\n",
    "    region_name=os.environ[\"AWS_DEFAULT_REGION\"],\n",
    ")"
   ]
  },
  {
   "cell_type": "markdown",
   "metadata": {},
   "source": [
    "## 5. Setting up the Database Schema index\n",
    "\n",
    "The SQLDatabase object is a wrapper around SQLAgent, and this is what LlamaIndex uses to actually interact with the database. Here we are setting it up with the tables we want to include in the system. We want to include all the tables.  "
   ]
  },
  {
   "cell_type": "code",
   "execution_count": 4,
   "metadata": {},
   "outputs": [],
   "source": [
    "from llama_index.core import SQLDatabase\n",
    "\n",
    "all_tables = [\n",
    "    (\"categories\", \"This table contains all the categories of scented candles sold in Candle Glow.\"),\n",
    "    (\"products\", \"This table contains the products list sold in Candle Glow.\"),\n",
    "    (\"users\", \"This table contains the users list who have purchased products from Candle Glow.\"),\n",
    "    (\"orders\", \"This table contains the orders list placed by users in Candle Glow.\"),\n",
    "    (\"order_items\", \"This table contains the order items list placed by users in Candle Glow.\"),\n",
    "    (\"reviews\", \"This table contains the reviews given by users for the products purchased in Candle Glow.\")\n",
    "]\n",
    "\n",
    "sql_database = SQLDatabase(engine, include_tables=[table_name for table_name, _ in all_tables])"
   ]
  },
  {
   "cell_type": "markdown",
   "metadata": {},
   "source": [
    "## 6. Building the table schema index and setting up the retriever\n",
    "\n",
    "Here we are creating an internal index of the SQL tables using ObjectIndex. This is critical because during query-time, LlamaIndex needs to know what tables it needs to query to satisfy the user’s question. \n",
    "\n",
    "In this article we have a small database of only 6 tables, but in a production setting, it is not uncommon to find systems with dozens or even hundreds of tables. So instead of ingesting all the table schemas, we are building an index of table schemas. The table name and table description we prepared earlier are used for this. \n",
    "\n",
    "Finally, an SQLTableRetrieverQueryEngine is instantiated using the SQLDatabase and the table schema index that we just created.\n",
    "\n",
    "## 7. Formatting the results output\n",
    "\n",
    "What’s the use of our results if we cannot read it easily? This is just a convenience formatting to enable us to easily read the results and for this we use the Markdown format as it is just playing text and is supported widely including this notebook. \n"
   ]
  },
  {
   "cell_type": "code",
   "execution_count": 5,
   "metadata": {},
   "outputs": [],
   "source": [
    "from llama_index.core.indices.struct_store import SQLTableRetrieverQueryEngine\n",
    "from llama_index.core.objects import (\n",
    "    SQLTableNodeMapping,\n",
    "    ObjectIndex,\n",
    "    SQLTableSchema,\n",
    ")\n",
    "from llama_index.core import VectorStoreIndex\n",
    "from IPython.display import Markdown, display"
   ]
  },
  {
   "cell_type": "code",
   "execution_count": 6,
   "metadata": {},
   "outputs": [
    {
     "name": "stdout",
     "output_type": "stream",
     "text": [
      "<llama_index.core.objects.table_node_mapping.SQLTableNodeMapping object at 0x13f92db50>\n",
      "[SQLTableSchema(table_name='categories', context_str='This table contains all the categories of scented candles sold in Candle Glow.'), SQLTableSchema(table_name='products', context_str='This table contains the products list sold in Candle Glow.'), SQLTableSchema(table_name='users', context_str='This table contains the users list who have purchased products from Candle Glow.'), SQLTableSchema(table_name='orders', context_str='This table contains the orders list placed by users in Candle Glow.'), SQLTableSchema(table_name='order_items', context_str='This table contains the order items list placed by users in Candle Glow.'), SQLTableSchema(table_name='reviews', context_str='This table contains the reviews given by users for the products purchased in Candle Glow.')]\n",
      "**********\n",
      "Trace: index_construction\n",
      "**********\n"
     ]
    }
   ],
   "source": [
    "table_node_mapping = SQLTableNodeMapping(sql_database)\n",
    "\n",
    "table_schema_objs = []\n",
    "for table_name, table_description in all_tables:\n",
    "    table_schema_objs.append(\n",
    "        SQLTableSchema(table_name=table_name, context_str=table_description))\n",
    "    \n",
    "print(table_node_mapping)\n",
    "print(table_schema_objs)\n",
    "\n",
    "obj_index = ObjectIndex.from_objects(\n",
    "    table_schema_objs,\n",
    "    table_node_mapping,\n",
    "    VectorStoreIndex,\n",
    "    callback_manager=callback_manager,\n",
    ")\n",
    "\n",
    "query_engine = SQLTableRetrieverQueryEngine(\n",
    "    sql_database,\n",
    "    obj_index.as_retriever(similarity_top_k=len(all_tables)),\n",
    ")\n",
    "\n",
    "def format_sql_results_as_markdown_table(sql_results, headers):\n",
    "    \"\"\"\n",
    "    Formats the SQL results as a markdown table\n",
    "    \"\"\"\n",
    "    if not sql_results and not headers:\n",
    "        return \"No results found.\"\n",
    "    \n",
    "    header_row = \"| \" + \" | \".join(headers) + \" |\"\n",
    "    separator_row = \"| \" + \" | \".join([\"---\"] * len(headers)) + \" |\"\n",
    "\n",
    "    table_rows = []\n",
    "    for row in sql_results:\n",
    "        table_row = \"|\"\n",
    "        for j, _ in enumerate(headers):\n",
    "            table_row += f\" {str(row[j])} |\"\n",
    "        table_rows.append(table_row)\n",
    "\n",
    "    markdown_table = \"\\n\".join([header_row, separator_row] + table_rows)\n",
    "    return markdown_table\n",
    "\n",
    "response_template = \"\"\"\n",
    "### Question\n",
    "\n",
    "**{number}.** **{question}**\n",
    "\n",
    "### Answer\n",
    "\n",
    "{response}\n",
    "\n",
    "### Generated SQL Query\n",
    "```sql\n",
    "{sql}\n",
    "```\n",
    "\n",
    "### SQL Results\n",
    "\n",
    "{sql_results}\n",
    "\n",
    "\"\"\"\n",
    "\n",
    "def text_to_sql(query_engine, question, number=1):\n",
    "    \"\"\"\n",
    "    Calls the query engine with the given question and displays the response as a markdown cell\n",
    "    \"\"\"\n",
    "    engine_response = query_engine.query(question)\n",
    "    if \"result\" in engine_response.metadata and \"col_keys\" in engine_response.metadata:\n",
    "        display(Markdown(response_template.format(\n",
    "                number=number,\n",
    "                question=question,\n",
    "                response=str(engine_response),\n",
    "                sql=engine_response.metadata[\"sql_query\"],\n",
    "                sql_results=format_sql_results_as_markdown_table(\n",
    "                    engine_response.metadata[\"result\"],\n",
    "                    engine_response.metadata[\"col_keys\"]),\n",
    "            )))\n",
    "    else:\n",
    "        print(\"No results found.\")"
   ]
  },
  {
   "cell_type": "markdown",
   "metadata": {},
   "source": [
    "## Sample Invocation Output\n",
    "\n",
    "Here are a few samples of questions and answers that show the capability of this Text2SQL system. LlamaIndex, together with a very capable LLM in Claude 3, can easily connect with your SQL Database, and enable you to get insights using nothing but natural language.\n"
   ]
  },
  {
   "cell_type": "code",
   "execution_count": 7,
   "metadata": {},
   "outputs": [
    {
     "data": {
      "text/markdown": [
       "\n",
       "### Question\n",
       "\n",
       "**1.** **How many tables are there in the database?**\n",
       "\n",
       "### Answer\n",
       "\n",
       "Based on the SQL query and response, there are 6 tables in the database schema 'public'.\n",
       "\n",
       "### Generated SQL Query\n",
       "```sql\n",
       "SELECT COUNT(*) FROM information_schema.tables WHERE table_schema = 'public';\n",
       "```\n",
       "\n",
       "### SQL Results\n",
       "\n",
       "| count |\n",
       "| --- |\n",
       "| 6 |\n",
       "\n"
      ],
      "text/plain": [
       "<IPython.core.display.Markdown object>"
      ]
     },
     "metadata": {},
     "output_type": "display_data"
    }
   ],
   "source": [
    "text_to_sql(query_engine, \"How many tables are there in the database?\", number=1)"
   ]
  },
  {
   "cell_type": "code",
   "execution_count": 8,
   "metadata": {},
   "outputs": [
    {
     "data": {
      "text/markdown": [
       "\n",
       "### Question\n",
       "\n",
       "**2.** **What are the categories of products sold?**\n",
       "\n",
       "### Answer\n",
       "\n",
       "Based on the SQL query and response, the categories of products sold are Earthy, Floral, Fresh, Fruity, and Spicy. These categories represent different scent profiles for candles, with Earthy candles having earthy scents like sandalwood, cedar, and pine, Floral candles having floral scents like rose, lavender, and jasmine, Fresh candles having fresh scents like mint, eucalyptus, and ocean breeze, Fruity candles having fruity scents like apple, orange, and berry, and Spicy candles having spicy scents like cinnamon, clove, and ginger.\n",
       "\n",
       "### Generated SQL Query\n",
       "```sql\n",
       "SELECT name, description \n",
       "FROM categories\n",
       "ORDER BY name;\n",
       "```\n",
       "\n",
       "### SQL Results\n",
       "\n",
       "| name | description |\n",
       "| --- | --- |\n",
       "| Earthy | Candles with earthy scents like sandalwood, cedar, and pine. |\n",
       "| Floral | Candles with floral scents like rose, lavender, and jasmine. |\n",
       "| Fresh | Candles with fresh scents like mint, eucalyptus, and ocean breeze. |\n",
       "| Fruity | Candles with fruity scents like apple, orange, and berry. |\n",
       "| Spicy | Candles with spicy scents like cinnamon, clove, and ginger. |\n",
       "\n"
      ],
      "text/plain": [
       "<IPython.core.display.Markdown object>"
      ]
     },
     "metadata": {},
     "output_type": "display_data"
    }
   ],
   "source": [
    "text_to_sql(query_engine, \"What are the categories of products sold?\", number=2)"
   ]
  },
  {
   "cell_type": "code",
   "execution_count": 11,
   "metadata": {},
   "outputs": [
    {
     "data": {
      "text/markdown": [
       "\n",
       "### Question\n",
       "\n",
       "**3.** **Give me a list of orders in the last week. Also include the user (firstname and lastname) who placed the order and the total amount of the order.**\n",
       "\n",
       "### Answer\n",
       "\n",
       "Here is a summary of the orders placed in the last week:\n",
       "\n",
       "A total of 26 orders were placed by 12 different users. The orders range in total amount from $17.26 to $222.62.\n",
       "\n",
       "Some of the top orders by total amount include:\n",
       "\n",
       "- An order for $222.62 placed by Rachel Garcia\n",
       "- An order for $175.68 placed by Fiona Hall \n",
       "- An order for $174.09 placed by Ian Lee\n",
       "- An order for $154.40 placed by Paula Martinez\n",
       "\n",
       "The users with the most orders in the last week were:\n",
       "\n",
       "- Jessica Adams with 3 orders totaling $151.82\n",
       "- Bob Brown with 2 orders totaling $232.24  \n",
       "- Edward Wilson with 2 orders totaling $177.52\n",
       "- Nina Thomas with 2 orders totaling $251.86\n",
       "\n",
       "The total revenue from these 26 orders over the past week was $2,537.18.\n",
       "\n",
       "### Generated SQL Query\n",
       "```sql\n",
       "SELECT \n",
       "    o.order_id, \n",
       "    u.first_name, \n",
       "    u.last_name, \n",
       "    o.total_amount\n",
       "FROM \n",
       "    orders o\n",
       "JOIN \n",
       "    users u ON o.user_id = u.user_id\n",
       "WHERE \n",
       "    o.order_date >= NOW() - INTERVAL '1 week'\n",
       "ORDER BY \n",
       "    o.order_date DESC;\n",
       "```\n",
       "\n",
       "### SQL Results\n",
       "\n",
       "| order_id | first_name | last_name | total_amount |\n",
       "| --- | --- | --- | --- |\n",
       "| 1117 | Charlie | Davis | 74.09 |\n",
       "| 1121 | Edward | Wilson | 75.56 |\n",
       "| 1120 | Jessica | Adams | 17.26 |\n",
       "| 1119 | Nina | Thomas | 144.26 |\n",
       "| 1118 | Hannah | Clark | 82.02 |\n",
       "| 1114 | Alice | Jones | 94.21 |\n",
       "| 1116 | Oliver | Miller | 71.09 |\n",
       "| 1115 | Michael | Taylor | 38.12 |\n",
       "| 1113 | Ian | Lee | 174.09 |\n",
       "| 1109 | Nina | Thomas | 107.60 |\n",
       "| 1110 | John | Doe | 39.69 |\n",
       "| 1111 | Quincy | Rodriguez | 90.39 |\n",
       "| 1112 | Rachel | Garcia | 222.62 |\n",
       "| 1106 | Fiona | Hall | 44.00 |\n",
       "| 1108 | Edward | Wilson | 101.96 |\n",
       "| 1107 | Jessica | Adams | 25.34 |\n",
       "| 1103 | Laura | Moore | 34.10 |\n",
       "| 1105 | Jessica | Adams | 109.22 |\n",
       "| 1104 | Fiona | Hall | 175.68 |\n",
       "| 1100 | Bob | Brown | 101.80 |\n",
       "| 1102 | Ian | Lee | 45.99 |\n",
       "| 1101 | Oliver | Miller | 35.43 |\n",
       "| 1099 | Laura | Moore | 136.36 |\n",
       "| 1097 | Bob | Brown | 130.44 |\n",
       "| 1098 | Jane | Smith | 55.12 |\n",
       "| 1096 | Paula | Martinez | 154.40 |\n",
       "\n"
      ],
      "text/plain": [
       "<IPython.core.display.Markdown object>"
      ]
     },
     "metadata": {},
     "output_type": "display_data"
    }
   ],
   "source": [
    "question = \"\"\"Give me a list of orders in the last week. Also include the user (firstname and lastname) who placed the order and the total amount of the order.\"\"\"\n",
    "text_to_sql(query_engine, question, number=3)"
   ]
  },
  {
   "cell_type": "code",
   "execution_count": 13,
   "metadata": {},
   "outputs": [
    {
     "data": {
      "text/markdown": [
       "\n",
       "### Question\n",
       "\n",
       "**4.** **Give me a summary of sales from the last three months and group per month.**\n",
       "\n",
       "### Answer\n",
       "\n",
       "Based on the query results, here is a summary of sales from the last three months grouped by month:\n",
       "\n",
       "In July 2024, the total sales amounted to $1,402.30.\n",
       "In June 2024, the total sales were $9,022.66, which was the highest among the three months.\n",
       "In May 2024, the total sales were $7,953.47.\n",
       "In April 2024, the total sales were $7,840.62.\n",
       "\n",
       "The sales figures show that June 2024 had the highest sales, followed by May and April. July 2024 had the lowest sales among the four months, likely because the data only includes partial month sales.\n",
       "\n",
       "### Generated SQL Query\n",
       "```sql\n",
       "SELECT \n",
       "    DATE_TRUNC('month', order_date) AS month,\n",
       "    SUM(total_amount) AS total_sales\n",
       "FROM \n",
       "    orders\n",
       "WHERE\n",
       "    order_date >= DATE_TRUNC('month', CURRENT_DATE - INTERVAL '3 months')\n",
       "GROUP BY\n",
       "    month\n",
       "ORDER BY\n",
       "    month DESC;\n",
       "```\n",
       "\n",
       "### SQL Results\n",
       "\n",
       "| month | total_sales |\n",
       "| --- | --- |\n",
       "| 2024-07-01 00:00:00 | 1402.30 |\n",
       "| 2024-06-01 00:00:00 | 9022.66 |\n",
       "| 2024-05-01 00:00:00 | 7953.47 |\n",
       "| 2024-04-01 00:00:00 | 7840.62 |\n",
       "\n"
      ],
      "text/plain": [
       "<IPython.core.display.Markdown object>"
      ]
     },
     "metadata": {},
     "output_type": "display_data"
    }
   ],
   "source": [
    "question = \"\"\"Give me a summary of sales from the last three months and group per month.\"\"\"\n",
    "text_to_sql(query_engine, question, number=4)"
   ]
  },
  {
   "cell_type": "code",
   "execution_count": 16,
   "metadata": {},
   "outputs": [
    {
     "data": {
      "text/markdown": [
       "\n",
       "### Question\n",
       "\n",
       "**5.** **List top ten orders (name and description) along with the total number of items in each order in the last week.**\n",
       "\n",
       "### Answer\n",
       "\n",
       "Based on the SQL query and results, here is a synthesized response:\n",
       "\n",
       "In the last week, the top 10 orders by total number of items were:\n",
       "\n",
       "1. Oakmoss Oasis candle with 14 items ordered. This tranquil oakmoss-scented candle was the most popular.\n",
       "\n",
       "2. Orange Zest candle with 12 items ordered. Customers loved this zesty orange scent. \n",
       "\n",
       "3. Minty Fresh candle with 11 items ordered. A refreshing mint aroma made this a fan favorite.\n",
       "\n",
       "4. Pine Forest and Patchouli Passion candles tied with 9 items each. The refreshing pine and passionate patchouli scents were equally sought after.\n",
       "\n",
       "6. Cedarwood Bliss candle also had 9 items ordered, making this earthy cedarwood scent a top seller.\n",
       "\n",
       "7. Cinnamon Spice candle had 8 items ordered, satisfying cravings for a spicy cinnamon fragrance.\n",
       "\n",
       "8. Ginger Glow, Sandalwood Serenity, and Clove Comfort candles rounded out the top 10, each with 7 items ordered. These warming ginger, serene sandalwood, and comforting clove aromas were popular choices.\n",
       "\n",
       "The results highlight our customers' diverse preferences for different natural scents over the past week. From earthy to zesty to spicy, a variety of fragrances made it into the top 10 best-selling candles.\n",
       "\n",
       "### Generated SQL Query\n",
       "```sql\n",
       "SELECT p.name, p.description, SUM(oi.quantity) AS total_items\n",
       "FROM orders o\n",
       "JOIN order_items oi ON o.order_id = oi.order_id\n",
       "JOIN products p ON oi.product_id = p.product_id\n",
       "WHERE o.order_date >= NOW() - INTERVAL '1 WEEK'\n",
       "GROUP BY p.name, p.description\n",
       "ORDER BY total_items DESC\n",
       "LIMIT 10;\n",
       "```\n",
       "\n",
       "### SQL Results\n",
       "\n",
       "| name | description | total_items |\n",
       "| --- | --- | --- |\n",
       "| Oakmoss Oasis | A tranquil oakmoss-scented candle. | 14 |\n",
       "| Orange Zest | A zesty orange-scented candle. | 12 |\n",
       "| Minty Fresh | A refreshing mint-scented candle. | 11 |\n",
       "| Pine Forest | A refreshing pine-scented candle. | 9 |\n",
       "| Patchouli Passion | A passionate patchouli-scented candle. | 9 |\n",
       "| Cedarwood Bliss | An earthy cedarwood-scented candle. | 9 |\n",
       "| Cinnamon Spice | A spicy cinnamon-scented candle. | 8 |\n",
       "| Ginger Glow | A warming ginger-scented candle. | 7 |\n",
       "| Sandalwood Serenity | A serene sandalwood-scented candle. | 7 |\n",
       "| Clove Comfort | A comforting clove-scented candle. | 7 |\n",
       "\n"
      ],
      "text/plain": [
       "<IPython.core.display.Markdown object>"
      ]
     },
     "metadata": {},
     "output_type": "display_data"
    }
   ],
   "source": [
    "question = \"\"\"List top ten orders (name and description) along with the total number of items in each order in the last week.\"\"\"\n",
    "text_to_sql(query_engine, question, number=5)"
   ]
  },
  {
   "cell_type": "code",
   "execution_count": 18,
   "metadata": {},
   "outputs": [
    {
     "data": {
      "text/markdown": [
       "\n",
       "### Question\n",
       "\n",
       "**6.** **Retrieve the average rating for each product, just return the top 10 products.**\n",
       "\n",
       "### Answer\n",
       "\n",
       "Based on the SQL query and results, here is a possible response:\n",
       "\n",
       "The top 10 highest rated products based on average customer ratings are:\n",
       "\n",
       "1. Nutmeg Nook with an average rating of 3.45\n",
       "2. Ocean Breeze with an average rating of 3.41\n",
       "3. Minty Fresh with an average rating of 3.26\n",
       "4. Cedarwood Bliss with an average rating of 3.25  \n",
       "5. Oakmoss Oasis with an average rating of 3.22\n",
       "6. Eucalyptus Escape with an average rating of 3.19\n",
       "7. Apple Delight with an average rating of 3.18\n",
       "8. Cardamom Charm with an average rating of 3.15\n",
       "9. Pineapple Paradise with an average rating of 3.11\n",
       "10. Berry Bliss with an average rating of 3.10\n",
       "\n",
       "The query retrieves the product names and calculates the average rating for each product from the reviews table. It orders the results by the average rating in descending order and limits the output to the top 10 products. This allows us to highlight the most highly rated products based on customer feedback.\n",
       "\n",
       "### Generated SQL Query\n",
       "```sql\n",
       "SELECT p.name, AVG(r.rating) AS average_rating\n",
       "FROM products p\n",
       "JOIN reviews r ON p.product_id = r.product_id\n",
       "GROUP BY p.name\n",
       "ORDER BY average_rating DESC\n",
       "LIMIT 10;\n",
       "```\n",
       "\n",
       "### SQL Results\n",
       "\n",
       "| name | average_rating |\n",
       "| --- | --- |\n",
       "| Nutmeg Nook | 3.4500000000000000 |\n",
       "| Ocean Breeze | 3.4117647058823529 |\n",
       "| Minty Fresh | 3.2608695652173913 |\n",
       "| Cedarwood Bliss | 3.2500000000000000 |\n",
       "| Oakmoss Oasis | 3.2187500000000000 |\n",
       "| Eucalyptus Escape | 3.1923076923076923 |\n",
       "| Apple Delight | 3.1818181818181818 |\n",
       "| Cardamom Charm | 3.1481481481481481 |\n",
       "| Pineapple Paradise | 3.1111111111111111 |\n",
       "| Berry Bliss | 3.0952380952380952 |\n",
       "\n"
      ],
      "text/plain": [
       "<IPython.core.display.Markdown object>"
      ]
     },
     "metadata": {},
     "output_type": "display_data"
    }
   ],
   "source": [
    "question = \"\"\"Retrieve the average rating for each product, just return the top 10 products.\"\"\"\n",
    "text_to_sql(query_engine, question, number=6)"
   ]
  },
  {
   "cell_type": "code",
   "execution_count": 21,
   "metadata": {},
   "outputs": [
    {
     "data": {
      "text/markdown": [
       "\n",
       "### Question\n",
       "\n",
       "**7.** **Find the user (firstname and lastname) who placed the highest total amount of orders. And include the total amount of orders placed by this user.**\n",
       "\n",
       "### Answer\n",
       "\n",
       "Based on the SQL query and the response, the user who placed the highest total amount of orders is Paula Martinez, with a total order amount of $6405.77.\n",
       "\n",
       "### Generated SQL Query\n",
       "```sql\n",
       "SELECT u.first_name, u.last_name, SUM(o.total_amount) AS total_order_amount\n",
       "FROM users u\n",
       "JOIN orders o ON u.user_id = o.user_id\n",
       "GROUP BY u.first_name, u.last_name\n",
       "ORDER BY total_order_amount DESC\n",
       "LIMIT 1;\n",
       "```\n",
       "\n",
       "### SQL Results\n",
       "\n",
       "| first_name | last_name | total_order_amount |\n",
       "| --- | --- | --- |\n",
       "| Paula | Martinez | 6405.77 |\n",
       "\n"
      ],
      "text/plain": [
       "<IPython.core.display.Markdown object>"
      ]
     },
     "metadata": {},
     "output_type": "display_data"
    }
   ],
   "source": [
    "question = \"\"\"Find the user (firstname and lastname) who placed the highest total amount of orders. And include the total amount of orders placed by this user.\"\"\"\n",
    "text_to_sql(query_engine, question, number=7)"
   ]
  },
  {
   "cell_type": "code",
   "execution_count": 22,
   "metadata": {},
   "outputs": [
    {
     "data": {
      "text/markdown": [
       "\n",
       "### Question\n",
       "\n",
       "**8.** **Get the month-by-month sales total for the past year.**\n",
       "\n",
       "### Answer\n",
       "\n",
       "Based on the SQL query and results, here is a synthesized response:\n",
       "\n",
       "The month-by-month sales totals for the past year show that sales were highest in June 2024 at $9,022.66. The next highest months were March 2024 at $9,333.30 and December 2023 at $9,260.40. Sales were lowest in July 2023 at $6,493.30 and July 2024 at $1,402.30, though the current month is only partially complete. Overall, sales remained fairly consistent throughout the year, ranging from around $7,000 to $9,000 per month for most months, with a few peaks over $9,000. The total sales for the 12-month period was $100,847.32.\n",
       "\n",
       "### Generated SQL Query\n",
       "```sql\n",
       "SELECT DATE_TRUNC('month', order_date) AS month, SUM(total_amount) AS total_sales\n",
       "FROM orders\n",
       "WHERE order_date >= NOW() - INTERVAL '1 year'\n",
       "GROUP BY DATE_TRUNC('month', order_date)\n",
       "ORDER BY month DESC;\n",
       "```\n",
       "\n",
       "### SQL Results\n",
       "\n",
       "| month | total_sales |\n",
       "| --- | --- |\n",
       "| 2024-07-01 00:00:00 | 1402.30 |\n",
       "| 2024-06-01 00:00:00 | 9022.66 |\n",
       "| 2024-05-01 00:00:00 | 7953.47 |\n",
       "| 2024-04-01 00:00:00 | 7840.62 |\n",
       "| 2024-03-01 00:00:00 | 9333.30 |\n",
       "| 2024-02-01 00:00:00 | 8226.47 |\n",
       "| 2024-01-01 00:00:00 | 8910.12 |\n",
       "| 2023-12-01 00:00:00 | 9260.40 |\n",
       "| 2023-11-01 00:00:00 | 8636.59 |\n",
       "| 2023-10-01 00:00:00 | 7955.52 |\n",
       "| 2023-09-01 00:00:00 | 8056.06 |\n",
       "| 2023-08-01 00:00:00 | 7249.51 |\n",
       "| 2023-07-01 00:00:00 | 6493.30 |\n",
       "\n"
      ],
      "text/plain": [
       "<IPython.core.display.Markdown object>"
      ]
     },
     "metadata": {},
     "output_type": "display_data"
    }
   ],
   "source": [
    "question = \"\"\"Get the month-by-month sales total for the past year.\"\"\"\n",
    "text_to_sql(query_engine, question, number=8)"
   ]
  },
  {
   "cell_type": "code",
   "execution_count": 25,
   "metadata": {},
   "outputs": [
    {
     "data": {
      "text/markdown": [
       "\n",
       "### Question\n",
       "\n",
       "**9.** **Find the top three popular product categories based on the number of orders.**\n",
       "\n",
       "### Answer\n",
       "\n",
       "Based on the SQL query and results, the top three most popular product categories based on the number of orders are:\n",
       "\n",
       "1. Spicy (484 orders)\n",
       "2. Earthy (484 orders) \n",
       "3. Floral (436 orders)\n",
       "\n",
       "The query first joins the categories, products, and order_items tables to connect the category information with the order details. It then groups the results by category name and counts the number of order_ids for each category. Finally, it orders the results by the order count in descending order and limits the output to the top 3 rows.\n",
       "\n",
       "### Generated SQL Query\n",
       "```sql\n",
       "SELECT c.name, COUNT(oi.order_id) AS order_count\n",
       "FROM categories c\n",
       "JOIN products p ON c.category_id = p.category_id\n",
       "JOIN order_items oi ON p.product_id = oi.product_id\n",
       "GROUP BY c.name\n",
       "ORDER BY order_count DESC\n",
       "LIMIT 3;\n",
       "```\n",
       "\n",
       "### SQL Results\n",
       "\n",
       "| name | order_count |\n",
       "| --- | --- |\n",
       "| Spicy | 484 |\n",
       "| Earthy | 484 |\n",
       "| Floral | 436 |\n",
       "\n"
      ],
      "text/plain": [
       "<IPython.core.display.Markdown object>"
      ]
     },
     "metadata": {},
     "output_type": "display_data"
    }
   ],
   "source": [
    "question = \"\"\"Find the top three popular product categories based on the number of orders.\"\"\"\n",
    "text_to_sql(query_engine, question, number=9)"
   ]
  },
  {
   "cell_type": "code",
   "execution_count": 35,
   "metadata": {},
   "outputs": [
    {
     "data": {
      "text/markdown": [
       "\n",
       "### Question\n",
       "\n",
       "**10.** **Identify trends in product ratings over the last quarter and group by product and month.**\n",
       "\n",
       "### Answer\n",
       "\n",
       "Based on the query results, here are the key trends in product ratings over the last quarter, grouped by product and month:\n",
       "\n",
       "For the most recent month (July 2024):\n",
       "- The top rated products with a perfect 5.0 average rating were Cedarwood Bliss, Nutmeg Nook, Rose Garden, Oakmoss Oasis, and Herbal Harmony.\n",
       "- The lowest rated products were Pineapple Paradise and Eucalyptus Escape with an average of just 1.0.\n",
       "\n",
       "In June 2024:\n",
       "- Violet Petals had the highest average rating of 5.0.\n",
       "- Several products like Citrus Splash, Eucalyptus Escape, Ocean Breeze, and Minty Fresh had relatively high ratings around 4.0.\n",
       "- Lower rated products included Cardamom Charm, Herbal Harmony (1.5), Orange Zest and Sandalwood Serenity (2.0).\n",
       "\n",
       "For May 2024: \n",
       "- Cinnamon Spice was the top rated product with 5.0 average.\n",
       "- Tropical Mango, Herbal Harmony, Cedarwood Bliss and Nutmeg Nook all had high ratings around 4.0-4.5.\n",
       "- The lowest rated were Ocean Breeze and Ginger Glow at just 1.0.\n",
       "\n",
       "In April 2024:\n",
       "- Rose Garden had a perfect 5.0 rating. \n",
       "- Apple Delight, Berry Bliss and Violet Petals were also highly rated around 4.0.\n",
       "- The lowest rated products were Herbal Harmony, Pine Forest and Cinnamon Spice at just 1.0.\n",
       "\n",
       "So in summary, the top consistently highly rated products were Cedarwood Bliss, Nutmeg Nook, Rose Garden and Violet Petals. The lowest rated tended to be Pineapple Paradise, Eucalyptus Escape, Herbal Harmony and Cinnamon Spice, though ratings varied month-to-month.\n",
       "\n",
       "### Generated SQL Query\n",
       "```sql\n",
       "SELECT p.name, DATE_TRUNC('month', r.created_at) AS month, AVG(r.rating) AS avg_rating\n",
       "FROM reviews r\n",
       "JOIN products p ON r.product_id = p.product_id\n",
       "WHERE r.created_at >= DATE_TRUNC('quarter', CURRENT_DATE) - INTERVAL '3 MONTH'\n",
       "GROUP BY p.name, DATE_TRUNC('month', r.created_at)\n",
       "ORDER BY month DESC, avg_rating DESC;\n",
       "```\n",
       "\n",
       "### SQL Results\n",
       "\n",
       "| name | month | avg_rating |\n",
       "| --- | --- | --- |\n",
       "| Cedarwood Bliss | 2024-07-01 00:00:00 | 5.0000000000000000 |\n",
       "| Nutmeg Nook | 2024-07-01 00:00:00 | 5.0000000000000000 |\n",
       "| Rose Garden | 2024-07-01 00:00:00 | 5.0000000000000000 |\n",
       "| Oakmoss Oasis | 2024-07-01 00:00:00 | 5.0000000000000000 |\n",
       "| Herbal Harmony | 2024-07-01 00:00:00 | 5.0000000000000000 |\n",
       "| Berry Bliss | 2024-07-01 00:00:00 | 2.0000000000000000 |\n",
       "| Pineapple Paradise | 2024-07-01 00:00:00 | 1.00000000000000000000 |\n",
       "| Eucalyptus Escape | 2024-07-01 00:00:00 | 1.00000000000000000000 |\n",
       "| Violet Petals | 2024-06-01 00:00:00 | 5.0000000000000000 |\n",
       "| Citrus Splash | 2024-06-01 00:00:00 | 4.0000000000000000 |\n",
       "| Eucalyptus Escape | 2024-06-01 00:00:00 | 4.0000000000000000 |\n",
       "| Ocean Breeze | 2024-06-01 00:00:00 | 4.0000000000000000 |\n",
       "| Minty Fresh | 2024-06-01 00:00:00 | 3.8000000000000000 |\n",
       "| Clove Comfort | 2024-06-01 00:00:00 | 3.6666666666666667 |\n",
       "| Pineapple Paradise | 2024-06-01 00:00:00 | 3.3333333333333333 |\n",
       "| Nutmeg Nook | 2024-06-01 00:00:00 | 3.0000000000000000 |\n",
       "| Berry Bliss | 2024-06-01 00:00:00 | 3.0000000000000000 |\n",
       "| Cinnamon Spice | 2024-06-01 00:00:00 | 3.0000000000000000 |\n",
       "| Ginger Glow | 2024-06-01 00:00:00 | 3.0000000000000000 |\n",
       "| Tropical Mango | 2024-06-01 00:00:00 | 3.0000000000000000 |\n",
       "| Apple Delight | 2024-06-01 00:00:00 | 3.0000000000000000 |\n",
       "| Lavender Dream | 2024-06-01 00:00:00 | 3.0000000000000000 |\n",
       "| Oakmoss Oasis | 2024-06-01 00:00:00 | 2.7500000000000000 |\n",
       "| Patchouli Passion | 2024-06-01 00:00:00 | 2.6666666666666667 |\n",
       "| Rose Garden | 2024-06-01 00:00:00 | 2.3333333333333333 |\n",
       "| Orange Zest | 2024-06-01 00:00:00 | 2.0000000000000000 |\n",
       "| Sandalwood Serenity | 2024-06-01 00:00:00 | 2.0000000000000000 |\n",
       "| Cardamom Charm | 2024-06-01 00:00:00 | 1.5000000000000000 |\n",
       "| Herbal Harmony | 2024-06-01 00:00:00 | 1.5000000000000000 |\n",
       "| Cinnamon Spice | 2024-05-01 00:00:00 | 5.0000000000000000 |\n",
       "| Tropical Mango | 2024-05-01 00:00:00 | 4.5000000000000000 |\n",
       "| Herbal Harmony | 2024-05-01 00:00:00 | 4.0000000000000000 |\n",
       "| Cedarwood Bliss | 2024-05-01 00:00:00 | 4.0000000000000000 |\n",
       "| Nutmeg Nook | 2024-05-01 00:00:00 | 4.0000000000000000 |\n",
       "| Orange Zest | 2024-05-01 00:00:00 | 3.6666666666666667 |\n",
       "| Violet Petals | 2024-05-01 00:00:00 | 3.5000000000000000 |\n",
       "| Patchouli Passion | 2024-05-01 00:00:00 | 3.5000000000000000 |\n",
       "| Eucalyptus Escape | 2024-05-01 00:00:00 | 3.2000000000000000 |\n",
       "| Minty Fresh | 2024-05-01 00:00:00 | 3.0000000000000000 |\n",
       "| Clove Comfort | 2024-05-01 00:00:00 | 3.0000000000000000 |\n",
       "| Cardamom Charm | 2024-05-01 00:00:00 | 2.7500000000000000 |\n",
       "| Jasmine Bloom | 2024-05-01 00:00:00 | 2.6666666666666667 |\n",
       "| Lily of the Valley | 2024-05-01 00:00:00 | 2.6666666666666667 |\n",
       "| Rose Garden | 2024-05-01 00:00:00 | 2.5000000000000000 |\n",
       "| Pineapple Paradise | 2024-05-01 00:00:00 | 2.5000000000000000 |\n",
       "| Oakmoss Oasis | 2024-05-01 00:00:00 | 2.5000000000000000 |\n",
       "| Berry Bliss | 2024-05-01 00:00:00 | 2.0000000000000000 |\n",
       "| Apple Delight | 2024-05-01 00:00:00 | 2.0000000000000000 |\n",
       "| Lavender Dream | 2024-05-01 00:00:00 | 2.0000000000000000 |\n",
       "| Pine Forest | 2024-05-01 00:00:00 | 2.0000000000000000 |\n",
       "| Citrus Splash | 2024-05-01 00:00:00 | 1.5000000000000000 |\n",
       "| Ocean Breeze | 2024-05-01 00:00:00 | 1.00000000000000000000 |\n",
       "| Ginger Glow | 2024-05-01 00:00:00 | 1.00000000000000000000 |\n",
       "| Rose Garden | 2024-04-01 00:00:00 | 5.0000000000000000 |\n",
       "| Apple Delight | 2024-04-01 00:00:00 | 4.0000000000000000 |\n",
       "| Berry Bliss | 2024-04-01 00:00:00 | 4.0000000000000000 |\n",
       "| Violet Petals | 2024-04-01 00:00:00 | 3.7500000000000000 |\n",
       "| Nutmeg Nook | 2024-04-01 00:00:00 | 3.5000000000000000 |\n",
       "| Patchouli Passion | 2024-04-01 00:00:00 | 3.5000000000000000 |\n",
       "| Citrus Splash | 2024-04-01 00:00:00 | 3.3333333333333333 |\n",
       "| Lily of the Valley | 2024-04-01 00:00:00 | 3.0000000000000000 |\n",
       "| Minty Fresh | 2024-04-01 00:00:00 | 3.0000000000000000 |\n",
       "| Oakmoss Oasis | 2024-04-01 00:00:00 | 3.0000000000000000 |\n",
       "| Clove Comfort | 2024-04-01 00:00:00 | 3.0000000000000000 |\n",
       "| Ginger Glow | 2024-04-01 00:00:00 | 3.0000000000000000 |\n",
       "| Ocean Breeze | 2024-04-01 00:00:00 | 2.0000000000000000 |\n",
       "| Pineapple Paradise | 2024-04-01 00:00:00 | 2.0000000000000000 |\n",
       "| Sandalwood Serenity | 2024-04-01 00:00:00 | 2.0000000000000000 |\n",
       "| Orange Zest | 2024-04-01 00:00:00 | 2.0000000000000000 |\n",
       "| Jasmine Bloom | 2024-04-01 00:00:00 | 1.6666666666666667 |\n",
       "| Tropical Mango | 2024-04-01 00:00:00 | 1.3333333333333333 |\n",
       "| Herbal Harmony | 2024-04-01 00:00:00 | 1.00000000000000000000 |\n",
       "| Pine Forest | 2024-04-01 00:00:00 | 1.00000000000000000000 |\n",
       "| Cinnamon Spice | 2024-04-01 00:00:00 | 1.00000000000000000000 |\n",
       "\n"
      ],
      "text/plain": [
       "<IPython.core.display.Markdown object>"
      ]
     },
     "metadata": {},
     "output_type": "display_data"
    }
   ],
   "source": [
    "question = \"\"\"Identify trends in product ratings over the last quarter and group by product and month.\"\"\"\n",
    "text_to_sql(query_engine, question, number=10)"
   ]
  },
  {
   "cell_type": "code",
   "execution_count": 29,
   "metadata": {},
   "outputs": [
    {
     "data": {
      "text/markdown": [
       "\n",
       "### Question\n",
       "\n",
       "**11.** **Calculate the average order value (AOV) for each user (firstname and lastname). Just give me the top 10 users.**\n",
       "\n",
       "### Answer\n",
       "\n",
       "Here is the response synthesized from the SQL query results:\n",
       "\n",
       "The top 10 users by average order value (AOV) are:\n",
       "\n",
       "1. Bob Brown with an average order value of $100.22\n",
       "2. Nina Thomas with an average order value of $97.26\n",
       "3. Jane Smith with an average order value of $97.16\n",
       "4. Paula Martinez with an average order value of $95.61\n",
       "5. Alice Jones with an average order value of $93.67\n",
       "6. Laura Moore with an average order value of $92.65\n",
       "7. Hannah Clark with an average order value of $92.37\n",
       "8. Diana Evans with an average order value of $90.87\n",
       "9. George White with an average order value of $90.17\n",
       "10. John Doe with an average order value of $89.36\n",
       "\n",
       "The query calculates the average total order amount grouped by the first and last name of each user, orders the results by the average order value in descending order, and limits the output to the top 10 rows.\n",
       "\n",
       "### Generated SQL Query\n",
       "```sql\n",
       "SELECT u.first_name, u.last_name, AVG(o.total_amount) AS avg_order_value\n",
       "FROM users u\n",
       "JOIN orders o ON u.user_id = o.user_id\n",
       "GROUP BY u.first_name, u.last_name\n",
       "ORDER BY avg_order_value DESC\n",
       "LIMIT 10;\n",
       "```\n",
       "\n",
       "### SQL Results\n",
       "\n",
       "| first_name | last_name | avg_order_value |\n",
       "| --- | --- | --- |\n",
       "| Bob | Brown | 100.2212244897959184 |\n",
       "| Nina | Thomas | 97.2570000000000000 |\n",
       "| Jane | Smith | 97.1598275862068966 |\n",
       "| Paula | Martinez | 95.6085074626865672 |\n",
       "| Alice | Jones | 93.6657446808510638 |\n",
       "| Laura | Moore | 92.6505769230769231 |\n",
       "| Hannah | Clark | 92.3651470588235294 |\n",
       "| Diana | Evans | 90.8719642857142857 |\n",
       "| George | White | 90.1746875000000000 |\n",
       "| John | Doe | 89.3596774193548387 |\n",
       "\n"
      ],
      "text/plain": [
       "<IPython.core.display.Markdown object>"
      ]
     },
     "metadata": {},
     "output_type": "display_data"
    }
   ],
   "source": [
    "question = \"\"\"Calculate the average order value (AOV) for each user (firstname and lastname). Just give me the top 10 users.\"\"\"\n",
    "text_to_sql(query_engine, question, number=11)"
   ]
  },
  {
   "cell_type": "code",
   "execution_count": 30,
   "metadata": {},
   "outputs": [
    {
     "data": {
      "text/markdown": [
       "\n",
       "### Question\n",
       "\n",
       "**11.** **Berechnen Sie den durchschnittlichen Bestellwert für jeden Benutzer (Vorname und Nachname). Geben Sie nur die Top-10-Benutzer an.**\n",
       "\n",
       "### Answer\n",
       "\n",
       "Die Abfrage berechnet den durchschnittlichen Bestellwert für jeden Benutzer und gibt die Top 10 Benutzer mit dem höchsten durchschnittlichen Bestellwert aus. Basierend auf den Ergebnissen lautet die Antwort:\n",
       "\n",
       "Die Top 10 Benutzer mit dem höchsten durchschnittlichen Bestellwert sind:\n",
       "\n",
       "1. Bob Brown mit einem durchschnittlichen Bestellwert von 100,22\n",
       "2. Nina Thomas mit 97,26\n",
       "3. Jane Smith mit 97,16 \n",
       "4. Paula Martinez mit 95,61\n",
       "5. Alice Jones mit 93,67\n",
       "6. Laura Moore mit 92,65\n",
       "7. Hannah Clark mit 92,37\n",
       "8. Diana Evans mit 90,87\n",
       "9. George White mit 90,17\n",
       "10. John Doe mit 89,36\n",
       "\n",
       "### Generated SQL Query\n",
       "```sql\n",
       "SELECT u.first_name, u.last_name, AVG(o.total_amount) AS avg_order_value\n",
       "FROM users u\n",
       "JOIN orders o ON u.user_id = o.user_id\n",
       "GROUP BY u.first_name, u.last_name\n",
       "ORDER BY avg_order_value DESC\n",
       "LIMIT 10;\n",
       "```\n",
       "\n",
       "### SQL Results\n",
       "\n",
       "| first_name | last_name | avg_order_value |\n",
       "| --- | --- | --- |\n",
       "| Bob | Brown | 100.2212244897959184 |\n",
       "| Nina | Thomas | 97.2570000000000000 |\n",
       "| Jane | Smith | 97.1598275862068966 |\n",
       "| Paula | Martinez | 95.6085074626865672 |\n",
       "| Alice | Jones | 93.6657446808510638 |\n",
       "| Laura | Moore | 92.6505769230769231 |\n",
       "| Hannah | Clark | 92.3651470588235294 |\n",
       "| Diana | Evans | 90.8719642857142857 |\n",
       "| George | White | 90.1746875000000000 |\n",
       "| John | Doe | 89.3596774193548387 |\n",
       "\n"
      ],
      "text/plain": [
       "<IPython.core.display.Markdown object>"
      ]
     },
     "metadata": {},
     "output_type": "display_data"
    }
   ],
   "source": [
    "question = \"\"\"Berechnen Sie den durchschnittlichen Bestellwert für jeden Benutzer (Vorname und Nachname). Geben Sie nur die Top-10-Benutzer an.\"\"\"\n",
    "# Now query in German (Calculate the average order value for each user (firstname and lastname). Just give me the top 10 users.)\n",
    "text_to_sql(query_engine, question, number=11)"
   ]
  },
  {
   "cell_type": "code",
   "execution_count": 31,
   "metadata": {},
   "outputs": [
    {
     "data": {
      "text/markdown": [
       "\n",
       "### Question\n",
       "\n",
       "**12.** **각 사용자(이름 및 성)의 평균 주문 가치를 계산하십시오. 상위 10명의 사용자만 표시하십시오.**\n",
       "\n",
       "### Answer\n",
       "\n",
       "이 쿼리는 각 사용자의 평균 주문 금액을 계산하고 상위 10명의 사용자를 표시합니다. 결과에 따르면 Bob Brown이 평균 주문 금액 $100.22로 가장 높았고, 그 다음으로 Nina Thomas, Jane Smith, Paula Martinez 순입니다. 상위 10명의 사용자 이름과 성, 그리고 각각의 평균 주문 금액이 표시되어 있습니다.\n",
       "\n",
       "### Generated SQL Query\n",
       "```sql\n",
       "SELECT u.first_name, u.last_name, AVG(o.total_amount) AS avg_order_value\n",
       "FROM users u\n",
       "JOIN orders o ON u.user_id = o.user_id\n",
       "GROUP BY u.first_name, u.last_name\n",
       "ORDER BY avg_order_value DESC\n",
       "LIMIT 10;\n",
       "```\n",
       "\n",
       "### SQL Results\n",
       "\n",
       "| first_name | last_name | avg_order_value |\n",
       "| --- | --- | --- |\n",
       "| Bob | Brown | 100.2212244897959184 |\n",
       "| Nina | Thomas | 97.2570000000000000 |\n",
       "| Jane | Smith | 97.1598275862068966 |\n",
       "| Paula | Martinez | 95.6085074626865672 |\n",
       "| Alice | Jones | 93.6657446808510638 |\n",
       "| Laura | Moore | 92.6505769230769231 |\n",
       "| Hannah | Clark | 92.3651470588235294 |\n",
       "| Diana | Evans | 90.8719642857142857 |\n",
       "| George | White | 90.1746875000000000 |\n",
       "| John | Doe | 89.3596774193548387 |\n",
       "\n"
      ],
      "text/plain": [
       "<IPython.core.display.Markdown object>"
      ]
     },
     "metadata": {},
     "output_type": "display_data"
    }
   ],
   "source": [
    "question = \"\"\"각 사용자(이름 및 성)의 평균 주문 가치를 계산하십시오. 상위 10명의 사용자만 표시하십시오.\"\"\"\n",
    "# Now query in Korean (Calculate the average order value for each user (firstname and lastname). Just give me the top 10 users.)\n",
    "text_to_sql(query_engine, question, number=12)"
   ]
  },
  {
   "cell_type": "code",
   "execution_count": 32,
   "metadata": {},
   "outputs": [
    {
     "data": {
      "text/markdown": [
       "\n",
       "### Question\n",
       "\n",
       "**13.** **Kalkulahin ang average na halaga ng order para sa bawat user (pangalan at apelyido). Ipakita lamang ang nangungunang 10 mga user.**\n",
       "\n",
       "### Answer\n",
       "\n",
       "Batay sa query na iyon, nakuha natin ang nangungunang 10 mga user na may pinakamalaking average na halaga ng order. Ang resulta ay nakalista ng pangalan at apelyido ng user, kasama ang kanilang average order amount na nakasunod-sunod mula sa pinakamalaki hanggang ika-10. Halimbawa, si Bob Brown ang may pinakamalaking average order amount na $100.22, sinusundan ni Nina Thomas na $97.26, Jane Smith na $97.16, at iba pa. Ang query na ito ay nakatuon sa pagsusuri ng gastos ng mga customer batay sa kanilang mga nakalipas na order upang makapagbigay ng ideya kung sino ang mga pinakamahalagang customer sa negosyo.\n",
       "\n",
       "### Generated SQL Query\n",
       "```sql\n",
       "SELECT u.first_name, u.last_name, AVG(o.total_amount) AS average_order_amount\n",
       "FROM users u\n",
       "JOIN orders o ON u.user_id = o.user_id\n",
       "GROUP BY u.first_name, u.last_name\n",
       "ORDER BY average_order_amount DESC\n",
       "LIMIT 10;\n",
       "```\n",
       "\n",
       "### SQL Results\n",
       "\n",
       "| first_name | last_name | average_order_amount |\n",
       "| --- | --- | --- |\n",
       "| Bob | Brown | 100.2212244897959184 |\n",
       "| Nina | Thomas | 97.2570000000000000 |\n",
       "| Jane | Smith | 97.1598275862068966 |\n",
       "| Paula | Martinez | 95.6085074626865672 |\n",
       "| Alice | Jones | 93.6657446808510638 |\n",
       "| Laura | Moore | 92.6505769230769231 |\n",
       "| Hannah | Clark | 92.3651470588235294 |\n",
       "| Diana | Evans | 90.8719642857142857 |\n",
       "| George | White | 90.1746875000000000 |\n",
       "| John | Doe | 89.3596774193548387 |\n",
       "\n"
      ],
      "text/plain": [
       "<IPython.core.display.Markdown object>"
      ]
     },
     "metadata": {},
     "output_type": "display_data"
    }
   ],
   "source": [
    "question = \"\"\"Kalkulahin ang average na halaga ng order para sa bawat user (pangalan at apelyido). Ipakita lamang ang nangungunang 10 mga user.\"\"\"\n",
    "# Now query in Filipino (Calculate the average order value for each user (firstname and lastname). Just give me the top 10 users.)\n",
    "text_to_sql(query_engine, question, number=13)"
   ]
  }
 ],
 "metadata": {
  "kernelspec": {
   "display_name": ".venv",
   "language": "python",
   "name": "python3"
  },
  "language_info": {
   "codemirror_mode": {
    "name": "ipython",
    "version": 3
   },
   "file_extension": ".py",
   "mimetype": "text/x-python",
   "name": "python",
   "nbconvert_exporter": "python",
   "pygments_lexer": "ipython3",
   "version": "3.12.0"
  }
 },
 "nbformat": 4,
 "nbformat_minor": 2
}
